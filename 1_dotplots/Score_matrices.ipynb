{
 "cells": [
  {
   "cell_type": "markdown",
   "metadata": {},
   "source": [
    "# Scoring Matrices\n",
    "## generic score matrices\n",
    "\n",
    "Score matrices have the general form:\n",
    "\n",
    "\n",
    "\n",
    "$$\n",
    "\\begin{bmatrix}\n",
    "    S(a_1, a_1)       & S(a_2, a_1) &  \\dots & S(a_n, a_1) \\\\\n",
    "    S(a_1, a_2)       & S(a_2, a_2) &  \\dots & S(a_n, a_2) \\\\\n",
    "    \\vdots{} \\\\\n",
    "    S(a_1, a_n)       & S(a_2, a_n) &  \\dots & S(a_n, a_n)\n",
    "\\end{bmatrix}\n",
    "$$\n",
    "\n",
    "Where $a$ is set of elements/letters/bases that receive a score according to how a particular one is substituted.\n",
    "We then have a scoring function $S(a_i, b_i)$ which outputs a single value according to its inputs, two elements to be compared.\n",
    "For example, consider the language analogy, comparing the two words: \n",
    "\n",
    "biologi\n",
    "biology\n",
    "\n",
    "Presupposing these two words are related and that we want to find the best alignment - i.e. the one which tells us which individual letters correspond to which. We might for example, want to penalize the substitution of vowels less than consonants, as linguistic studies have shown that vowels are some of the most change-prone letters of alphabets. \n",
    "b\n",
    "g\n",
    "i\n",
    "l\n",
    "o\n",
    "y\n",
    "\n",
    "\n",
    "\n",
    "## identity-score matrix\n",
    "Let's build the simplest type of score matrix\n",
    "\n",
    "$$\n",
    "\\begin{bmatrix}\n",
    "    b       & 1    \\\\\n",
    "    g       & 0 &  1    \\\\\n",
    "    i       & 0 &  0 & 1  \\\\\n",
    "    l       & 0 &  0 & 0 & 1  \\\\\n",
    "    o       & 0 &  0 & 0 & 0 & 1  \\\\ \n",
    "    y       & 0 &  0 & 0 & 0 & 0 & 1   \\\\\n",
    "            & b &  g & i & l & o & y   \n",
    "\\end{bmatrix}\n",
    "$$\n",
    "\n",
    "## now let's add a penalty for consant-related mismatches\n",
    "$$\n",
    "\\begin{bmatrix}\n",
    "    b       & 1    \\\\\n",
    "    g       & -1 &  1    \\\\\n",
    "    i       & -1 &  -1 & 1  \\\\\n",
    "    l       & -1 &  -1 & -1 & 1  \\\\\n",
    "    o       & -1 &  -1 & 0  & -1 & 1  \\\\ \n",
    "    y       & -1 &  -1 & 0  & -1 & 0 & 1   \\\\\n",
    "            & b  &  g  & i  & l  & o & y   \n",
    "\\end{bmatrix}\n",
    "$$\n",
    "\n",
    "##Now try scoring some different alignments.\n",
    "For simplicity, we'll just score those regions that have a corresponding base to compare to rather than considering gaps.\n",
    "So an example alignment is:\n",
    "--biology\n",
    "biologi--\n",
    "score = S(b,o) + S(i,l) + S(o,o) + S(l,g) + S(o,i) = -1 + -1 + 1 + -1 + 0 = -2\n",
    "\n",
    "biology\n",
    "biologi\n",
    "score = S(b,b) + S(i,i) + S(o,o) + S(l,l) + S(o,o) + S(g,g) + S (y,i) = 6\n",
    "\n",
    "Note that maximum possible score with our matrix is 7.\n",
    "\n",
    "If we were to go deeper with the linguistic analogy, we might consider penalizing a y -> i substition less than a o -> i substitution. The underlying principle behind our intuition is our degree of \"surprise\" or expectation due to our knowledge of the statistical distribution of letters in English and Swedish. The same principle can be applied to biological strings, as some substitutions are more common than others. Let's build the classic PAM matrix for amino acid substition now.\n",
    "Taken from Zvelebil/Baum, 2008"
   ]
  },
  {
   "cell_type": "code",
   "execution_count": 99,
   "metadata": {},
   "outputs": [],
   "source": [
    "%matplotlib inline\n",
    "\n",
    "\n",
    "def compare_pam120(string1,string2):\n",
    "    import numpy as np\n",
    "    import matplotlib.pyplot as plt\n",
    "    import seaborn\n",
    "    seaborn.set()\n",
    "    aa_index = {'c': 0, 's': 1, 't': 2, 'p': 3, 'a': 4, 'g': 5, 'n': 6, 'd': 7\n",
    "               , 'e': 8, 'q': 9, 'h': 10, 'r': 11, 'k': 12, 'm': 13, 'i': 14, 'l': 15\n",
    "               , 'v': 16, 'f': 17, 'y': 18, 'w': 19}\n",
    "    PAM120 = np.array([ [9]\n",
    "                       ,[-1, 3]\n",
    "                       ,[-3, 2, 4]\n",
    "\n",
    "                       ,[-3, 1,-1, 6]\n",
    "                       ,[-3, 1, 1, 1, 3]\n",
    "                       ,[-5, 1,-1,-2, 1, 5]\n",
    "\n",
    "                       ,[-5, 1, 0,-2, 0, 0, 4]                   \n",
    "                       ,[-7, 0,-1,-2, 0, 0, 2, 5]\n",
    "                       ,[-7,-1,-2,-1, 0,-1, 1, 3, 5]\n",
    "                       ,[-7,-2,-2, 0,-1,-3, 0, 1, 2, 6]\n",
    "\n",
    "                       ,[-4,-2,-3,-1,-3,-4, 2, 0,-1, 3, 7]\n",
    "                       ,[-4,-1,-2,-1,-3,-4,-1,-3,-3, 1, 1, 6]\n",
    "                       ,[-7,-1,-1,-2,-2,-3, 1,-1,-1, 0,-2, 2, 5]\n",
    "\n",
    "                       ,[-6,-2,-1,-3,-2,-4,-3,-4,-4,-1,-4,-1, 0, 8]\n",
    "                       ,[-3,-2, 0,-3,-1,-4,-2,-3,-3,-3,-4,-2,-2, 1, 6]                   \n",
    "                       ,[-7,-4,-3,-3,-3,-5,-4,-5,-4,-2,-3,-4,-4, 3, 1, 5]\n",
    "                       ,[-2,-2, 0,-2, 0,-2,-3,-3,-3,-3,-3,-3,-4, 1, 3, 1, 5]\n",
    "\n",
    "                       ,[-6,-3,-4,-5,-4,-5,-4,-7,-6,-6,-2,-4,-6,-1, 0, 0,-3, 8]\n",
    "                       ,[-1,-3,-3,-6,-4,-6,-2,-5,-4,-5,-1,-6,-6,-4,-2,-3,-3, 4, 8]\n",
    "                       ,[-8,-2,-6,-7,-7,-8,-5,-8,-8,-6,-5, 1,-5,-7,-7,-5,-8,-1,-1,12]])\n",
    "    #string1 = 'ccsscctpagndehrvlywdeqh'\n",
    "    #string2 = 'ccsscctpagndehrvlywdeqg'\n",
    "    #string2 = 'ccscsstpagnedhrvelydeqh'\n",
    "    score = 0\n",
    "    visual = np.zeros((1,len(string1)))\n",
    "    for i in range(0,len(string1)):\n",
    "            previous_score = score\n",
    "            if aa_index[string1[i]] > aa_index[string2[i]]:\n",
    "                score += int(PAM120[int(aa_index[string1[i]])][int(aa_index[string2[i]])])\n",
    "            else:\n",
    "                score += int(PAM120[int(aa_index[string2[i]])][int(aa_index[string1[i]])])\n",
    "            print score-previous_score, score, aa_index[string1[i]], aa_index[string2[i]], i, j, string1[i], string1[i]\n",
    "            visual[0,i] = score-previous_score\n",
    "    print \"final score: \", score\n",
    "    plt.imshow(visual,cmap=\"seismic_r\",vmin=int(np.min(np.min(PAM120))), vmax=int(np.max(np.max(PAM120))))\n",
    "    return score"
   ]
  },
  {
   "cell_type": "code",
   "execution_count": 100,
   "metadata": {},
   "outputs": [
    {
     "name": "stdout",
     "output_type": "stream",
     "text": [
      "9 9 0 0 0 g c c\n",
      "9 18 0 0 1 g c c\n",
      "3 21 1 1 2 g s s\n",
      "3 24 1 1 3 g s s\n",
      "9 33 0 0 4 g c c\n",
      "9 42 0 0 5 g c c\n",
      "4 46 2 2 6 g t t\n",
      "6 52 3 3 7 g p p\n",
      "3 55 4 4 8 g a a\n",
      "5 60 5 5 9 g g g\n",
      "4 64 6 6 10 g n n\n",
      "5 69 7 7 11 g d d\n",
      "5 74 8 8 12 g e e\n",
      "7 81 10 10 13 g h h\n",
      "6 87 11 11 14 g r r\n",
      "5 92 16 16 15 g v v\n",
      "5 97 15 15 16 g l l\n",
      "8 105 18 18 17 g y y\n",
      "12 117 19 19 18 g w w\n",
      "5 122 7 7 19 g d d\n",
      "5 127 8 8 20 g e e\n",
      "6 133 9 9 21 g q q\n",
      "7 140 10 10 22 g h h\n",
      "final score:  140\n"
     ]
    },
    {
     "data": {
      "image/png": "[encoded data removed]",
      "text/plain": [
       "<matplotlib.figure.Figure at 0xd35bcc0>"
      ]
     },
     "metadata": {},
     "output_type": "display_data"
    }
   ],
   "source": [
    "example1 = 'ccsscctpagndehrvlywdeqh'\n",
    "perfect_match = compare_pam120(example1, example1)"
   ]
  },
  {
   "cell_type": "code",
   "execution_count": 101,
   "metadata": {},
   "outputs": [
    {
     "name": "stdout",
     "output_type": "stream",
     "text": [
      "9 9 0 0 0 g c c\n",
      "9 18 0 0 1 g c c\n",
      "3 21 1 1 2 g s s\n",
      "3 24 1 1 3 g s s\n",
      "9 33 0 0 4 g c c\n",
      "9 42 0 0 5 g c c\n",
      "4 46 2 2 6 g t t\n",
      "6 52 3 3 7 g p p\n",
      "3 55 4 4 8 g a a\n",
      "5 60 5 5 9 g g g\n",
      "0 60 6 4 10 g n n\n",
      "5 65 7 7 11 g d d\n",
      "5 70 8 8 12 g e e\n",
      "7 77 10 10 13 g h h\n",
      "-3 74 11 4 14 g r r\n",
      "5 79 16 16 15 g v v\n",
      "5 84 15 15 16 g l l\n",
      "8 92 18 18 17 g y y\n",
      "-7 85 19 4 18 g w w\n",
      "5 90 7 7 19 g d d\n",
      "5 95 8 8 20 g e e\n",
      "-1 94 9 4 21 g q q\n",
      "7 101 10 10 22 g h h\n",
      "final score:  101\n"
     ]
    },
    {
     "data": {
      "image/png": "[encoded data removed]",
      "text/plain": [
       "<matplotlib.figure.Figure at 0xcd78d30>"
      ]
     },
     "metadata": {},
     "output_type": "display_data"
    }
   ],
   "source": [
    "example2 = 'ccsscctpagadehavlyadeah'\n",
    "a_few_substitutions = compare_pam120(example1, example2)"
   ]
  },
  {
   "cell_type": "markdown",
   "metadata": {},
   "source": []
  }
 ],
 "metadata": {
  "kernelspec": {
   "display_name": "Python [conda root]",
   "language": "python",
   "name": "conda-root-py"
  },
  "language_info": {
   "codemirror_mode": {
    "name": "ipython",
    "version": 2
   },
   "file_extension": ".py",
   "mimetype": "text/x-python",
   "name": "python",
   "nbconvert_exporter": "python",
   "pygments_lexer": "ipython2",
   "version": "2.7.13"
  }
 },
 "nbformat": 4,
 "nbformat_minor": 2
}
