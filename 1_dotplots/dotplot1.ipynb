{
 "cells": [
  {
   "cell_type": "markdown",
   "metadata": {},
   "source": [
    "# Dot Plots\n",
    "## a generic and basic example\n",
    "create a matrix with each sequence as an axis\n",
    "place a 0 if there is a mismatch between the two sequences at that position\n",
    "place a 1 if there is a match\n",
    "visualize matrix by coloring a grid according to 1's or 0's\n",
    "here 1's are yellow, 0's are purple"
   ]
  },
  {
   "cell_type": "code",
   "execution_count": 2,
   "metadata": {},
   "outputs": [
    {
     "name": "stdout",
     "output_type": "stream",
     "text": [
      "g\n",
      "a\n",
      "t\n",
      "a\n",
      "a\n",
      "a\n"
     ]
    },
    {
     "data": {
      "image/png": "[encoded data removed]",
      "text/plain": [
       "<matplotlib.figure.Figure at 0x7b7c358>"
      ]
     },
     "metadata": {},
     "output_type": "display_data"
    }
   ],
   "source": [
    "%matplotlib inline\n",
    "import numpy as np\n",
    "import matplotlib.pyplot as plt\n",
    "sequence_1 = 'gatcaaaa'\n",
    "sequence_2 = 'gatgaata'\n",
    "dot_matrix = np.zeros((len(sequence_1),len(sequence_2)))\n",
    "for base in range(0,len(sequence_1)):\n",
    "    if sequence_1[base] == sequence_2[base]:\n",
    "        print sequence_1[base]\n",
    "        dot_matrix[base,base] = 1\n",
    "plt.imshow(dot_matrix)        \n",
    "plt.show()"
   ]
  }
 ],
 "metadata": {
  "kernelspec": {
   "display_name": "Python [conda root]",
   "language": "python",
   "name": "conda-root-py"
  },
  "language_info": {
   "codemirror_mode": {
    "name": "ipython",
    "version": 2
   },
   "file_extension": ".py",
   "mimetype": "text/x-python",
   "name": "python",
   "nbconvert_exporter": "python",
   "pygments_lexer": "ipython2",
   "version": "2.7.13"
  }
 },
 "nbformat": 4,
 "nbformat_minor": 2
}
