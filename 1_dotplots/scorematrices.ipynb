{
 "cells": [
  {
   "cell_type": "code",
   "execution_count": 10,
   "metadata": {
    "collapsed": false
   },
   "outputs": [],
   "source": [
    "%matplotlib inline\n",
    "import matplotlib.pyplot as plt\n",
    "\n",
    "def compare_pam120(string1,string2,fulloutput=True):\n",
    "    import numpy as np\n",
    "    import matplotlib.pyplot as plt\n",
    "\n",
    "    aa_index = {'C': 0, 'S': 1, 'T': 2, 'P': 3, 'A': 4, 'G': 5, 'N': 6, 'D': 7\n",
    "               , 'E': 8, 'Q': 9, 'H': 10, 'R': 11, 'K': 12, 'M': 13, 'I': 14, 'L': 15\n",
    "               , 'V': 16, 'F': 17, 'Y': 18, 'W': 19}\n",
    "    PAM120 = np.array([ [9]\n",
    "                       ,[-1, 3]\n",
    "                       ,[-3, 2, 4]\n",
    "\n",
    "                       ,[-3, 1,-1, 6]\n",
    "                       ,[-3, 1, 1, 1, 3]\n",
    "                       ,[-5, 1,-1,-2, 1, 5]\n",
    "\n",
    "                       ,[-5, 1, 0,-2, 0, 0, 4]                   \n",
    "                       ,[-7, 0,-1,-2, 0, 0, 2, 5]\n",
    "                       ,[-7,-1,-2,-1, 0,-1, 1, 3, 5]\n",
    "                       ,[-7,-2,-2, 0,-1,-3, 0, 1, 2, 6]\n",
    "\n",
    "                       ,[-4,-2,-3,-1,-3,-4, 2, 0,-1, 3, 7]\n",
    "                       ,[-4,-1,-2,-1,-3,-4,-1,-3,-3, 1, 1, 6]\n",
    "                       ,[-7,-1,-1,-2,-2,-3, 1,-1,-1, 0,-2, 2, 5]\n",
    "\n",
    "                       ,[-6,-2,-1,-3,-2,-4,-3,-4,-4,-1,-4,-1, 0, 8]\n",
    "                       ,[-3,-2, 0,-3,-1,-4,-2,-3,-3,-3,-4,-2,-2, 1, 6]                   \n",
    "                       ,[-7,-4,-3,-3,-3,-5,-4,-5,-4,-2,-3,-4,-4, 3, 1, 5]\n",
    "                       ,[-2,-2, 0,-2, 0,-2,-3,-3,-3,-3,-3,-3,-4, 1, 3, 1, 5]\n",
    "\n",
    "                       ,[-6,-3,-4,-5,-4,-5,-4,-7,-6,-6,-2,-4,-6,-1, 0, 0,-3, 8]\n",
    "                       ,[-1,-3,-3,-6,-4,-6,-2,-5,-4,-5,-1,-6,-6,-4,-2,-3,-3, 4, 8]\n",
    "                       ,[-8,-2,-6,-7,-7,-8,-5,-8,-8,-6,-5, 1,-5,-7,-7,-5,-8,-1,-1,12]])\n",
    "\n",
    "    score = 0\n",
    "    visual = np.zeros((1,len(string1)))\n",
    "    for i in range(0,len(string1)):\n",
    "            previous_score = score\n",
    "            if aa_index[string1[i]] > aa_index[string2[i]]:\n",
    "                score += int(PAM120[int(aa_index[string1[i]])][int(aa_index[string2[i]])])\n",
    "            else:\n",
    "                score += int(PAM120[int(aa_index[string2[i]])][int(aa_index[string1[i]])])\n",
    "            if fulloutput == True:\n",
    "                print score-previous_score, score, aa_index[string1[i]], aa_index[string2[i]], i, string1[i], string1[i]\n",
    "            visual[0,i] = score-previous_score\n",
    "    print \"final score: \", score\n",
    "    plt.imshow(visual,cmap=\"seismic_r\",vmin=int(np.min(np.min(PAM120))), vmax=int(np.max(np.max(PAM120))),interpolation='none')\n",
    "    return score"
   ]
  },
  {
   "cell_type": "code",
   "execution_count": 11,
   "metadata": {
    "collapsed": false
   },
   "outputs": [
    {
     "name": "stdout",
     "output_type": "stream",
     "text": [
      "9 9 0 0 0 C C\n",
      "9 18 0 0 1 C C\n",
      "3 21 1 1 2 S S\n",
      "3 24 1 1 3 S S\n",
      "9 33 0 0 4 C C\n",
      "9 42 0 0 5 C C\n",
      "4 46 2 2 6 T T\n",
      "6 52 3 3 7 P P\n",
      "3 55 4 4 8 A A\n",
      "5 60 5 5 9 G G\n",
      "4 64 6 6 10 N N\n",
      "5 69 7 7 11 D D\n",
      "5 74 8 8 12 E E\n",
      "7 81 10 10 13 H H\n",
      "6 87 11 11 14 R R\n",
      "5 92 16 16 15 V V\n",
      "5 97 15 15 16 L L\n",
      "8 105 18 18 17 Y Y\n",
      "12 117 19 19 18 W W\n",
      "5 122 7 7 19 D D\n",
      "5 127 8 8 20 E E\n",
      "6 133 9 9 21 Q Q\n",
      "7 140 10 10 22 H H\n",
      "final score:  140\n"
     ]
    },
    {
     "data": {
      "image/png": "[encoded data removed]",
      "text/plain": [
       "<matplotlib.figure.Figure at 0x7f5946a6b450>"
      ]
     },
     "metadata": {},
     "output_type": "display_data"
    }
   ],
   "source": [
    "example1 = 'CCSSCCTPAGNDEHRVLYWDEQH'\n",
    "perfect_match = compare_pam120(example1, example1)"
   ]
  },
  {
   "cell_type": "code",
   "execution_count": 12,
   "metadata": {
    "collapsed": false
   },
   "outputs": [
    {
     "name": "stdout",
     "output_type": "stream",
     "text": [
      "9 9 0 0 0 C C\n",
      "9 18 0 0 1 C C\n",
      "3 21 1 1 2 S S\n",
      "3 24 1 1 3 S S\n",
      "9 33 0 0 4 C C\n",
      "9 42 0 0 5 C C\n",
      "4 46 2 2 6 T T\n",
      "6 52 3 3 7 P P\n",
      "3 55 4 4 8 A A\n",
      "5 60 5 5 9 G G\n",
      "0 60 6 4 10 N N\n",
      "5 65 7 7 11 D D\n",
      "5 70 8 8 12 E E\n",
      "7 77 10 10 13 H H\n",
      "-3 74 11 4 14 R R\n",
      "5 79 16 16 15 V V\n",
      "5 84 15 15 16 L L\n",
      "8 92 18 18 17 Y Y\n",
      "-7 85 19 4 18 W W\n",
      "5 90 7 7 19 D D\n",
      "5 95 8 8 20 E E\n",
      "-1 94 9 4 21 Q Q\n",
      "7 101 10 10 22 H H\n",
      "final score:  101\n"
     ]
    },
    {
     "data": {
      "image/png": "[encoded data removed]",
      "text/plain": [
       "<matplotlib.figure.Figure at 0x7f594696d210>"
      ]
     },
     "metadata": {},
     "output_type": "display_data"
    }
   ],
   "source": [
    "example2 = 'CCSSCCTPAGADEHAVLYADEAH'\n",
    "a_few_substitutions = compare_pam120(example1, example2)"
   ]
  },
  {
   "cell_type": "code",
   "execution_count": 13,
   "metadata": {
    "collapsed": false
   },
   "outputs": [
    {
     "name": "stdout",
     "output_type": "stream",
     "text": [
      "final score:  815\n"
     ]
    },
    {
     "data": {
      "image/png": "[encoded data removed]",
      "text/plain": [
       "<matplotlib.figure.Figure at 0x7f59468cc550>"
      ]
     },
     "metadata": {},
     "output_type": "display_data"
    }
   ],
   "source": [
    "#heavy chain, constant region, Fc, Igg1, human\n",
    "#https://www.ncbi.nlm.nih.gov/protein/AEV43323.1\n",
    "\n",
    "# versus\n",
    "\n",
    "\n",
    "human_heavychain_fragment = 'PSVFLFPPKPKDTLMISRTPEVTCVVVDVSHEDPEVKFNWYVDGVEVHNAKTKPREEQYNSTYRVVSVLTVLHQDWLNGKEYKCKVSNKALPAPIEKTISKAKGQPREPQVYTLPPSREEMTKNQVSLTCLVKGFYPSDIAVEWESNGQPENNYKTTPPVLDSDGSFFLYSKLTVDKSRWQQGNVFSCSVMHEALHNHYTQKSLSLSPG'\n",
    "mouse_heavychain_fragment = 'SSVFIFPPKPKDVLTITLTPKVTCVVVDISKDDPEVQFSWFVDDVEVHTAQTQPREEQFNSTFRSVSELPIMHQDWLNGKEFKCRVNSAAFPAPIEKTISKTKGRPKAPQVYTIPPPKEQMAKDKVSLTCMITDFFPEDITVEWQWNGQPAENYKNTQPIMDTDGSYFVYSKLNVQKSNWEAGNTFTCSVLHEGLHNHHTEKSLSHSPG'\n",
    "\n",
    "plt.rcParams['figure.figsize'] = 100,1\n",
    "human_versus_mouse = compare_pam120(human_heavychain_fragment,mouse_heavychain_fragment, fulloutput=False)\n"
   ]
  },
  {
   "cell_type": "code",
   "execution_count": 14,
   "metadata": {
    "collapsed": false
   },
   "outputs": [
    {
     "name": "stdout",
     "output_type": "stream",
     "text": [
      "final score:  1047\n"
     ]
    },
    {
     "data": {
      "image/png": "[encoded data removed]",
      "text/plain": [
       "<matplotlib.figure.Figure at 0x7f5946975e10>"
      ]
     },
     "metadata": {},
     "output_type": "display_data"
    }
   ],
   "source": [
    "human_heavychain_fragment = 'PSVFLFPPKPKDTLMISRTPEVTCVVVDVSHEDPEVKFNWYVDGVEVHNAKTKPREEQYNSTYRVVSVLTVLHQDWLNGKEYKCKVSNKALPAPIEKTISKAKGQPREPQVYTLPPSREEMTKNQVSLTCLVKGFYPSDIAVEWESNGQPENNYKTTPPVLDSDGSFFLYSKLTVDKSRWQQGNVFSCSVMHEALHNHYTQKSLSLSPG'\n",
    "macac_heavychain_fragment = 'PSVFLFPPKPKDTLMISRTPEVTCVVVDVSQEDPDVKFNWYVNGAEVHHAQTKPRETQYNSTYRVVSVLTVTHQDWLNGKEYTCKVSNKALPAPIQKTISKDKGQPREPQVYTLPPSREELTKNQVSLTCLVKGFYPSDIVVEWESSGQPENTYKTTPPVLDSDGSYFLYSKLTVDKSRWQQGNVFSCSVMHEALHNHYTQKSLSVSPG'\n",
    "\n",
    "human_versus_monkey = compare_pam120(human_heavychain_fragment,macac_heavychain_fragment,fulloutput=False)"
   ]
  },
  {
   "cell_type": "code",
   "execution_count": 17,
   "metadata": {
    "collapsed": true
   },
   "outputs": [],
   "source": [
    "def compare_BLOSUM62(string1,string2,fulloutput=True):\n",
    "    import numpy as np\n",
    "    import matplotlib.pyplot as plt\n",
    "\n",
    "    aa_index = {'C': 0, 'S': 1, 'T': 2, 'P': 3, 'A': 4, 'G': 5, 'N': 6, 'D': 7\n",
    "               , 'E': 8, 'Q': 9, 'H': 10, 'R': 11, 'K': 12, 'M': 13, 'I': 14, 'L': 15\n",
    "               , 'V': 16, 'F': 17, 'Y': 18, 'W': 19}\n",
    "    PAM120 = np.array([ [9]\n",
    "                       ,[-1, 4]\n",
    "                       ,[-1, 1, 5]\n",
    "\n",
    "                       ,[-3,-1,-1, 7]\n",
    "                       ,[ 0, 1, 0,-1, 4]\n",
    "                       ,[-3, 0,-2,-2, 0, 6]\n",
    "\n",
    "                       ,[-3, 1, 0,-2,-2, 0, 6]                   \n",
    "                       ,[-3, 0,-1,-1,-2,-1, 1, 6]\n",
    "                       ,[-4, 0,-1,-1,-1,-2, 0, 2, 5]\n",
    "                       ,[-3, 0,-1,-1,-1,-2, 0, 0, 2, 5]\n",
    "\n",
    "                       ,[-3,-1,-2,-2,-2,-2, 1,-1, 0, 0, 8]\n",
    "                       ,[-3,-1,-1,-2,-1,-2, 0,-2, 0, 1, 0, 5]\n",
    "                       ,[-3, 0,-1,-1,-1,-2, 0,-1, 1, 1,-1, 2, 5]\n",
    "\n",
    "                       ,[-1,-1,-1,-2,-1,-3,-2,-3,-2, 0,-2,-1,-1, 5]\n",
    "                       ,[-1,-2,-1,-3,-1,-4,-3,-3,-3,-3,-3,-3,-3, 1, 4]                   \n",
    "                       ,[-1,-2,-1,-3,-1,-4,-3,-4,-3,-2,-3,-2,-2, 2, 2, 4]\n",
    "                       ,[-1,-2, 0,-2, 0,-3,-3,-3,-2,-2,-3, 3, 2, 1, 3, 1, 4]\n",
    "\n",
    "                       ,[-2,-2,-2,-4,-2,-3,-3,-3,-3,-3,-1,-3,-3, 0, 0, 0,-1, 6]\n",
    "                       ,[-2,-2,-2,-3,-2,-3,-2,-3,-2,-1, 2,-2,-2,-1,-1,-1,-1, 3, 7]\n",
    "                       ,[-2,-3,-2,-4,-3,-2,-4,-4,-3,-2,-2,-3,-3,-1,-3,-2,-3, 1, 2,11]])\n",
    "\n",
    "    score = 0\n",
    "    visual = np.zeros((1,len(string1)))\n",
    "    for i in range(0,len(string1)):\n",
    "            previous_score = score\n",
    "            if aa_index[string1[i]] > aa_index[string2[i]]:\n",
    "                score += int(PAM120[int(aa_index[string1[i]])][int(aa_index[string2[i]])])\n",
    "            else:\n",
    "                score += int(PAM120[int(aa_index[string2[i]])][int(aa_index[string1[i]])])\n",
    "            if fulloutput == True:\n",
    "                print score-previous_score, score, aa_index[string1[i]], aa_index[string2[i]], i, j, string1[i], string1[i]\n",
    "            visual[0,i] = score-previous_score\n",
    "    print \"final score: \", score\n",
    "    plt.imshow(visual,cmap=\"seismic_r\",vmin=int(np.min(np.min(PAM120))), vmax=int(np.max(np.max(PAM120))),interpolation='none')\n",
    "    return score"
   ]
  },
  {
   "cell_type": "code",
   "execution_count": 18,
   "metadata": {
    "collapsed": false
   },
   "outputs": [
    {
     "name": "stdout",
     "output_type": "stream",
     "text": [
      "final score:  1045\n"
     ]
    },
    {
     "data": {
      "image/png": "[encoded data removed]",
      "text/plain": [
       "<matplotlib.figure.Figure at 0x7f5946866a10>"
      ]
     },
     "metadata": {},
     "output_type": "display_data"
    }
   ],
   "source": [
    "human_heavychain_fragment = 'PSVFLFPPKPKDTLMISRTPEVTCVVVDVSHEDPEVKFNWYVDGVEVHNAKTKPREEQYNSTYRVVSVLTVLHQDWLNGKEYKCKVSNKALPAPIEKTISKAKGQPREPQVYTLPPSREEMTKNQVSLTCLVKGFYPSDIAVEWESNGQPENNYKTTPPVLDSDGSFFLYSKLTVDKSRWQQGNVFSCSVMHEALHNHYTQKSLSLSPG'\n",
    "macac_heavychain_fragment = 'PSVFLFPPKPKDTLMISRTPEVTCVVVDVSQEDPDVKFNWYVNGAEVHHAQTKPRETQYNSTYRVVSVLTVTHQDWLNGKEYTCKVSNKALPAPIQKTISKDKGQPREPQVYTLPPSREELTKNQVSLTCLVKGFYPSDIVVEWESSGQPENTYKTTPPVLDSDGSYFLYSKLTVDKSRWQQGNVFSCSVMHEALHNHYTQKSLSVSPG'\n",
    "\n",
    "human_versus_monkey = compare_BLOSUM62(human_heavychain_fragment,macac_heavychain_fragment,fulloutput=False)"
   ]
  },
  {
   "cell_type": "code",
   "execution_count": 25,
   "metadata": {
    "collapsed": false
   },
   "outputs": [],
   "source": [
    "def score_DNA(string1,string2,fulloutput=True):\n",
    "    import numpy as np\n",
    "    import matplotlib.pyplot as plt\n",
    "    aa_index = {'A': 0, 'C': 1, 'G': 2, 'T': 3}\n",
    "    DNA_score_matrix = np.array([ [67]\n",
    "                       ,[-96, 100]\n",
    "                       ,[-20, -79, 100]\n",
    "\n",
    "                       ,[-117,-20,-96, 67]])\n",
    "    score = 0\n",
    "    visual = np.zeros((1,len(string1)))\n",
    "    for i in range(0,len(string1)):\n",
    "            previous_score = score\n",
    "            if aa_index[string1[i]] > aa_index[string2[i]]:\n",
    "                score += int(DNA_score_matrix[int(aa_index[string1[i]])][int(aa_index[string2[i]])])\n",
    "            else:\n",
    "                score += int(DNA_score_matrix[int(aa_index[string2[i]])][int(aa_index[string1[i]])])\n",
    "            if fulloutput == True:\n",
    "                print score-previous_score, score, aa_index[string1[i]], aa_index[string2[i]], i, j, string1[i], string1[i]\n",
    "            visual[0,i] = score-previous_score\n",
    "    print \"final score: \", score\n",
    "    plt.imshow(visual,cmap=\"seismic_r\",vmin=int(np.min(np.min(DNA_score_matrix))), vmax=int(np.max(np.max(DNA_score_matrix))),interpolation='none')\n",
    "    return score"
   ]
  },
  {
   "cell_type": "code",
   "execution_count": 29,
   "metadata": {
    "collapsed": false
   },
   "outputs": [
    {
     "name": "stdout",
     "output_type": "stream",
     "text": [
      "final score:  700\n"
     ]
    },
    {
     "data": {
      "image/png": "[encoded data removed]",
      "text/plain": [
       "<matplotlib.figure.Figure at 0x7f5946a37410>"
      ]
     },
     "metadata": {},
     "output_type": "display_data"
    }
   ],
   "source": [
    "dnaseq1 = 'ATATATCGTATATAGCTATG'\n",
    "dnaseq2 = 'ATATAGCGTATATCGATCTAG'\n",
    "\n",
    "human_versus_monkey = score_DNA(dnaseq1,dnaseq2,fulloutput=False)"
   ]
  },
  {
   "cell_type": "code",
   "execution_count": null,
   "metadata": {
    "collapsed": true
   },
   "outputs": [],
   "source": []
  }
 ],
 "metadata": {
  "kernelspec": {
   "display_name": "Python 2",
   "language": "python",
   "name": "python2"
  },
  "language_info": {
   "codemirror_mode": {
    "name": "ipython",
    "version": 2
   },
   "file_extension": ".py",
   "mimetype": "text/x-python",
   "name": "python",
   "nbconvert_exporter": "python",
   "pygments_lexer": "ipython2",
   "version": "2.7.6"
  }
 },
 "nbformat": 4,
 "nbformat_minor": 0
}
