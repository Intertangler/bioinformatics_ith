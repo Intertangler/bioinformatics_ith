{
 "cells": [
  {
   "cell_type": "markdown",
   "metadata": {},
   "source": [
    "# Scoring Matrices\n",
    "## generic score matrices\n",
    "\n",
    "Score matrices have the general form:\n",
    "\n",
    "\n",
    "\n",
    "$$\n",
    "\\begin{bmatrix}\n",
    "    S(a_1, a_1)       & S(a_2, a_1) &  \\dots & S(a_n, a_1) \\\\\n",
    "    S(a_1, a_2)       & S(a_2, a_2) &  \\dots & S(a_n, a_2) \\\\\n",
    "    \\vdots{} \\\\\n",
    "    S(a_1, a_n)       & S(a_2, a_n) &  \\dots & S(a_n, a_n)\n",
    "\\end{bmatrix}\n",
    "$$\n",
    "\n",
    "Where $a$ is set of elements/letters/bases that receive a score according to how a particular one is substituted.\n",
    "We then have a scoring function $S(a_i, b_i)$ which outputs a single value according to its inputs, two elements to be compared.\n",
    "For example, consider the language analogy, comparing the two words: \n",
    "\n",
    "biologi\n",
    "biology\n",
    "\n",
    "Presupposing these two words are related and that we want to find the best alignment - i.e. the one which tells us which individual letters correspond to which. We might for example, want to penalize the substitution of vowels less than consonants, as linguistic studies have shown that vowels are some of the most change-prone letters of alphabets. \n",
    "b\n",
    "g\n",
    "i\n",
    "l\n",
    "o\n",
    "y\n",
    "\n",
    "\n",
    "\n",
    "## identity-score matrix\n",
    "Let's build the simplest type of score matrix\n",
    "\n",
    "$$\n",
    "\\begin{bmatrix}\n",
    "    b       & 1    \\\\\n",
    "    g       & 0 &  1    \\\\\n",
    "    i       & 0 &  0 & 1  \\\\\n",
    "    l       & 0 &  0 & 0 & 1  \\\\\n",
    "    o       & 0 &  0 & 0 & 0 & 1  \\\\ \n",
    "    y       & 0 &  0 & 0 & 0 & 0 & 1   \\\\\n",
    "            & b &  g & i & l & o & y   \n",
    "\\end{bmatrix}\n",
    "$$\n",
    "\n",
    "## now let's add a penalty for consant-related mismatches\n",
    "$$\n",
    "\\begin{bmatrix}\n",
    "    b       & 1    \\\\\n",
    "    g       & -1 &  1    \\\\\n",
    "    i       & -1 &  -1 & 1  \\\\\n",
    "    l       & -1 &  -1 & -1 & 1  \\\\\n",
    "    o       & -1 &  -1 & 0  & -1 & 1  \\\\ \n",
    "    y       & -1 &  -1 & 0  & -1 & 0 & 1   \\\\\n",
    "            & b  &  g  & i  & l  & o & y   \n",
    "\\end{bmatrix}\n",
    "$$\n",
    "\n",
    "##Now try scoring some different alignments.\n",
    "For simplicity, we'll just score those regions that have a corresponding base to compare to rather than considering gaps.\n",
    "So an example alignment is:\n",
    "--biology\n",
    "biologi--\n",
    "score = S(b,o) + S(i,l) + S(o,o) + S(l,g) + S(o,i) = -1 + -1 + 1 + -1 + 0 = -2\n",
    "\n",
    "biology\n",
    "biologi\n",
    "score = S(b,b) + S(i,i) + S(o,o) + S(l,l) + S(o,o) + S(g,g) + S (y,i) = 6\n",
    "\n",
    "Note that maximum possible score with our matrix is 7.\n",
    "\n",
    "If we were to go deeper with the linguistic analogy, we might consider penalizing a y -> i substition less than a o -> i substitution. The underlying principle behind our intuition is our degree of \"surprise\" or expectation due to our knowledge of the statistical distribution of letters in English and Swedish. The same principle can be applied to biological strings, as some substitutions are more common than others. Let's build the classic PAM matrix for amino acid substition now.\n",
    "Taken from Zvelebil/Baum, 2008"
   ]
  },
  {
   "cell_type": "code",
   "execution_count": 113,
   "metadata": {},
   "outputs": [],
   "source": [
    "%matplotlib inline\n",
    "\n",
    "\n",
    "def compare_pam120(string1,string2,fulloutput=True):\n",
    "    import numpy as np\n",
    "    import matplotlib.pyplot as plt\n",
    "    import seaborn\n",
    "    seaborn.set()\n",
    "    aa_index = {'C': 0, 'S': 1, 'T': 2, 'P': 3, 'A': 4, 'G': 5, 'N': 6, 'D': 7\n",
    "               , 'E': 8, 'Q': 9, 'H': 10, 'R': 11, 'K': 12, 'M': 13, 'I': 14, 'L': 15\n",
    "               , 'V': 16, 'F': 17, 'Y': 18, 'W': 19}\n",
    "    PAM120 = np.array([ [9]\n",
    "                       ,[-1, 3]\n",
    "                       ,[-3, 2, 4]\n",
    "\n",
    "                       ,[-3, 1,-1, 6]\n",
    "                       ,[-3, 1, 1, 1, 3]\n",
    "                       ,[-5, 1,-1,-2, 1, 5]\n",
    "\n",
    "                       ,[-5, 1, 0,-2, 0, 0, 4]                   \n",
    "                       ,[-7, 0,-1,-2, 0, 0, 2, 5]\n",
    "                       ,[-7,-1,-2,-1, 0,-1, 1, 3, 5]\n",
    "                       ,[-7,-2,-2, 0,-1,-3, 0, 1, 2, 6]\n",
    "\n",
    "                       ,[-4,-2,-3,-1,-3,-4, 2, 0,-1, 3, 7]\n",
    "                       ,[-4,-1,-2,-1,-3,-4,-1,-3,-3, 1, 1, 6]\n",
    "                       ,[-7,-1,-1,-2,-2,-3, 1,-1,-1, 0,-2, 2, 5]\n",
    "\n",
    "                       ,[-6,-2,-1,-3,-2,-4,-3,-4,-4,-1,-4,-1, 0, 8]\n",
    "                       ,[-3,-2, 0,-3,-1,-4,-2,-3,-3,-3,-4,-2,-2, 1, 6]                   \n",
    "                       ,[-7,-4,-3,-3,-3,-5,-4,-5,-4,-2,-3,-4,-4, 3, 1, 5]\n",
    "                       ,[-2,-2, 0,-2, 0,-2,-3,-3,-3,-3,-3,-3,-4, 1, 3, 1, 5]\n",
    "\n",
    "                       ,[-6,-3,-4,-5,-4,-5,-4,-7,-6,-6,-2,-4,-6,-1, 0, 0,-3, 8]\n",
    "                       ,[-1,-3,-3,-6,-4,-6,-2,-5,-4,-5,-1,-6,-6,-4,-2,-3,-3, 4, 8]\n",
    "                       ,[-8,-2,-6,-7,-7,-8,-5,-8,-8,-6,-5, 1,-5,-7,-7,-5,-8,-1,-1,12]])\n",
    "    #string1 = 'ccsscctpagndehrvlywdeqh'\n",
    "    #string2 = 'ccsscctpagndehrvlywdeqg'\n",
    "    #string2 = 'ccscsstpagnedhrvelydeqh'\n",
    "    score = 0\n",
    "    visual = np.zeros((1,len(string1)))\n",
    "    for i in range(0,len(string1)):\n",
    "            previous_score = score\n",
    "            if aa_index[string1[i]] > aa_index[string2[i]]:\n",
    "                score += int(PAM120[int(aa_index[string1[i]])][int(aa_index[string2[i]])])\n",
    "            else:\n",
    "                score += int(PAM120[int(aa_index[string2[i]])][int(aa_index[string1[i]])])\n",
    "            if fulloutput == True:\n",
    "                print score-previous_score, score, aa_index[string1[i]], aa_index[string2[i]], i, j, string1[i], string1[i]\n",
    "            visual[0,i] = score-previous_score\n",
    "    print \"final score: \", score\n",
    "    plt.imshow(visual,cmap=\"seismic_r\",vmin=int(np.min(np.min(PAM120))), vmax=int(np.max(np.max(PAM120))),interpolation='none')\n",
    "    return score"
   ]
  },
  {
   "cell_type": "code",
   "execution_count": 105,
   "metadata": {},
   "outputs": [
    {
     "name": "stdout",
     "output_type": "stream",
     "text": [
      "9 9 0 0 0 g C C\n",
      "9 18 0 0 1 g C C\n",
      "3 21 1 1 2 g S S\n",
      "3 24 1 1 3 g S S\n",
      "9 33 0 0 4 g C C\n",
      "9 42 0 0 5 g C C\n",
      "4 46 2 2 6 g T T\n",
      "6 52 3 3 7 g P P\n",
      "3 55 4 4 8 g A A\n",
      "5 60 5 5 9 g G G\n",
      "4 64 6 6 10 g N N\n",
      "5 69 7 7 11 g D D\n",
      "5 74 8 8 12 g E E\n",
      "7 81 10 10 13 g H H\n",
      "6 87 11 11 14 g R R\n",
      "5 92 16 16 15 g V V\n",
      "5 97 15 15 16 g L L\n",
      "8 105 18 18 17 g Y Y\n",
      "12 117 19 19 18 g W W\n",
      "5 122 7 7 19 g D D\n",
      "5 127 8 8 20 g E E\n",
      "6 133 9 9 21 g Q Q\n",
      "7 140 10 10 22 g H H\n",
      "final score:  140\n"
     ]
    },
    {
     "data": {
      "image/png": "[encoded data removed]",
      "text/plain": [
       "<matplotlib.figure.Figure at 0xdfcada0>"
      ]
     },
     "metadata": {},
     "output_type": "display_data"
    }
   ],
   "source": [
    "example1 = 'CCSSCCTPAGNDEHRVLYWDEQH'\n",
    "perfect_match = compare_pam120(example1, example1)"
   ]
  },
  {
   "cell_type": "code",
   "execution_count": 106,
   "metadata": {},
   "outputs": [
    {
     "name": "stdout",
     "output_type": "stream",
     "text": [
      "9 9 0 0 0 g C C\n",
      "9 18 0 0 1 g C C\n",
      "3 21 1 1 2 g S S\n",
      "3 24 1 1 3 g S S\n",
      "9 33 0 0 4 g C C\n",
      "9 42 0 0 5 g C C\n",
      "4 46 2 2 6 g T T\n",
      "6 52 3 3 7 g P P\n",
      "3 55 4 4 8 g A A\n",
      "5 60 5 5 9 g G G\n",
      "0 60 6 4 10 g N N\n",
      "5 65 7 7 11 g D D\n",
      "5 70 8 8 12 g E E\n",
      "7 77 10 10 13 g H H\n",
      "-3 74 11 4 14 g R R\n",
      "5 79 16 16 15 g V V\n",
      "5 84 15 15 16 g L L\n",
      "8 92 18 18 17 g Y Y\n",
      "-7 85 19 4 18 g W W\n",
      "5 90 7 7 19 g D D\n",
      "5 95 8 8 20 g E E\n",
      "-1 94 9 4 21 g Q Q\n",
      "7 101 10 10 22 g H H\n",
      "final score:  101\n"
     ]
    },
    {
     "data": {
      "image/png": "[encoded data removed]",
      "text/plain": [
       "<matplotlib.figure.Figure at 0xdfe4630>"
      ]
     },
     "metadata": {},
     "output_type": "display_data"
    }
   ],
   "source": [
    "example2 = 'CCSSCCTPAGADEHAVLYADEAH'\n",
    "a_few_substitutions = compare_pam120(example1, example2)"
   ]
  },
  {
   "cell_type": "code",
   "execution_count": 116,
   "metadata": {},
   "outputs": [
    {
     "name": "stdout",
     "output_type": "stream",
     "text": [
      "final score:  815\n"
     ]
    },
    {
     "data": {
      "image/png": "[encoded data removed]",
      "text/plain": [
       "<matplotlib.figure.Figure at 0xce492b0>"
      ]
     },
     "metadata": {},
     "output_type": "display_data"
    }
   ],
   "source": [
    "#heavy chain, constant region, Fc, Igg1, human\n",
    "#https://www.ncbi.nlm.nih.gov/protein/AEV43323.1\n",
    "\n",
    "# versus\n",
    "\n",
    "\n",
    "human_heavychain_fragment = 'PSVFLFPPKPKDTLMISRTPEVTCVVVDVSHEDPEVKFNWYVDGVEVHNAKTKPREEQYNSTYRVVSVLTVLHQDWLNGKEYKCKVSNKALPAPIEKTISKAKGQPREPQVYTLPPSREEMTKNQVSLTCLVKGFYPSDIAVEWESNGQPENNYKTTPPVLDSDGSFFLYSKLTVDKSRWQQGNVFSCSVMHEALHNHYTQKSLSLSPG'\n",
    "mouse_heavychain_fragment = 'SSVFIFPPKPKDVLTITLTPKVTCVVVDISKDDPEVQFSWFVDDVEVHTAQTQPREEQFNSTFRSVSELPIMHQDWLNGKEFKCRVNSAAFPAPIEKTISKTKGRPKAPQVYTIPPPKEQMAKDKVSLTCMITDFFPEDITVEWQWNGQPAENYKNTQPIMDTDGSYFVYSKLNVQKSNWEAGNTFTCSVLHEGLHNHHTEKSLSHSPG'\n",
    "\n",
    "plt.rcParams['figure.figsize'] = 100,1\n",
    "human_versus_mouse = compare_pam120(human_heavychain_fragment,mouse_heavychain_fragment, fulloutput=False)\n"
   ]
  },
  {
   "cell_type": "code",
   "execution_count": 118,
   "metadata": {},
   "outputs": [
    {
     "name": "stdout",
     "output_type": "stream",
     "text": [
      "final score:  1047\n"
     ]
    },
    {
     "data": {
      "image/png": "[encoded data removed]",
      "text/plain": [
       "<matplotlib.figure.Figure at 0x59c1080>"
      ]
     },
     "metadata": {},
     "output_type": "display_data"
    }
   ],
   "source": [
    "human_heavychain_fragment = 'PSVFLFPPKPKDTLMISRTPEVTCVVVDVSHEDPEVKFNWYVDGVEVHNAKTKPREEQYNSTYRVVSVLTVLHQDWLNGKEYKCKVSNKALPAPIEKTISKAKGQPREPQVYTLPPSREEMTKNQVSLTCLVKGFYPSDIAVEWESNGQPENNYKTTPPVLDSDGSFFLYSKLTVDKSRWQQGNVFSCSVMHEALHNHYTQKSLSLSPG'\n",
    "macac_heavychain_fragment = 'PSVFLFPPKPKDTLMISRTPEVTCVVVDVSQEDPDVKFNWYVNGAEVHHAQTKPRETQYNSTYRVVSVLTVTHQDWLNGKEYTCKVSNKALPAPIQKTISKDKGQPREPQVYTLPPSREELTKNQVSLTCLVKGFYPSDIVVEWESSGQPENTYKTTPPVLDSDGSYFLYSKLTVDKSRWQQGNVFSCSVMHEALHNHYTQKSLSVSPG'\n",
    "\n",
    "human_versus_monkey = compare_pam120(human_heavychain_fragment,macac_heavychain_fragment,fulloutput=False)"
   ]
  },
  {
   "cell_type": "code",
   "execution_count": 119,
   "metadata": {
    "collapsed": true
   },
   "outputs": [],
   "source": [
    "def compare_BLOSUM62(string1,string2,fulloutput=True):\n",
    "    import numpy as np\n",
    "    import matplotlib.pyplot as plt\n",
    "    import seaborn\n",
    "    seaborn.set()\n",
    "    aa_index = {'C': 0, 'S': 1, 'T': 2, 'P': 3, 'A': 4, 'G': 5, 'N': 6, 'D': 7\n",
    "               , 'E': 8, 'Q': 9, 'H': 10, 'R': 11, 'K': 12, 'M': 13, 'I': 14, 'L': 15\n",
    "               , 'V': 16, 'F': 17, 'Y': 18, 'W': 19}\n",
    "    PAM120 = np.array([ [9]\n",
    "                       ,[-1, 4]\n",
    "                       ,[-1, 1, 5]\n",
    "\n",
    "                       ,[-3,-1,-1, 7]\n",
    "                       ,[ 0, 1, 0,-1, 4]\n",
    "                       ,[-3, 0,-2,-2, 0, 6]\n",
    "\n",
    "                       ,[-3, 1, 0,-2,-2, 0, 6]                   \n",
    "                       ,[-3, 0,-1,-1,-2,-1, 1, 6]\n",
    "                       ,[-4, 0,-1,-1,-1,-2, 0, 2, 5]\n",
    "                       ,[-3, 0,-1,-1,-1,-2, 0, 0, 2, 5]\n",
    "\n",
    "                       ,[-3,-1,-2,-2,-2,-2, 1,-1, 0, 0, 8]\n",
    "                       ,[-3,-1,-1,-2,-1,-2, 0,-2, 0, 1, 0, 5]\n",
    "                       ,[-3, 0,-1,-1,-1,-2, 0,-1, 1, 1,-1, 2, 5]\n",
    "\n",
    "                       ,[-1,-1,-1,-2,-1,-3,-2,-3,-2, 0,-2,-1,-1, 5]\n",
    "                       ,[-1,-2,-1,-3,-1,-4,-3,-3,-3,-3,-3,-3,-3, 1, 4]                   \n",
    "                       ,[-1,-2,-1,-3,-1,-4,-3,-4,-3,-2,-3,-2,-2, 2, 2, 4]\n",
    "                       ,[-1,-2, 0,-2, 0,-3,-3,-3,-2,-2,-3, 3, 2, 1, 3, 1, 4]\n",
    "\n",
    "                       ,[-2,-2,-2,-4,-2,-3,-3,-3,-3,-3,-1,-3,-3, 0, 0, 0,-1, 6]\n",
    "                       ,[-2,-2,-2,-3,-2,-3,-2,-3,-2,-1, 2,-2,-2,-1,-1,-1,-1, 3, 7]\n",
    "                       ,[-2,-3,-2,-4,-3,-2,-4,-4,-3,-2,-2,-3,-3,-1,-3,-2,-3, 1, 2,11]])\n",
    "    #string1 = 'ccsscctpagndehrvlywdeqh'\n",
    "    #string2 = 'ccsscctpagndehrvlywdeqg'\n",
    "    #string2 = 'ccscsstpagnedhrvelydeqh'\n",
    "    score = 0\n",
    "    visual = np.zeros((1,len(string1)))\n",
    "    for i in range(0,len(string1)):\n",
    "            previous_score = score\n",
    "            if aa_index[string1[i]] > aa_index[string2[i]]:\n",
    "                score += int(PAM120[int(aa_index[string1[i]])][int(aa_index[string2[i]])])\n",
    "            else:\n",
    "                score += int(PAM120[int(aa_index[string2[i]])][int(aa_index[string1[i]])])\n",
    "            if fulloutput == True:\n",
    "                print score-previous_score, score, aa_index[string1[i]], aa_index[string2[i]], i, j, string1[i], string1[i]\n",
    "            visual[0,i] = score-previous_score\n",
    "    print \"final score: \", score\n",
    "    plt.imshow(visual,cmap=\"seismic_r\",vmin=int(np.min(np.min(PAM120))), vmax=int(np.max(np.max(PAM120))),interpolation='none')\n",
    "    return score"
   ]
  },
  {
   "cell_type": "code",
   "execution_count": 120,
   "metadata": {},
   "outputs": [
    {
     "name": "stdout",
     "output_type": "stream",
     "text": [
      "final score:  1045\n"
     ]
    },
    {
     "data": {
      "image/png": "[encoded data removed]",
      "text/plain": [
       "<matplotlib.figure.Figure at 0xdcba5c0>"
      ]
     },
     "metadata": {},
     "output_type": "display_data"
    }
   ],
   "source": [
    "human_heavychain_fragment = 'PSVFLFPPKPKDTLMISRTPEVTCVVVDVSHEDPEVKFNWYVDGVEVHNAKTKPREEQYNSTYRVVSVLTVLHQDWLNGKEYKCKVSNKALPAPIEKTISKAKGQPREPQVYTLPPSREEMTKNQVSLTCLVKGFYPSDIAVEWESNGQPENNYKTTPPVLDSDGSFFLYSKLTVDKSRWQQGNVFSCSVMHEALHNHYTQKSLSLSPG'\n",
    "macac_heavychain_fragment = 'PSVFLFPPKPKDTLMISRTPEVTCVVVDVSQEDPDVKFNWYVNGAEVHHAQTKPRETQYNSTYRVVSVLTVTHQDWLNGKEYTCKVSNKALPAPIQKTISKDKGQPREPQVYTLPPSREELTKNQVSLTCLVKGFYPSDIVVEWESSGQPENTYKTTPPVLDSDGSYFLYSKLTVDKSRWQQGNVFSCSVMHEALHNHYTQKSLSVSPG'\n",
    "\n",
    "human_versus_monkey = compare_BLOSUM62(human_heavychain_fragment,macac_heavychain_fragment,fulloutput=False)"
   ]
  },
  {
   "cell_type": "markdown",
   "metadata": {},
   "source": [
    "# why logarithms\n",
    "the numbers in score matrices correspond to $log P(aa_1 \\rightarrow aa_2)$\n",
    "why is this significant?\n",
    "the number e represents the base rate of growth for a continuously growing process\n",
    "logarithm implies exponentially changing quantities - in this case the probability\n",
    "why do probabilities change exponentially - decision trees and hierarchy\n",
    "we can picture phylogenetics and the probability of a series of mutations/changes using the same tree structure\n",
    "the number of hierarchical levels in such a tree grow linearly whereas the number of branches grows exponentially in a tree\n",
    "this relationship reflects the logarithmic function\n",
    "by quantifying log probabilities, we are counting hierarchical distance instead of branch numbers\n",
    "\n"
   ]
  }
 ],
 "metadata": {
  "kernelspec": {
   "display_name": "Python [conda root]",
   "language": "python",
   "name": "conda-root-py"
  },
  "language_info": {
   "codemirror_mode": {
    "name": "ipython",
    "version": 2
   },
   "file_extension": ".py",
   "mimetype": "text/x-python",
   "name": "python",
   "nbconvert_exporter": "python",
   "pygments_lexer": "ipython2",
   "version": "2.7.13"
  }
 },
 "nbformat": 4,
 "nbformat_minor": 2
}
