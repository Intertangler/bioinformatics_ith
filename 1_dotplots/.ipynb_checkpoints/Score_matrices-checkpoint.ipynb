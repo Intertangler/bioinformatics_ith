{
 "cells": [
  {
   "cell_type": "markdown",
   "metadata": {},
   "source": [
    "# Scoring Matrices\n",
    "## generic score matrices\n",
    "\n",
    "Score matrices have the general form:\n",
    "Say we have sequence $a$ and sequence $b$ whose individual elements are denoted by $a_i$ and $b_i$ with $i$ indicating the position number of a particular element.\n",
    "\n",
    "We then have a scoring function $S(a_i, b_i)$ which outputs a single value according to its inputs, two elements to be compared.\n",
    "\n",
    "$$\n",
    "\\begin{bmatrix}\n",
    "    S(a_1, b_1)       & S(a_2, b_1) &  \\dots & S(a_n, b_1) \\\\\n",
    "    S(a_1, b_2)       & S(a_2, b_2) &  \\dots & S(a_n, b_2) \\\\\n",
    "    \\vdots{} \\\\\n",
    "    S(a_1, b_n)       & S(a_2, b_n) &  \\dots & S(a_n, b_n)\n",
    "\\end{bmatrix}\n",
    "$$\n",
    "\n",
    "\n",
    "## identity-score matrix\n",
    "Let's build the simplest type of score matrix"
   ]
  },
  {
   "cell_type": "code",
   "execution_count": null,
   "metadata": {
    "collapsed": true
   },
   "outputs": [],
   "source": []
  }
 ],
 "metadata": {
  "kernelspec": {
   "display_name": "Python [conda root]",
   "language": "python",
   "name": "conda-root-py"
  },
  "language_info": {
   "codemirror_mode": {
    "name": "ipython",
    "version": 2
   },
   "file_extension": ".py",
   "mimetype": "text/x-python",
   "name": "python",
   "nbconvert_exporter": "python",
   "pygments_lexer": "ipython2",
   "version": "2.7.13"
  }
 },
 "nbformat": 4,
 "nbformat_minor": 2
}
