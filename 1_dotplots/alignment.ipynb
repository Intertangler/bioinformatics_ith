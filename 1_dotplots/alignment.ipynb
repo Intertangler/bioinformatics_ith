{
 "cells": [
  {
   "cell_type": "markdown",
   "metadata": {},
   "source": [
    "# needleman wunsch\n",
    "## score matrix construction\n",
    "## traceback with pointers\n",
    "## alignment\n",
    "## scoring and comparison "
   ]
  },
  {
   "cell_type": "code",
   "execution_count": null,
   "metadata": {
    "collapsed": true
   },
   "outputs": [],
   "source": [
    "%matplotlib inline\n",
    "import numpy as np\n",
    "import matplotlib.pyplot as plt\n",
    "import seaborn\n",
    "\n",
    "aa_index = {'A': 0, 'C': 1, 'G', 2, 'T', 3}\n",
    "DNA_score_key = np.array([1]\n",
    "                           ,[-1, 1]\n",
    "                           ,[-1, -1, 1]\n",
    "                           ,[-1,-1,-1, 1]])\n",
    "gap_penalty = -2\n",
    "mismatch = -1\n",
    "\n",
    "score_matrix = np.zeros((len(aa_index)))"
   ]
  }
 ],
 "metadata": {
  "kernelspec": {
   "display_name": "Python 2",
   "language": "python",
   "name": "python2"
  },
  "language_info": {
   "codemirror_mode": {
    "name": "ipython",
    "version": 2
   },
   "file_extension": ".py",
   "mimetype": "text/x-python",
   "name": "python",
   "nbconvert_exporter": "python",
   "pygments_lexer": "ipython2",
   "version": "2.7.13"
  }
 },
 "nbformat": 4,
 "nbformat_minor": 2
}
