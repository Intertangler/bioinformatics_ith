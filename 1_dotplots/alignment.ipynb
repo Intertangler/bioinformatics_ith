{
 "cells": [
  {
   "cell_type": "markdown",
   "metadata": {},
   "source": [
    "# needleman wunsch\n",
    "## score matrix construction\n",
    "## traceback with pointers\n",
    "## alignment\n",
    "## scoring and comparison "
   ]
  },
  {
   "cell_type": "code",
   "execution_count": 1,
   "metadata": {},
   "outputs": [
    {
     "ename": "SyntaxError",
     "evalue": "invalid syntax (<ipython-input-1-ba698147132b>, line 6)",
     "output_type": "error",
     "traceback": [
      "\u001b[1;36m  File \u001b[1;32m\"<ipython-input-1-ba698147132b>\"\u001b[1;36m, line \u001b[1;32m6\u001b[0m\n\u001b[1;33m    aa_index = {'A': 0, 'C': 1, 'G', 2, 'T', 3}\u001b[0m\n\u001b[1;37m                                   ^\u001b[0m\n\u001b[1;31mSyntaxError\u001b[0m\u001b[1;31m:\u001b[0m invalid syntax\n"
     ]
    }
   ],
   "source": [
    "%matplotlib inline\n",
    "import numpy as np\n",
    "import matplotlib.pyplot as plt\n",
    "import seaborn\n",
    "\n",
    "aa_index = {'A': 0, 'C': 1, 'G', 2, 'T', 3}\n",
    "DNA_score_key = np.array([1]\n",
    "                           ,[-1, 1]\n",
    "                           ,[-1, -1, 1]\n",
    "                           ,[-1,-1,-1, 1]])\n",
    "gap_penalty = -2\n",
    "mismatch = -1\n",
    "\n",
    "score_matrix = np.zeros((len(aa_index)))\n"
   ]
  },
  {
   "cell_type": "code",
   "execution_count": 2,
   "metadata": {},
   "outputs": [
    {
     "name": "stdout",
     "output_type": "stream",
     "text": [
      "as \n",
      " df \n"
     ]
    }
   ],
   "source": [
    "print 'as \\n df '\n"
   ]
  }
 ],
 "metadata": {
  "kernelspec": {
   "display_name": "Python [conda root]",
   "language": "python",
   "name": "conda-root-py"
  },
  "language_info": {
   "codemirror_mode": {
    "name": "ipython",
    "version": 2
   },
   "file_extension": ".py",
   "mimetype": "text/x-python",
   "name": "python",
   "nbconvert_exporter": "python",
   "pygments_lexer": "ipython2",
   "version": "2.7.13"
  }
 },
 "nbformat": 4,
 "nbformat_minor": 2
}
