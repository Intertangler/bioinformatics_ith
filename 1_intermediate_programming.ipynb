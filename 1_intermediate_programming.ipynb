{
  "nbformat": 4,
  "nbformat_minor": 0,
  "metadata": {
    "colab": {
      "name": "1_intermediate_programming.ipynb",
      "provenance": [],
      "collapsed_sections": [],
      "toc_visible": true,
      "authorship_tag": "ABX9TyPkMhaWB8vTjW+CnbOi1QFD",
      "include_colab_link": true
    },
    "kernelspec": {
      "name": "python3",
      "display_name": "Python 3"
    }
  },
  "cells": [
    {
      "cell_type": "markdown",
      "metadata": {
        "id": "view-in-github",
        "colab_type": "text"
      },
      "source": [
        "<a href=\"https://colab.research.google.com/github/Intertangler/bioinformatics_stockholm/blob/master/1_intermediate_programming.ipynb\" target=\"_parent\"><img src=\"https://colab.research.google.com/assets/colab-badge.svg\" alt=\"Open In Colab\"/></a>"
      ]
    },
    {
      "cell_type": "markdown",
      "metadata": {
        "id": "vnlKbu40hNGK"
      },
      "source": [
        "# Intermediate programming\n",
        "Now that you can make and access various data structures like strings, lists, and numpy array, as well as create for-loops and if statements, there is actually not all that much else new to learn in terms of basic programming elements. Look at any professional piece of code and you will mostly see these many instances and permutations of these basic elements plus a variety of exotic functions from external libraries. The emphasis from here on is going to be more on problem solving - taking what you know and applying without the explicit instruction of what building blocks to implement. \n",
        "\n",
        "\n",
        "Instructions: Work through the following examples and problems. Note that a portion of the material is tutorial-style examples whereas the \"problems\" are less-guided challenges that will be assessed. **Submit your answers to the problems on Canvas under the Assignments section**, and **submit also the \"share\" link** to your saved Google Colab notebook on Canvas. For the problems, we also ask that you **submit a 1 paragraph (2-4 sentences) explanation of WHY your code works** on Canvas. In your explanations, try not to focus on simply describing the code, and don't just describe the output or what the programs is supposed to produce (we know all that!), instead explain the purpose of intermediate steps and the rationale and structure behind the process that leads to the output.\n"
      ]
    },
    {
      "cell_type": "markdown",
      "metadata": {
        "id": "7Xw98V6LWSup"
      },
      "source": [
        "## functions - self contained programs \n",
        "You have already made use of a variety of functions like math.factorial() or np.std(). So hopefully you already have some intuition for what they are - basically self-contained programs that we can use (and reuse) when making other programs. Often functions will have an input and often they will produce an output. In the case of the factorial function, we provide a base number as input, and the output returned is the computed factorial value of the base. \n"
      ]
    },
    {
      "cell_type": "markdown",
      "metadata": {
        "id": "2bI-NMIgXqBM"
      },
      "source": [
        "Let's make a simple function that takes two numbers as its input and produces their product as the output."
      ]
    },
    {
      "cell_type": "code",
      "metadata": {
        "id": "GB4lCwxJiTd8"
      },
      "source": [
        "def my_multiplying_function(first_number, second_number):\n",
        "  product = first_number*second_number\n",
        "  return product\n",
        "  "
      ],
      "execution_count": null,
      "outputs": []
    },
    {
      "cell_type": "markdown",
      "metadata": {
        "id": "RGgpqS1HTj1E"
      },
      "source": [
        "Take note of the syntax - functions are made by writing def (as in define), the name of the function, its inputs in parentheses and a colon. Note that everything indented is part of the function, and any code afterwards without indentation would be interpreted as not part of the function. The optional return line will produce the output. Then we can run the function with various inputs:\n"
      ]
    },
    {
      "cell_type": "code",
      "metadata": {
        "id": "rcw47uFgid_J"
      },
      "source": [
        "A = my_multiplying_function(3, 5)\n",
        "B = my_multiplying_function(6, 9)\n",
        "print(A, B)"
      ],
      "execution_count": null,
      "outputs": []
    },
    {
      "cell_type": "markdown",
      "metadata": {
        "id": "BuzyK6Jgma9A"
      },
      "source": [
        "Let's review some of the material from yesterday but incorporate it into functinos. For example, we can create a function that counts 1's in a list using a for loop:\n"
      ]
    },
    {
      "cell_type": "code",
      "metadata": {
        "id": "GD4s3xhclg0S"
      },
      "source": [
        "def count_ones(input_list):\n",
        "  number_of_ones = 0\n",
        "  for item in input_list:\n",
        "    if item == 1:\n",
        "      number_of_ones = number_of_ones + 1\n",
        "    else:\n",
        "      pass\n",
        "  return number_of_ones\n",
        "\n",
        "\n",
        "print(count_ones([1,3,4,5,4,61,1,4,2,1,6,4,1,5,1]))"
      ],
      "execution_count": null,
      "outputs": []
    },
    {
      "cell_type": "markdown",
      "metadata": {
        "id": "pEnQvPaJddlw"
      },
      "source": [
        "What if we wanted to change the function to count the number of twos instead of ones, what would you change? What if we wanted the function to count either ones OR twos?"
      ]
    },
    {
      "cell_type": "markdown",
      "metadata": {
        "id": "HTfzz4hsYyy3"
      },
      "source": [
        "## A review of looping through 1D datastructures\n",
        "Recall how we use for-loops to loop through 1D datastructures like strings, lists, or numpy arrays. Let's review that briefly for a 1D numpy array. What is happening in the piece of code below? What would we have to change if we wanted to know the value of each element of the array multiplied by itself?"
      ]
    },
    {
      "cell_type": "code",
      "metadata": {
        "id": "FsYxqNomT1iu"
      },
      "source": [
        "import numpy as np\n",
        "my_1d_array = np.array([4,5,6,7,8])\n",
        "for i in my_1d_array:\n",
        "  print(i)"
      ],
      "execution_count": null,
      "outputs": []
    },
    {
      "cell_type": "markdown",
      "metadata": {
        "id": "-kvYTsiJaZyZ"
      },
      "source": [
        "Remember that the iterator (i or whatever we put between the words \"for\" and \"in\" is a mutable variable that will take on the values in the provided string, list, or array. It is very common that the iterator be made into a \"loop counter\" that takes on values 0, 1, 2...n as each round of the loop gets executed. The following example does this, utilizing the range() function to generate some integers 1,2,3...etc up to 25. What would happen if we were to print out the variable the_sum during the loop? What is happening to the variable the_sum each time this line gets executed:\n",
        "\n",
        "**>the_sum = the_sum + number**"
      ]
    },
    {
      "cell_type": "code",
      "metadata": {
        "id": "8LGcQH6YaX2P"
      },
      "source": [
        "my_range_of_integers = range(0,25)\n",
        "the_sum = 0\n",
        "for number in my_range_of_integers:\n",
        "  the_sum = the_sum + number\n",
        "print(\"the sum of all those integers is: \", the_sum)"
      ],
      "execution_count": null,
      "outputs": []
    },
    {
      "cell_type": "markdown",
      "metadata": {
        "id": "8mMAEo5ub3fM"
      },
      "source": [
        "Do you feel like you understand for-loops and their relationship to 1D datastructures (strings, lists, and numpy arrays)? If not, try adding print statements to different parts of the example loops above and try to understand the output that results. What happens when you change the different input variables."
      ]
    },
    {
      "cell_type": "markdown",
      "metadata": {
        "id": "ADjVHZsAmZNE"
      },
      "source": [
        "## problem 1.1\n",
        "**Create a function that takes any string as input that then outputs a string composed only of A,T,G,C characters - deleting or omitting any other characters and preserving the order and composition of any ATGC in the input. Test the function by calling it with the input \"ALKJHASDCYGASHGASDYCASYHDFAHSDGFYASDGYASDCSLKJDHCAGYTCGASDUYFGASTCDGAYTSGDFKUYASGDF\". What is the resultant output (omit quotations marks in your submission to Canvas)**\n",
        "\n",
        "Additional guidance: You may find the follow points helpful: 1. that you can create an empty string with \"\" i.e. nothing enclosed in quotation marks. And 2. note that you can combine two strings with a plus sign: e.g. \"AGT\" + \"A\" will yield \"AGTA\" and this works with the empty one too. If you get stuck, go back to yesterday's material on conditional statements, lists, forloops and today's point about how to make functions. The final program will be a function that runs a for-loop with a if-statement inside similar to yesterday's for-loop with a nested if-statement."
      ]
    },
    {
      "cell_type": "code",
      "metadata": {
        "id": "M6ehopn17JDw"
      },
      "source": [
        "## start your code ###"
      ],
      "execution_count": null,
      "outputs": []
    },
    {
      "cell_type": "markdown",
      "metadata": {
        "id": "NRyB4irvV9nh"
      },
      "source": [
        "## 2D data-structures and nested code\n",
        "Now we will begin to add more complexity, not by introducing new concepts, but by doubling-down on ones you know. A nested block of code is one which occurs subordinate to another block of code. In the problem you just completed, you may have created a nested if-statement within a for-loop. Similarly, we can create for-loops that are nested in a higher order for-loop. This is useful for performing operations on a matrix or pixels in a 2D image, for example. Look at the code below which takes a square matrix full of zeros and adds the value of a loop-counter to each matrix element according to the order it was visited."
      ]
    },
    {
      "cell_type": "code",
      "metadata": {
        "id": "j4QelHYBT3FP"
      },
      "source": [
        "import numpy as np\n",
        "square_size = 10\n",
        "our_matrix = np.zeros((square_size,square_size)) # a numpy function to generate a matrix of zeros\n",
        "print(our_matrix)  \n",
        "\n",
        "loop_counter = 0\n",
        "for row in range(0, square_size): # we will loop through each of the rows \n",
        "  for row_item in range(0, square_size): # and for every row, we will loop through each individual item\n",
        "    loop_counter = loop_counter + 1 \n",
        "    our_matrix[row, row_item] = loop_counter  # remember the row-column indexing convention that we use to access specific matrix locations\n",
        "\n",
        "print(our_matrix)"
      ],
      "execution_count": null,
      "outputs": []
    },
    {
      "cell_type": "markdown",
      "metadata": {
        "id": "SXO7vbJoZmCc"
      },
      "source": [
        "How would you restructure the code if we wanted to number consecutive elements going down a column instead of across each row? What would you need to change to do this with a non-square matrix, say with dimensions 10x30 ?"
      ]
    },
    {
      "cell_type": "markdown",
      "metadata": {
        "id": "PMCmdbMxbt9U"
      },
      "source": [
        "Let's use loops to process another 2D datastructure - an image. The data making up a black and white image is simply a matrix of numerical greyscale values (for example from 1 to 256). Each position in the matrix corresponds to a position in the image. Run the code below to import an 8 bit grayscale image \"cry2.png\" as a numpy matrix."
      ]
    },
    {
      "cell_type": "code",
      "metadata": {
        "id": "xja-TXlfXTgN"
      },
      "source": [
        "from matplotlib import image\n",
        "from matplotlib import pyplot as plt\n",
        "import os.path\n",
        "import sys\n",
        "from os import path\n",
        "\n",
        "if path.exists(\"/content/bioinformatics_stockholm/\"):\n",
        "    pass\n",
        "else:\n",
        "    !git clone https://github.com/Intertangler/bioinformatics_stockholm\n",
        "sys.path.insert(0,'/content')\n",
        "our_image = image.imread('/content/bioinformatics_stockholm/cry2.png') # this is the line assigning the image data to the variable \"our_image\"\n"
      ],
      "execution_count": null,
      "outputs": []
    },
    {
      "cell_type": "markdown",
      "metadata": {
        "id": "HH-CJ6zukzW7"
      },
      "source": [
        "Try simply printing out the matrix and examining it. What kind of data is stored in the matrix? Use some numpy functions to learn a bit more about the data - what are the dimensions of the matrix, for example? What are the largest and smallest values stored in the matrix?\n",
        "\n",
        "As an exercise, let's increase the contrast in the image. We can do this by multiplying the values of the matrix with themselves. If this does not seem intuitive, think about how the value 0.2 x 0.2 decreases to a larger extent than 0.4 x 0.4 so in this way, the values in the matrix will become more sharply separated, with greater values (brighter pixels) becoming relatively more bright compared to lesser values (darker pixels)."
      ]
    },
    {
      "cell_type": "code",
      "metadata": {
        "id": "wwoToz2Cj_Hp"
      },
      "source": [
        "contrasty_image = np.power(our_image, 2) # using the numpy power function to raise each element's value to the power 2 (note that this is different from matrix multiplication in linear algebra)"
      ],
      "execution_count": null,
      "outputs": []
    },
    {
      "cell_type": "markdown",
      "metadata": {
        "id": "LJ_lVyodtnE9"
      },
      "source": [
        "Compare the images with the imshow function from pyplot. "
      ]
    },
    {
      "cell_type": "code",
      "metadata": {
        "id": "Z9w_C1-pkhxZ"
      },
      "source": [
        "plt.imshow(our_image), plt.show()\n",
        "\n",
        "plt.imshow(contrasty_image), plt.show()"
      ],
      "execution_count": null,
      "outputs": []
    },
    {
      "cell_type": "markdown",
      "metadata": {
        "id": "A2hMMFI8uKqc"
      },
      "source": [
        "Note that the colors applied are from the default colorbar or color scale. The image data is grayscale, but false color is applied to improve visibility. You can change this by feeding different parameters to imshow(). If you try more, google search \"pyplot colormaps\" to find more options.\n",
        "\n",
        "*For those interested - this image is of a cell that has been transfected to express a light sensitive protein Cry2 derived from the photosynthetic apparatus of plants and engineered in this case to oligomerize with others of its type when hit with blue light. The image has been taken after a few seconds of blue light stimulation when the proteins have already begun to aggregate.*"
      ]
    },
    {
      "cell_type": "code",
      "metadata": {
        "id": "rC-JG498ttAT"
      },
      "source": [
        "plt.imshow(contrasty_image, cmap=\"afmhot\"), plt.show()\n",
        "plt.imshow(contrasty_image, cmap=\"jet\"), plt.show()\n",
        "plt.imshow(contrasty_image, cmap=\"Greys_r\"), plt.show()"
      ],
      "execution_count": null,
      "outputs": []
    },
    {
      "cell_type": "markdown",
      "metadata": {
        "id": "hzNTRsSLu1fn"
      },
      "source": [
        "## Problem 1.2\n",
        "**Use nested for-loops (a loop within a loop) to perform a counting operation on each pixel of the original cry2.png image such that any value greater than a user-defined threshold is counted. How many pixels have a value greater than 0.8?**\n",
        "\n",
        "Additional guidance: To get the cry2 image, you will have to have run the code in the tutorial sections above that import it. Unlike the for-loops on strings problems, you will need to use a loop counter, such that the iterator variable that changes during the loop takes on simple integer count values 0, 1, 2...etc. Remember to use the range() generator when you specify the loop for this.\n",
        "\n",
        "Since the dimensions of the image are not square, you will need to supply different information to loops on the rows vs loops on the columns. You can use the len() function to get the dimensions of an array or the np.shape() function to get the dimensions of a matrix. How many pixels greater than 0.8 are there?"
      ]
    },
    {
      "cell_type": "code",
      "metadata": {
        "id": "JV2XsXkY61wz"
      },
      "source": [
        "## start your code ###"
      ],
      "execution_count": null,
      "outputs": []
    },
    {
      "cell_type": "markdown",
      "metadata": {
        "id": "QOxAY-p9_wAn"
      },
      "source": [
        "## Problem solving\n",
        "In the examples we've practiced so far, you've been given bite-sized problems meant to illustrate a specific idea plus additional guidance that gives you information about how to do that actual coding. However the vast majority of real life programming you will encounter requires another skill: formulating a path to a solution from a high-level end goal. Here are some real examples you may encounter: \"Is there a way to find out how similar these genes are to each other?\" \"Can you create a visualization that shows which sequences have the most errors in a particular region?\" \"Can you make a program that detects which parts of these microscopic images are positively expressing gene xyz?\". Tasks in real life tend to be result-oriented, and you as the programmer must do the hard work of devising the means. Often it's easy to solve a specific instance of a problem in your head using your common sense (e.g. a problem like \"how many letters would you need to change to convert the sequence TTTATT into TTTCTT\"?), but then describing in machine-friendly-language exactly what it is our brains did to solve the problem (so that it can be done millions of times for different inputs) can be a challenge.\n",
        "\n",
        "To handle such open-ended problems, you will need to develop the art of taking a broad problem and breaking it down again and again until it programming solutions start to reveal themselves to you. The following exercise is meant to guide you through this process."
      ]
    },
    {
      "cell_type": "code",
      "metadata": {
        "id": "IDvN-Py7H3X5"
      },
      "source": [
        "from matplotlib import image\n",
        "from matplotlib import pyplot as plt\n",
        "import sys\n",
        "from os import path\n",
        "\n",
        "if path.exists(\"/content/bioinformatics_stockholm/\"):\n",
        "    pass\n",
        "else:\n",
        "    !git clone https://github.com/Intertangler/bioinformatics_stockholm\n",
        "sys.path.insert(0,'/content')\n",
        "img = image.imread('/content/bioinformatics_stockholm/microarray.png') # this is the line assigning the image data to the variable \"our_image\"\n",
        "plt.imshow(img), plt.show()"
      ],
      "execution_count": null,
      "outputs": []
    },
    {
      "cell_type": "markdown",
      "metadata": {
        "id": "AGxaSZiWEfIY"
      },
      "source": [
        "### An open-ended task:\n",
        "Consider the following challenge: \n",
        "Above we provide a microscopic image of a 13x16 spot microarray with mixed DNA originating from two different sources and hybridized to different genes on the array (the main sample DNA detected with a red fluorescent dye, and a control sample detected with a green dye). Make a program that converts the data into two matrices (red and green) with values reflecting the red or green brightness signals in each spot."
      ]
    },
    {
      "cell_type": "markdown",
      "metadata": {
        "id": "w4MOXOgEIsn2"
      },
      "source": [
        "Wow.The above problem is intimidating because no explicit guidance is given about what programming approach we should take. Let's do a bit of guided practice on how to tackle such a problem. As we go, try to pay just as much attention to our general strategy of dissecting the problem as you do to understanding the details."
      ]
    },
    {
      "cell_type": "markdown",
      "metadata": {
        "id": "ogu52a-LKG0a"
      },
      "source": [
        "### step 1 - precisely identifying the goal\n",
        "The first thing we need to do is reread the problem to try and find out exactly what deliverable is being asked for. The last line reads: **\"two matrices (red and green) with values reflecting the red or green brightness values in each spot.\"** We can start here. The final output is two matrices! We can already begin to code that part then - let's just make two matrices and call them green_matrix and red_matrix....but what size should they be? We know that each element should correspond to a spot in the microarray, and the problem gives us the dimensions of the microarray so..."
      ]
    },
    {
      "cell_type": "code",
      "metadata": {
        "id": "uMIt0meiMiq3"
      },
      "source": [
        "import numpy as np\n",
        "green_matrix = np.zeros((13, 16))\n",
        "red_matrix = np.zeros((13, 16))"
      ],
      "execution_count": null,
      "outputs": []
    },
    {
      "cell_type": "markdown",
      "metadata": {
        "id": "f5vDpQcPMuZy"
      },
      "source": [
        "You might be wondering how you were supposed to know how to make a matrix of zeros. Well, aside from briefly encountering it before, this is the kind of thing we should be unafraid and unashamed to google. Here's how we could have searched for it: \"how to make an empty matrix in python, numpy\" or \"initialize an array, python\". Often there is not just one right way to do something, so keep in mind that we are exploring only A particular path to the solution - if you come up with alternatives, go ahead and explore them."
      ]
    },
    {
      "cell_type": "markdown",
      "metadata": {
        "id": "iuvjY-OBOj8F"
      },
      "source": [
        "### step 2 - dissecting the problem, a stream-of-thought process\n",
        "Now we have an idea of the end deliverable, and next we need to figure out where to start in order to get there. One approach is to work backwards from the end product. As we do so, we will start to notice points that confuse us, things we need to check, Google around for, or test out in Python to understand. The thought process might go like this:\n",
        "- We need to produce 2 matrices each with same dimensions as the 13x16 microarray.\n",
        "- The values of elements in those matrices correspond to the green or red values from the image. \n",
        "- But how do we get the values from the image? \n",
        "- The image is a matrix - and we can access its values using Python/numpy\n",
        "- Can we simply loop through the image matrix and take the values at each spot?\n",
        "- Not really, because the dimensions from the image are not the same as the dimensions of the microarray or the output matrices that we want.\n",
        "- There are only 13x16 = 208 spots and many more elements (pixels) in the image matrix.\n",
        "- Somehow we need to only get data from locations in the image that correspond to the 208 spots...how can we do that?\n",
        "- Well, the spots are spaced out evenly on a grid, so if we just knew what the spacing between each spot is, we could figure out the coordinates by multiplying the spot's row/column position by its pixel spacing value.\n",
        ".\n",
        ".\n",
        ".\n"
      ]
    },
    {
      "cell_type": "markdown",
      "metadata": {
        "id": "Inf2yFEmQDyz"
      },
      "source": [
        "Try to follow the chain of logic and imagine yourself coming up with it. It is a kind of conversation you have with yourself where you try to organize what you know about the problem, ask yourself questions about it, and repeat. \n"
      ]
    },
    {
      "cell_type": "markdown",
      "metadata": {
        "id": "Cv1bYCO9yfiP"
      },
      "source": [
        "### step 3 - poking around using code\n",
        "\n",
        "Note how we already have a few more tangible programmable tasks: Firstly, we recognize that before doing anything, we would probably benefit from knowing the actual dimensions of the image - this is something we can readily check. We also want to figure out the spacing between spots - this is another problem that we can immediately start to think about a programming-based solution to solve, since it is just a matter of figuring out the ratio of the image dimensions to that of the microarray dimensions. Now we are at the stage when we have some concrete ideas on things we may need, but not yet a clear line to the finish. It's time to start poking around, checking how variables work, and exploring in a practical way the limits of what we know about the situation. Below we check the dimensions of the image matrix:"
      ]
    },
    {
      "cell_type": "code",
      "metadata": {
        "id": "sbZfByiIx-Tu"
      },
      "source": [
        "np.shape(img)"
      ],
      "execution_count": null,
      "outputs": []
    },
    {
      "cell_type": "markdown",
      "metadata": {
        "id": "S2-AKVGeyB-r"
      },
      "source": [
        "The dimensions of the image matrix reveal that it is actually a 3D matrix. How can that be? We might guess that the first two dimensions 306 and 381 are indeed the width and height in pixels of the image. What could the third number, the 4, be though? The answer we learn (after a bit of Googling for \"what are the 4 values in image data\") is that we are dealing with an RGBA image. Unlike the grayscale image matrix in the earlier example, we are dealing with a color image whereby each pixel has a red, green, blue, and alpha (transparency) value. \n",
        "\n",
        "Now let's think about the spacing between spots. The microarray grid has a width of 13 spots (but 12 spaces between spots), and the image has a width of 306 pixels. Conversely, the height of the microarray is 16 (with 15 spaces between spots) and the image is 381 pixels. If the spacing is the same in both horizontal and vertical directions. What we want, is to know how many pixels between spots there are, or the ratio of the number of pixels in the image to the number of spaces in the microarray:"
      ]
    },
    {
      "cell_type": "code",
      "metadata": {
        "id": "5DmVwp15Rzha"
      },
      "source": [
        "306/12"
      ],
      "execution_count": null,
      "outputs": []
    },
    {
      "cell_type": "code",
      "metadata": {
        "id": "lXDPu6PaRDDL"
      },
      "source": [
        "381/15"
      ],
      "execution_count": null,
      "outputs": []
    },
    {
      "cell_type": "markdown",
      "metadata": {
        "id": "vdIe9964d6f4"
      },
      "source": [
        "So based on this, we can say that there are about 25 pixels between each spot. Since the image begins and ends in spot locations, if we were to go through our image matrix (either going row by row or column by column), we should hit a spot pixel every time so long as we only check every 25 elements. The 0th spot should be located at pixels [0,0]. There should then be another spot at [0, 25], and yet another at [0, 50], and another at [0, 75]. In fact we could say that spot locations are microarray locations times 25. With microarray spot [0,1] corresponding to image location [0 * 25, 1 * 25], and microarray spot [1,3] for example occurring at image location [1 * 25, 3 * 25] = [25, 75]."
      ]
    },
    {
      "cell_type": "markdown",
      "metadata": {
        "id": "vfdVE31FgF1G"
      },
      "source": [
        "### step 4 - proposing our solution\n",
        "We know that we need to make two matrices, red and green, with elements corresponding to values in the spots. We know the dimensions of the image 306x381 and the dimensions of the microarray 13x16. We know the spacing between spots from our calculation above. And we know that each pixel is storing not just one brightness value, but 4 corresponding to the colored RGBA values. Now it is time to make the leap and try to propose a solution. It may help to use a pencil and paper and write a diagram, and we'll try to describe in words now what the program has to do. \n",
        "\n",
        "- The program should sample values from the image matrix at points where the spots are located. \n",
        "\n",
        "- Those spots should be located at their microarray location (e.g. 2nd row, 3rd column) times some multiplier - the number of pixels per space between two spots.\n",
        "\n",
        "- The program could use one loop to go through each row of the microarray, and a nested loop to go through each column element of those rows. \n",
        "\n",
        "- Each iteration of the loop will be used to update the value in our output matrix.\n",
        "\n",
        "- To find the appropriate value, the iterator variable multiplied by the number of pixels between spots should tell us where in the image we can sample from the spot. \n",
        "\n",
        "- Finally, we know that for a given matrix, we want only the red or green value from the image. So we will need to use the appropriate index from the 4-element long values in the image matrix when we are fetching our spot values. \n",
        "\n",
        "Can you picture the solution? This is the process you will need to go through (in your own personal way that makes sense to you) when you solve open ended problems. Below we copy our solution - try running it and playing with it to get an idea of how it works. Try for example changing the multiplier value. What is happening if we do that? What would make this algorithm more robust (e.g. to slight variations in brightness within each spot). "
      ]
    },
    {
      "cell_type": "code",
      "metadata": {
        "id": "PY6ScNcqQYHF"
      },
      "source": [
        "import numpy as np\n",
        "rows = 13 \n",
        "columns = 16 \n",
        "red_matrix = np.zeros((rows,columns))\n",
        "multiplier = 25  # here we round 25.4 to 25 since we can't count a fractional number of pixels in the image, it's gotta be an integer\n",
        "for i in range(0,rows): \n",
        "    for j in range(0,columns):\n",
        "        red_matrix[i,j] = img[i*multiplier][j*multiplier][0] # the [0] at the end is to fetch element 0 from the RGBA 4 element data stored in this pixel\n",
        "\n",
        "plt.imshow(red_matrix, cmap='binary_r') # let's visualize it and compare it with the original microarray, if we succeeded, then it should only be red data\n",
        "\n"
      ],
      "execution_count": null,
      "outputs": []
    },
    {
      "cell_type": "markdown",
      "metadata": {
        "id": "DfwzMTPeU4R6"
      },
      "source": [
        "## Problem 1.3\n",
        "**Complete what remains of the microarray problem - i.e. produce a matrix with just the green values in each spot. Using a pixel-to-microarray spacing conversion factor of 25 as we did above, what is the green value in the microarray spot at row 8 and column 12 (assuming numbering includes a row 0 and column 0)? Give your answer with a precision of 4 significant digits.**"
      ]
    },
    {
      "cell_type": "code",
      "metadata": {
        "id": "XhEHxKiO7GVK"
      },
      "source": [
        "## start your code ###"
      ],
      "execution_count": null,
      "outputs": []
    },
    {
      "cell_type": "markdown",
      "metadata": {
        "id": "RzEWv_kBvB7_"
      },
      "source": [
        "## Optional challenge problem\n",
        "Create a histogram of the values in the cry2.png image. I.e. a bar chart with the horizontal axis corresponding to brightness values (binned or divided in a way that illustrates the data well) and with the vertical axis showing the frequency of pixels corresponding to values in each respective bin (brightness range)."
      ]
    },
    {
      "cell_type": "code",
      "metadata": {
        "id": "SxL6nhHWuXSI"
      },
      "source": [
        ""
      ],
      "execution_count": null,
      "outputs": []
    }
  ]
}