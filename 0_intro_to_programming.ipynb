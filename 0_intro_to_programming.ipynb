{
  "nbformat": 4,
  "nbformat_minor": 0,
  "metadata": {
    "colab": {
      "name": "0_intro_to_programming.ipynb",
      "provenance": [],
      "authorship_tag": "ABX9TyNgWMsjxqAM3BH6W4qRSWX3",
      "include_colab_link": true
    },
    "kernelspec": {
      "name": "python3",
      "display_name": "Python 3"
    }
  },
  "cells": [
    {
      "cell_type": "markdown",
      "metadata": {
        "id": "view-in-github",
        "colab_type": "text"
      },
      "source": [
        "<a href=\"https://colab.research.google.com/github/Intertangler/bioinformatics_ith/blob/master/0_intro_to_programming.ipynb\" target=\"_parent\"><img src=\"https://colab.research.google.com/assets/colab-badge.svg\" alt=\"Open In Colab\"/></a>"
      ]
    },
    {
      "cell_type": "markdown",
      "metadata": {
        "id": "vnlKbu40hNGK"
      },
      "source": [
        "# Intro to Python programming using a Jupyter notebook\n",
        "## Working with variables\n",
        "You are currently viewing a live interactive programming environment called a Jupyter/Ipython notebook that is running on Google servers. We can run and write code in this environment, upload files, and even download additional programs or files to the remote servers that we are accessing here.\n",
        "\n",
        "The first thing to do is get used to how the system works. Let's start by defining a few variables. Try typing, for example, **A = 3** and **B = 4**, follow it up with a print statement with print(A). To execute a cell, hit **shift-enter** or click the play button. Get used to basic arithmetic capabilities of the python: we can add, subtract, multiply, and divide."
      ]
    },
    {
      "cell_type": "code",
      "metadata": {
        "colab": {
          "base_uri": "https://localhost:8080/"
        },
        "id": "GB4lCwxJiTd8",
        "outputId": "9388a9f8-0620-4e1a-ae2f-6c1e5a06f0bb"
      },
      "source": [
        "A = 3\n",
        "B= 4\n",
        "print(A,B)"
      ],
      "execution_count": 3,
      "outputs": [
        {
          "output_type": "stream",
          "text": [
            "3 4\n"
          ],
          "name": "stdout"
        }
      ]
    },
    {
      "cell_type": "code",
      "metadata": {
        "id": "rcw47uFgid_J"
      },
      "source": [
        "C = A + B\n",
        "D = A- B\n",
        "E = A*B\n",
        "F = A/B\n"
      ],
      "execution_count": 5,
      "outputs": []
    },
    {
      "cell_type": "markdown",
      "metadata": {
        "id": "BuzyK6Jgma9A"
      },
      "source": [
        "### Exercise 1:\n",
        "Use Python to solve the following arithmetic problem using the variable defined above. Let's make a new variable G that is the sum of C and D from the above example, and a new variable H that is the product of E and F. What is the sum of G and H? "
      ]
    },
    {
      "cell_type": "code",
      "metadata": {
        "colab": {
          "base_uri": "https://localhost:8080/"
        },
        "id": "GD4s3xhclg0S",
        "outputId": "11a0da8b-bcc6-4112-bb44-65cf5e48a31b"
      },
      "source": [
        "G = C + D\n",
        "H = E*F\n",
        "print(G+H)"
      ],
      "execution_count": 8,
      "outputs": [
        {
          "output_type": "stream",
          "text": [
            "15.0\n"
          ],
          "name": "stdout"
        }
      ]
    },
    {
      "cell_type": "markdown",
      "metadata": {
        "id": "ADjVHZsAmZNE"
      },
      "source": [
        ""
      ]
    }
  ]
}