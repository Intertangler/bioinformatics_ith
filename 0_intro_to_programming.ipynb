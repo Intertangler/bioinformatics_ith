{
  "nbformat": 4,
  "nbformat_minor": 0,
  "metadata": {
    "colab": {
      "name": "0_intro_to_programming.ipynb",
      "provenance": [],
      "collapsed_sections": [],
      "toc_visible": true,
      "authorship_tag": "ABX9TyOzg/XNmVsIUz1SwsNCLiVD",
      "include_colab_link": true
    },
    "kernelspec": {
      "name": "python3",
      "display_name": "Python 3"
    }
  },
  "cells": [
    {
      "cell_type": "markdown",
      "metadata": {
        "id": "view-in-github",
        "colab_type": "text"
      },
      "source": [
        "<a href=\"https://colab.research.google.com/github/Intertangler/bioinformatics_stockholm/blob/master/0_intro_to_programming.ipynb\" target=\"_parent\"><img src=\"https://colab.research.google.com/assets/colab-badge.svg\" alt=\"Open In Colab\"/></a>"
      ]
    },
    {
      "cell_type": "markdown",
      "metadata": {
        "id": "GnEgSvzsoyJo"
      },
      "source": [
        "# Intro to Python programming"
      ]
    },
    {
      "cell_type": "markdown",
      "metadata": {
        "id": "u-76wCeXh1lL"
      },
      "source": [
        "Welcome to the first of multiple programming exercises. We will be using Google Colab, a live programming environment running on Google's servers. This notebook is yours - you can (and should) save your notebook to Google drive. To make new blocks of code, hit the + Code icon at the top of the page. Hit ctrl-enter or shift-enter to execute a block of code.\n",
        "\n",
        "Work through the following examples and problems. Note that a portion of the material is tutorial-style examples whereas the \"problems\" are less-guided challenges that will be assessed. **Submit your answers to the problems on Canvas under the Assignments section**, and **submit also the \"share\" link** to your saved Google Colab notebook on Canvas. For the problems, we also ask that you **submit a 1 paragraph (2-4 sentences) explanation of WHY your code works** on Canvas. In your explanations, try not to focus on simply describing the code, and don't just describe the output or what the programs is supposed to produce (we know all that!), instead explain the purpose of intermediate steps and the rationale and structure behind the process that leads to the output.\n",
        "\n",
        "In today's problems, we provide an \"additional guidance\" section at the end of each prompt to help you get started with a bit more explicit instruction on what (in terms of programming) you should do exactly. However, note that as the course progresses, you will increasingly be expected to figure out this part from the problem description without the luxiury of explicit instructions. \n",
        "\n",
        "\n",
        "A final note: for your own learning, we also recommend that you play with the example code. Don't be afraid to modify and even \"break\" the code. This is a sandbox for you to play freely in, and you will want to grow as comfortable as possible in it as you will very soon be relying on your skills to solve problems!"
      ]
    },
    {
      "cell_type": "markdown",
      "metadata": {
        "id": "vnlKbu40hNGK"
      },
      "source": [
        "\n",
        "## Defining variables and doing arithmetic on them\n",
        "You are currently viewing a live interactive programming notebook that is running on Google servers. We can run and write code in this environment, upload files, and even download additional programs or files to the remote servers that we are accessing here.\n",
        "\n",
        "Let's start by defining a few variables and utilizing the basic arithmetic capabilities of Python. You will see that it can be used at its most basic level as a handy calculator.\n",
        "\n",
        "Try typing, for example, **A = 3** and **B = 4**, follow it up with a print statement with print(A). To execute a cell, hit **ctrl-enter** or click the play button. "
      ]
    },
    {
      "cell_type": "code",
      "metadata": {
        "colab": {
          "base_uri": "https://localhost:8080/"
        },
        "id": "GB4lCwxJiTd8",
        "outputId": "8cc11689-099a-4bd9-f229-04289bcd869a"
      },
      "source": [
        "A = 3\n",
        "B= 4\n",
        "print(A,B)"
      ],
      "execution_count": null,
      "outputs": [
        {
          "output_type": "stream",
          "text": [
            "3 4\n"
          ],
          "name": "stdout"
        }
      ]
    },
    {
      "cell_type": "markdown",
      "metadata": {
        "id": "D3QUqWJIF5S4"
      },
      "source": [
        "Get used to basic arithmetic capabilities of the python: we can add, subtract, multiply, and divide using + - * and / characters. Try computing C+D-E\\*F and note the order of operations that is followed by Python. Then try computing C+(D-E)\\*F\n",
        "Do you get a different answer?"
      ]
    },
    {
      "cell_type": "code",
      "metadata": {
        "id": "rcw47uFgid_J",
        "colab": {
          "base_uri": "https://localhost:8080/"
        },
        "outputId": "ca1f229e-ef33-4c3f-85ab-48df224832b0"
      },
      "source": [
        "C = A + B\n",
        "D = A- B\n",
        "E = A*B\n",
        "F = A/B\n",
        "print(C+D-E*F)\n",
        "print(C+(D-E)*F)"
      ],
      "execution_count": null,
      "outputs": [
        {
          "output_type": "stream",
          "text": [
            "-3.0\n",
            "-2.75\n"
          ],
          "name": "stdout"
        }
      ]
    },
    {
      "cell_type": "markdown",
      "metadata": {
        "id": "ADjVHZsAmZNE"
      },
      "source": [
        "### importing external modules/libraries to access useful functions\n",
        "If we want to do other kinds of math operations, we can use Python's math libary. Much of Python's functionality is stored in such modules, and to use them we need to first import them. Then when we have imported the library, we can call functions from the library, for computing a square root, factorial, or cosine operation for example.\n",
        "\n",
        "Note the form of libraryname.function() and how if we just tried to run sqrt(4) we would get an error. We can use the math.factorial() function to compute **5!** or 5\\*4\\*3\\*2\\*1"
      ]
    },
    {
      "cell_type": "code",
      "metadata": {
        "colab": {
          "base_uri": "https://localhost:8080/"
        },
        "id": "ce4JygBIF2-L",
        "outputId": "22264215-593b-421d-812a-3cf3ce52cdff"
      },
      "source": [
        "import math\n",
        "my_square_root = math.sqrt(4)\n",
        "my_factorial = math.factorial(5)\n",
        "print(my_square_root, my_factorial)"
      ],
      "execution_count": null,
      "outputs": [
        {
          "output_type": "stream",
          "text": [
            "2.0 120\n"
          ],
          "name": "stdout"
        }
      ]
    },
    {
      "cell_type": "markdown",
      "metadata": {
        "id": "b14FdDwrMEzR"
      },
      "source": [
        "## problem 0.1\n",
        "**Consider a 12-base long stretch of DNA that is composed of exactly 2 A's, 4 T's, 3 G's and 3 C's. How many unique sequences can we create? We can use a formula to solve this problem: for a sequence of $N$ characters with $t$ categories of which $n_i$ objects in each category are redundant, the number of possible sequences is : $W = \\frac{N!}{n_1!n_2!...n_t!}$**\n",
        "\n",
        "Additional guidance:\n",
        "Use the formula using N=12 and $n_A = 2, n_T = 4, ...etc$ the number of redundant bases of each type. Write a short python program that evaluates the formula with the specified inputs, using the math.factorial() function to compute the factorial items in the formula.\n",
        "\n"
      ]
    },
    {
      "cell_type": "markdown",
      "metadata": {
        "id": "cnapVuRXQ0ZR"
      },
      "source": [
        "## Variable types - integers and floating points\n",
        "Python variables have a type. This type determines its compatibility with different functions. Two basic variable types are integers and floating point numbers. Integers are for counting a discrete number of events or objects, whereas floating point numbers can take on fractional or decimal values. \n",
        "\n",
        "Define one of each and note the difference in how Python displays them. What does this tell you about the numbers generated in the exercises above? What happens when we don't specify variable type with int() and float(). Play around with it to find out.\n"
      ]
    },
    {
      "cell_type": "code",
      "metadata": {
        "colab": {
          "base_uri": "https://localhost:8080/"
        },
        "id": "VcZ1yTuSXG2X",
        "outputId": "70f02ebd-54f6-4a27-ce2a-9e21d87b7a4e"
      },
      "source": [
        "X = int(3) \n",
        "Y = float(5)\n",
        "print(X, Y)"
      ],
      "execution_count": null,
      "outputs": [
        {
          "output_type": "stream",
          "text": [
            "3 5.0\n"
          ],
          "name": "stdout"
        }
      ]
    },
    {
      "cell_type": "markdown",
      "metadata": {
        "id": "8grsXLjdgAbU"
      },
      "source": [
        "### redefining variables\n",
        "In programming, the equals-sign is a bit different from how we know it from math. Instead of creating an algebraic equation that can be rearranged, in programming an equals sign is used to \"assign\" a value to a variable name. Anything to the right of an equals sign in Python is first evaluated and then assigned to the name on the left of the equals sign. \n",
        "\n",
        "This means that we can also re-assign a value to a variable name. So we are not making a truth statement when we write x = 3 + 4 in programming, we are simply defining x to be whatever 3 + 4 equals. "
      ]
    },
    {
      "cell_type": "code",
      "metadata": {
        "colab": {
          "base_uri": "https://localhost:8080/"
        },
        "id": "7OopgmXkhk5p",
        "outputId": "48fc002e-5dd0-417d-fd6c-7385d2c25c21"
      },
      "source": [
        "x = 3 + 4\n",
        "print(x)\n",
        "x = 90298374\n",
        "print(x)"
      ],
      "execution_count": null,
      "outputs": [
        {
          "output_type": "stream",
          "text": [
            "7\n",
            "90298374\n"
          ],
          "name": "stdout"
        }
      ]
    },
    {
      "cell_type": "markdown",
      "metadata": {
        "id": "6vG55lV0hkON"
      },
      "source": [
        "This may or may not seem obvious to you, but it becomes even more important later when we begin iterating code, and a variable can start to take on different values depending on what stage the code is at as it is executing. \n"
      ]
    },
    {
      "cell_type": "markdown",
      "metadata": {
        "id": "o38aw8I0aGmk"
      },
      "source": [
        "## strings - a useful variable type for bioinformatics\n",
        "Strings are sequences of characters, and will thus be very important for bioinformatics when representing DNA, RNA, and protein sequences. One of the basic properties of strings is that each character in them has a position or \"index\". Accessing particular characters or stretches of characters is called \"indexing\" or \"slicing\". Being able to manipulate and access different parts of strings is something we will keep returning to. Get some practice now and create some strings using the \" characters or the str() function."
      ]
    },
    {
      "cell_type": "code",
      "metadata": {
        "colab": {
          "base_uri": "https://localhost:8080/"
        },
        "id": "VKl_9uW1amSa",
        "outputId": "f2148fe7-9625-482a-f684-10293aca10f9"
      },
      "source": [
        "my_string = \"this is a string!\"\n",
        "my_string_2 = str(33457567)\n",
        "print(my_string)\n",
        "print(my_string_2)\n"
      ],
      "execution_count": null,
      "outputs": [
        {
          "output_type": "stream",
          "text": [
            "this is a string!\n",
            "33457567\n"
          ],
          "name": "stdout"
        }
      ]
    },
    {
      "cell_type": "markdown",
      "metadata": {
        "id": "17xu3XbYavcl"
      },
      "source": [
        "Note how even though my_string_2 is a number, we will get an error if we try to perform arithmetic on it. That's because Python is treating it like a piece of text."
      ]
    },
    {
      "cell_type": "code",
      "metadata": {
        "id": "KK-HtRmkapYu"
      },
      "source": [
        "my_string_2 + 3"
      ],
      "execution_count": null,
      "outputs": []
    },
    {
      "cell_type": "markdown",
      "metadata": {
        "id": "RGhw3ldRa-GL"
      },
      "source": [
        "Use brackets to locate a character in a string based on its \"index\" i.e. if we counted each character starting with the number 0. Try retrieving the characters stored in indexes 4 and 3 from our two strings respectively."
      ]
    },
    {
      "cell_type": "code",
      "metadata": {
        "colab": {
          "base_uri": "https://localhost:8080/"
        },
        "id": "Wgd3FpaAa68_",
        "outputId": "024826bf-1b9e-4b1c-bb96-0002d87dc3a2"
      },
      "source": [
        "print(my_string[5])\n",
        "print(my_string_2[3])\n"
      ],
      "execution_count": null,
      "outputs": [
        {
          "output_type": "stream",
          "text": [
            "i\n",
            "5\n"
          ],
          "name": "stdout"
        }
      ]
    },
    {
      "cell_type": "markdown",
      "metadata": {
        "id": "qgJpitpwecdz"
      },
      "source": [
        "To access characters from the end of the sequence instead of the beginning, use the negative numbers (-1 for the last character) in the brackets. "
      ]
    },
    {
      "cell_type": "code",
      "metadata": {
        "colab": {
          "base_uri": "https://localhost:8080/",
          "height": 35
        },
        "id": "1S5G4GGpebrR",
        "outputId": "34a9f642-3b02-4b90-8d54-3bedd742f669"
      },
      "source": [
        "my_string[-1]\n"
      ],
      "execution_count": null,
      "outputs": [
        {
          "output_type": "execute_result",
          "data": {
            "application/vnd.google.colaboratory.intrinsic+json": {
              "type": "string"
            },
            "text/plain": [
              "'!'"
            ]
          },
          "metadata": {
            "tags": []
          },
          "execution_count": 35
        }
      ]
    },
    {
      "cell_type": "markdown",
      "metadata": {
        "id": "3ir-EBCNevoK"
      },
      "source": [
        "Try slicing a string using the colon character. What is the output of my_string[:] We can select part of a string by creating a range with the colon. What is the output of my_string[0:4] What is the output of my_string[::-1].\n",
        "\n"
      ]
    },
    {
      "cell_type": "code",
      "metadata": {
        "colab": {
          "base_uri": "https://localhost:8080/"
        },
        "id": "yOoYHihAensg",
        "outputId": "a9f31681-0668-489f-ee87-0d12cfcf3057"
      },
      "source": [
        "print(my_string[:])\n",
        "print(my_string[0:6])\n",
        "print(my_string[::-1])\n"
      ],
      "execution_count": null,
      "outputs": [
        {
          "output_type": "stream",
          "text": [
            "this is a string!\n",
            "this i\n",
            "!gnirts a si siht\n"
          ],
          "name": "stdout"
        }
      ]
    },
    {
      "cell_type": "markdown",
      "metadata": {
        "id": "Z87xSIYze1Oy"
      },
      "source": [
        "Play around with this a bit more until you feel comfortable with it. We will need to know how to access different parts of strings in the future. How would we reference, for example, the last 4 items, in reverse?"
      ]
    },
    {
      "cell_type": "code",
      "metadata": {
        "colab": {
          "base_uri": "https://localhost:8080/",
          "height": 35
        },
        "id": "7iTO4dhNbSdc",
        "outputId": "a2e5593f-70c2-4202-8f6e-bcf6a482bacc"
      },
      "source": [
        "my_string[-4:][::-1]"
      ],
      "execution_count": null,
      "outputs": [
        {
          "output_type": "execute_result",
          "data": {
            "application/vnd.google.colaboratory.intrinsic+json": {
              "type": "string"
            },
            "text/plain": [
              "'!gni'"
            ]
          },
          "metadata": {
            "tags": []
          },
          "execution_count": 10
        }
      ]
    },
    {
      "cell_type": "markdown",
      "metadata": {
        "id": "_ZvXg41jr45m"
      },
      "source": [
        "## lists and numpy arrays - AKA non-visual spreadsheets\n",
        "Lists are another important variable type, and one of the most important data structures for scientific programming especially. A list is exactly what it sounds like - it is a list of python objects (e.g. a list of numbers or strings). Lists can even store other lists. So why so important? List are the variable that we will often use to store data, and processing that data therefore will involve operations performed on lists.\n",
        "\n",
        "for example:\n"
      ]
    },
    {
      "cell_type": "code",
      "metadata": {
        "id": "TgAVLcZ0KR2k",
        "colab": {
          "base_uri": "https://localhost:8080/"
        },
        "outputId": "117821c4-7fd4-407c-9883-7ea867b8d39f"
      },
      "source": [
        "example_a = [1, 3, 6, 329, 5]\n",
        "\n",
        "example_b = ['itema' , 'itemb' , 'blablabla']\n",
        "\n",
        "print(example_a, example_b)"
      ],
      "execution_count": null,
      "outputs": [
        {
          "output_type": "stream",
          "text": [
            "[1, 3, 6, 329, 5] ['itema', 'itemb', 'blablabla']\n"
          ],
          "name": "stdout"
        }
      ]
    },
    {
      "cell_type": "markdown",
      "metadata": {
        "id": "q5xjiwvFdNaB"
      },
      "source": [
        "We use the same indexing rules as strings to access different parts of a list. For example to get items 0 through 3, we would use bracket notation again:"
      ]
    },
    {
      "cell_type": "code",
      "metadata": {
        "colab": {
          "base_uri": "https://localhost:8080/"
        },
        "id": "-_7t2gfedJyQ",
        "outputId": "fd3cf415-a5bf-47ea-de18-93d05e404922"
      },
      "source": [
        "example_a[0:3]"
      ],
      "execution_count": null,
      "outputs": [
        {
          "output_type": "execute_result",
          "data": {
            "text/plain": [
              "[1, 3, 6]"
            ]
          },
          "metadata": {
            "tags": []
          },
          "execution_count": 13
        }
      ]
    },
    {
      "cell_type": "markdown",
      "metadata": {
        "id": "dRoG-HE1eEgx"
      },
      "source": [
        "Note above how item 3 is omitted (items 0, 1, and 2 were returned), and the first item is actually numbered as item 0 and not 1. To not get confused, try to refer to things by their item or element number (e.g. item 0 or item 25) instead of the more ambiguous term \"first item\". It's not a hard rule, and you will see it written ambigously often, but for your own mental clarity it can be good to have a convention!"
      ]
    },
    {
      "cell_type": "markdown",
      "metadata": {
        "id": "6XVlh3KR-qSP"
      },
      "source": [
        "### numpy - a powerful library for dealing with array-like structures\n",
        "In addition to lists, scientific programming in Python increasingly relies on an external library called \"numpy\". Numpy, like the math library, is imported with an import statement \"import numpy\" and for brevity we will use the convention of renaming it to \"np\". That way when we use functions, we will type np.functionname() instead of numpy.functionname(). This is not strictly required, but it is a common convention among scientific programmers and saves a bit of typing."
      ]
    },
    {
      "cell_type": "code",
      "metadata": {
        "id": "rcz4aOKj-7Jw"
      },
      "source": [
        "import numpy as np"
      ],
      "execution_count": null,
      "outputs": []
    },
    {
      "cell_type": "markdown",
      "metadata": {
        "id": "OklRQjnI_Vwp"
      },
      "source": [
        "Now numpy lets us make a list-like data structure called an \"array\". It is almost identical - a sequential structure of numbers or other objects. Let's make one using the array() function, which takes a list format as its input, for example:"
      ]
    },
    {
      "cell_type": "code",
      "metadata": {
        "colab": {
          "base_uri": "https://localhost:8080/"
        },
        "id": "jq-slSUV_2Mh",
        "outputId": "78350c4c-5a6d-4471-f75a-c44bd39a591c"
      },
      "source": [
        "my_array1 = np.array([1,4,6,7,45,7,2,4,667,45,23,47,245])\n",
        "my_array2 = np.array([\"DNA\", \"protein\", \"RNA\"])\n",
        "my_array3 = np.array([my_array1, my_array1, my_array1])\n",
        "print(my_array1[:5])\n",
        "print(my_array3)"
      ],
      "execution_count": null,
      "outputs": [
        {
          "output_type": "stream",
          "text": [
            "[ 1  4  6  7 45]\n",
            "[[  1   4   6   7  45   7   2   4 667  45  23  47 245]\n",
            " [  1   4   6   7  45   7   2   4 667  45  23  47 245]\n",
            " [  1   4   6   7  45   7   2   4 667  45  23  47 245]]\n"
          ],
          "name": "stdout"
        }
      ]
    },
    {
      "cell_type": "markdown",
      "metadata": {
        "id": "xz83IvvsAaoP"
      },
      "source": [
        "So what's the difference between this and lists you ask? Mainly it comes down to performance and scientific functionality. Numpy functions are implemented in lower-level code and thus get processed faster and occupy less memory than lists - this becomes important when dealing with large data and longer programs. Numpy also comes with a host of additional scientific computing functions that are indispensible when dealing with data. Let's try a few of them now:"
      ]
    },
    {
      "cell_type": "code",
      "metadata": {
        "colab": {
          "base_uri": "https://localhost:8080/"
        },
        "id": "BTmOmfqDAp_a",
        "outputId": "241667fa-303e-4cc0-c894-cd072a211833"
      },
      "source": [
        "my_standard_deviation = np.std(my_array1)\n",
        "my_mean = np.average(my_array1)\n",
        "my_count = np.size(my_array1)\n",
        "my_max = np.max(my_array1)\n",
        "my_min = np.min(my_array1)\n",
        "print([my_standard_deviation, my_mean, my_count,my_max,my_min])\n"
      ],
      "execution_count": null,
      "outputs": [
        {
          "output_type": "stream",
          "text": [
            "[179.37663262354144, 84.84615384615384, 13, 667, 1]\n"
          ],
          "name": "stdout"
        }
      ]
    },
    {
      "cell_type": "markdown",
      "metadata": {
        "id": "G75Dba4Ve3MH"
      },
      "source": [
        "## loops - the most important concept concept in all of programming\n",
        "\n",
        "A loop is a programming operation that repeats a block of code with inputs that change upon each iteration. The most commonly used type of loop is the \"for loop\" which requires that we specify how many times a code block is repeated. Try playing with the values of the inputs on the example below and observing what happens to the output."
      ]
    },
    {
      "cell_type": "code",
      "metadata": {
        "id": "9Guao6eZeA0B"
      },
      "source": [
        "A = 10\n",
        "number_of_repeats = 5\n",
        "\n",
        "for i in [1,2,0,0,4]:\n",
        "    A = A + i\n",
        "    print(A)\n",
        "print(\"the final value of A is\", A)"
      ],
      "execution_count": null,
      "outputs": []
    },
    {
      "cell_type": "markdown",
      "metadata": {
        "id": "e7EGv8POeECQ"
      },
      "source": [
        "Here \"i\" is the iterator, the variable that changes with each run of the loop. We supplied the loop with a list [1,2,0,0,4] and on each iteration, the variable i will take on a value from the list. On the first iteration i is 1, then on the second it is 2, then 0, and so on. \n",
        "\n",
        "Each time A gets redefined as whatever it was at the beginning of the latest iteration plus the changing value of i. \n",
        "\n",
        "Note also the syntax: the word \"for\" followed by a space, the name of the iterator (\"i\" in this case, but we could call it anything we want), the word \"in\", the list supplied, and the colon at the end. Everything happening \"inside\" the loop is indented with 4 spaces. Anything indented gets executed during the multiple times the loop is repeated. The indentation is, unlike some languages, part of the syntax and you will get errors if you ignore indentation or do it carelessly (e.g. adding the wrong number of spaces). The last print statement at the end of the code, which is not indented, only gets executed once since it is \"outside\" the loop. Note how the color of the text changes automatically indicating that the editor has recognized the loop syntax."
      ]
    },
    {
      "cell_type": "markdown",
      "metadata": {
        "id": "tg0KmA7eYJsn"
      },
      "source": [
        "Here's a very basic loop that just prints the value of the iterator itself:"
      ]
    },
    {
      "cell_type": "code",
      "metadata": {
        "colab": {
          "base_uri": "https://localhost:8080/"
        },
        "id": "EzZumKhIYNj9",
        "outputId": "a12f4494-fdeb-4007-c324-26c055e64edd"
      },
      "source": [
        "for iterator in [1,4,6,7,8]:\n",
        "  print(iterator)"
      ],
      "execution_count": null,
      "outputs": [
        {
          "output_type": "stream",
          "text": [
            "1\n",
            "4\n",
            "6\n",
            "7\n",
            "8\n"
          ],
          "name": "stdout"
        }
      ]
    },
    {
      "cell_type": "markdown",
      "metadata": {
        "id": "l12dOdkJmKJb"
      },
      "source": [
        "Since this is so important, let's do another one. The loop below will help us calculate a factorial. $N! = N(N-1)(N-2)...(1)$ We will introduce another helpful tool here which is the range() function. This simply makes a list of integers from a starting point $n_0,  n_0 + 1, n_0 + 2...$ to an endpoint $n_{final}$. Instead of manually supplying a list as we did in the loop above, this time we will simply generate a list of integers with range()."
      ]
    },
    {
      "cell_type": "code",
      "metadata": {
        "id": "4rHIhfCcmJhm"
      },
      "source": [
        "base = 7\n",
        "factorial = base\n",
        "multiplier = base\n",
        "for i in range(0,base-1):\n",
        "  multiplier = multiplier - 1\n",
        "  factorial = factorial*multiplier\n",
        "  print(factorial)\n",
        "\n",
        "print(\"the final computed factorial of \", base, \" is \", factorial)"
      ],
      "execution_count": null,
      "outputs": []
    },
    {
      "cell_type": "markdown",
      "metadata": {
        "id": "thELm7V_pfcT"
      },
      "source": [
        "Let's unpack this a bit. First of all, what exactly is the range(0,base-1) line that we mentioned above? Try running it in isolation on your own to see. It's just a list, so like the earlier example, we are specifying what values the iterator variable will take on as it repeats the loop each time.\n",
        "\n",
        "Then let's look at what happens to the variable that we called \"multiplier\". At the beginning of the program its value is 7. But then as we go through the loop, it gets redefined as itself minus 1. Since it happens multiple times, what do you think the value of \"multiplier\" is after the whole program is done? You can check for yourself. What part of the original mathematical formula $N! = N(N-1)(N-2)...(1)$ does the \"multiplier\" variable correspond to?\n",
        "\n",
        "Finally, what about the variable called \"factorial\". We see that in the beginning, we just set it equal to the same value as that of \"base\". But its value, like \"multiplier\", changes as the loop is repeated. In the end, it ends up taking on the value of the answer - i.e. the factorial value that we wanted to compute in the first place. What part of the equation $N! = N(N-1)(N-2)...(1)$ does this factorial variable correpond to during the execution? \n"
      ]
    },
    {
      "cell_type": "markdown",
      "metadata": {
        "id": "jL5C8apuYXPq"
      },
      "source": [
        "In addition to looping through lists, we can loop through strings in exactly the same way. "
      ]
    },
    {
      "cell_type": "code",
      "metadata": {
        "colab": {
          "base_uri": "https://localhost:8080/"
        },
        "id": "O-_jMHzoYgXf",
        "outputId": "42ff91b2-fcd0-403c-e897-1434fec2f507"
      },
      "source": [
        "my_string = \"TACGAGCGACTGAGACTGAC\"\n",
        "for base in my_string:\n",
        "  print(base)"
      ],
      "execution_count": null,
      "outputs": [
        {
          "output_type": "stream",
          "text": [
            "T\n",
            "A\n",
            "C\n",
            "G\n",
            "A\n",
            "G\n",
            "C\n",
            "G\n",
            "A\n",
            "C\n",
            "T\n",
            "G\n",
            "A\n",
            "G\n",
            "A\n",
            "C\n",
            "T\n",
            "G\n",
            "A\n",
            "C\n"
          ],
          "name": "stdout"
        }
      ]
    },
    {
      "cell_type": "markdown",
      "metadata": {
        "id": "vlyhpFcIrwAp"
      },
      "source": [
        "## problem 0.2\n",
        "In bioinformatics, we are often processing lists of sequence data and extracting information about those sequences as we go. In such cases, it will usually be a for-loop that gets used to go through each sequence.\n",
        "**Use a for-loop that, on each iteration, prints out: the index (i.e. numerical position or order) of each of the sequences in the ordered list we called data_sequences below, the actual sequence itself as a string, and the length of the sequence in number of bases. For Canvas: what is the length in bases of sequence #57 (abiding by the convention that the first sequence is sequence #0)?**\n",
        "\n",
        "Additional guidance: Your for-loop should use an iterator variable that indicates which iteration number we're on (as opposed to an iterator that takes on the values of the data), and you can do that by creating a loop-counter style for-loop where instead of feeding the loop a string, you provide it the range(start, end) generator. As inputs to the range(start, end) generator, use the starting number (0) and the end number (the number of elements long that the data_sequences list is). Note also that, for determining the number of elements of a string OR list, you can use the len() function with the list or string of interest as its input."
      ]
    },
    {
      "cell_type": "code",
      "metadata": {
        "id": "tfGSMOLVzeaH"
      },
      "source": [
        "data_sequences = [\"ACTAGCTGACGTATGCGTAT\",\"AGCGAT\",\"TGATCGA\",\"TAGCTAGCTGTATC\",\"AGCTACGTATCTATCG\",\"ATCGATCTACTGCGTTA\",\"ATGCATCTGATC\",\"TAGCTAGCATGCTATC\", \"ATGCTGACGTATATCTATCTATATCTAGTC\", \"TGATGATGATGATGATG\",\"CGATATATCGATCTATCATGC\",\"GAGTCATGTATC\",\"TAGCATCGTTTTTTTTTTTACGAGTCGCGGGGCG\",\"GAGCTATCTGATAAAGCGAGCGAC\",\"GAGTCATGCGTATGCTATATCTATCTATCAAA\",\"AAATATTAGGAGTGAATGA\",\"AAGAGGGCTCTTCTGAGTCGATGCAT\",\"ATTGCTAGGATCGGCCCGATCGGATTAGATTGG\",\"GGATAGCATCCCTAGCTAGTCAGTATGAGAGTAGGAGAGCTCTCGG\",\"ACTAGGAGATCTGAGAATATGCGCGAGATAG\",\"TTAGAGCGATCGAGATTGAGCATCTGTA\",\"AATAGCGATCATAGGATGTGATCGAGTACG\",\"TAGGAGAGGCTCTGCGCGCTCGATCCAGCTAGCACACAGTATG\",\"ACTATCGCACTATCA\",\"ATATCAGGATCGACTATTCGAG\",\"ACACACAACTGTGATGAGT\",\"ATCATATGATGAGAAGAT\",\"ATGGAGAGAATTTAGAGATG\",\"AGTAGTAATTAGATGATGGAGT\",\"CAGACACACGCACCGT\",\"CGTCTGCTTGCCGTTTTGCGTGCG\",\"CGTCCTTCGCTTTTGCTGTTGTG\",\"CTGGTCTCTGCTGCTGCTGCG\",\"GTTATCTAGTCATGCGTATCT\",\"ATTGATCTATCTAGCAGTCTATC\",\"TATCTATCTATATATATATCGATCTATCGGCT\",\"CGCGCAGAGGAGCAGCTATCGATCGAC\",\"TAGCGAGCGAGGAGCGCGAGCTAGCGACTG\",\"GAGCGAGCTAGCGAGCTAGAGTGAGCT\",\"TAGGAGCGAGCGAGCTAGCGACGA\",\"GAGCGATGAGCGACGGACTAGCGAT\",\"GAGAGCGATCGAGCGGATCGACGAGCTG\",\"GAGCAGTAAGCGAGCACTAGCGATCGAC\",\"GAGCGATCAGGCAGCACTATTATCGAT\",\"GACGATCGAGCGATCGAGCATCGAGCTAGCT\",\"TACGAGCGATCGAGCATCGACGATCGACGATCGACTG\",\"TACGTAGCAGCTTATATAGCGAC\",\"GACTAGCGACTATTATTTTATATCTGACTTG\",\"TACGTAGCATCGACTAGCATCGACGGCGCG\",\"ATAGGCTACTTAC\",\"TACTAGCTAAA\",\"AACACAAAA\",\"AAAAAAAATTATAGAGA\",\"GGGATATATAGATACCA\",\"GGGTCGGTCTGCTGCTCGCCCTGATC\",\"GAGATCGCCTCGATCGCCTAGCT\",\"ATCGATCGATCTCGATATCGCTTA\",\"AGGAGACTGATGCAT\",\"AGAGCTAGCTGGTCGTA\",\"ATACGTCTCTCGAGAGTACGCT\",\"TAGAGCTACGCTATGTTTGACGTCGC\",\"GGCGTAACTGCTACCCTGA\",\"AACTGGCTCGTTAGCTAACTG\",\"ATGCGATCGTACTTAGCATCATCGACTAGCGATCGCGC\",\"GAGCTAGTCGATCTACGATCGAGC\",\"ATTGACGTAGCGTGGAGCTGCGTAGAC\",\"GATCTGCGCGCCTCTCGCTGACTGT\",\"TATAGCGATAGCTACGATCGACGATGCGTA\",\"TCTCGCGCTCGATCGACTAGCATGCATATC\",\"TATCGAGCTCTCGCGATCTGACGTAC\",\"ACACACAAAAC\",\"CCGCTCGCACACAC\",\"ATCGATCACACACA\",\"ATGATGATATGGATGAGGCGAC\",\"AGAGTAGTATGAGAGAG\",\"AAGAAAAGAGTTTTGG\",\"GGGAGAGAGATTGATAGG\",\"TTTGATGTAGAGAGA\",\"AAAAGTTATTTGAGAG\",\"AAAGTGTATGTATGTAGG\",\"AGAGAAGAAAAAGGA\",\"AGAAGAGAGGAAAAAAGA\",\"ATATTATTTTATATAT\",\"AAAGGAGGAAGGAGGAGAGAGA\",\"ATTATATGTTATTTATGGA\",\"GGGAGGAGGGGGG\",\"ACCAACACCAAACGCTAGCAT\",\"TAGCTAGTCATGACTGCAGTCA\",\"TAGCGTAGTCTAGC\",\"AGCGCGTATCGTATGC\",\"TAGCTAGCTAGTC\",\"TAGCTAGCTACGTCGATCGATC\",\"ACTATCATTCTATGCA\",\"ATGCTTAGTATTAGTCTATCATCGTATCTGAGTCTA\"]"
      ],
      "execution_count": null,
      "outputs": []
    },
    {
      "cell_type": "markdown",
      "metadata": {
        "id": "sNHElR6AKi3_"
      },
      "source": [
        "## conditional statements --> decisions or forks in programming\n",
        "Another important piece in our toolbox is the conditional or \"if-statement\". We will use this again and again to create programs that operate differently based on the status of a particular variable. Have a look at the following and note the syntax of the code. Try changing the value of the input variable and rerun the code to observe how the different outcomes can be influenced."
      ]
    },
    {
      "cell_type": "code",
      "metadata": {
        "colab": {
          "base_uri": "https://localhost:8080/"
        },
        "id": "ZvactQvULQzM",
        "outputId": "f51f438f-ab0e-4245-a425-3ed3e0c0cdd7"
      },
      "source": [
        "an_arbitrary_number = 32\n",
        "if an_arbitrary_number > 10:\n",
        "  print(\"it's greater than ten\")\n",
        "elif an_arbitrary_number == 10:\n",
        "  print(\"it's equal to ten\")\n",
        "else:\n",
        "  print(\"it's neither greater than ten nor equal to ten\")"
      ],
      "execution_count": null,
      "outputs": [
        {
          "output_type": "stream",
          "text": [
            "it's greater than ten\n"
          ],
          "name": "stdout"
        }
      ]
    },
    {
      "cell_type": "markdown",
      "metadata": {
        "id": "d0gZN9lUL66d"
      },
      "source": [
        "We can put as many elif conditions as we like. The program will evaluate each until it finds a condition that is satisfied. Note also how we are using a different kind of equals sign (the == double equals). This is evaluating the truth of a proposition and not defining a variable as with the single equals. See below:"
      ]
    },
    {
      "cell_type": "code",
      "metadata": {
        "colab": {
          "base_uri": "https://localhost:8080/"
        },
        "id": "HMj-klQ0MSZc",
        "outputId": "2d9cb25e-ee40-43f6-a649-abc446d7344e"
      },
      "source": [
        "print(1 + 1 == 2)\n",
        "print(1 + 1 == 3)"
      ],
      "execution_count": null,
      "outputs": [
        {
          "output_type": "stream",
          "text": [
            "True\n",
            "False\n"
          ],
          "name": "stdout"
        }
      ]
    },
    {
      "cell_type": "markdown",
      "metadata": {
        "id": "IH27zjrPrOA2"
      },
      "source": [
        "## dealing with data\n",
        "Now we're finally able to start doing some scientific programming. You now know how to make strings and lists and you hopefully have an idea of what a loop is and how it works. Now we will try to put these ideas together to do some basic data processing. Let's start with a classic excel-spreadsheet-kind-of-problem, except instead of using a spreadsheet, we will do everything with lists. This can be a bit of an adjustment, but once you master this, your powers will go beyond what spreadsheets allow. \n"
      ]
    },
    {
      "cell_type": "markdown",
      "metadata": {
        "id": "7DkqLuNs4IYN"
      },
      "source": [
        "### fetching our data and assigning it to a variable\n",
        "Let's start by fetching some experimental data. The following block of code is a bit complicated due to our online situation, so feel free to simply run it with ctrl-enter and then ignore the details of the code itself as in most practical scenarios you will be working with local files on your own computer. The main point is that we are creating a variable with our data in it. The data comes from a capillary electrophoresis run - essentially the detected signal of fluorescently-labeled DNA forced to separate by size as its transits through a porous gel.\n",
        "\n",
        "For those interested: The following block will first download our course content to Google's server (checking first if it has already been downloaded and skipping that step if it has). Then we use the sys library to add the downloaded folder to Python's list of directories that it checks automatically for content (the so-called \"PATH\"). Then we will use a handy numpy function to load a text file in that folder and store it automatically as a numpy array."
      ]
    },
    {
      "cell_type": "code",
      "metadata": {
        "id": "y84BzM1Jnm8c",
        "colab": {
          "base_uri": "https://localhost:8080/"
        },
        "outputId": "94ec3f1b-72bf-4b99-b4db-9adf6bd826a9"
      },
      "source": [
        "import os.path\n",
        "import sys\n",
        "from os import path\n",
        "import numpy as np\n",
        "\n",
        "if path.exists(\"/content/bioinformatics_stockholm/\"):\n",
        "    pass\n",
        "else:\n",
        "    !git clone https://github.com/Intertangler/bioinformatics_stockholm\n",
        "sys.path.insert(0,'/content')\n",
        "data = np.loadtxt('/content/bioinformatics_stockholm/bioanalyzer_simple_data.txt')"
      ],
      "execution_count": null,
      "outputs": [
        {
          "output_type": "stream",
          "text": [
            "Cloning into 'bioinformatics_stockholm'...\n",
            "remote: Enumerating objects: 50, done.\u001b[K\n",
            "remote: Counting objects: 100% (50/50), done.\u001b[K\n",
            "remote: Compressing objects: 100% (47/47), done.\u001b[K\n",
            "remote: Total 129 (delta 23), reused 11 (delta 3), pack-reused 79\u001b[K\n",
            "Receiving objects: 100% (129/129), 39.45 MiB | 32.11 MiB/s, done.\n",
            "Resolving deltas: 100% (44/44), done.\n"
          ],
          "name": "stdout"
        }
      ]
    },
    {
      "cell_type": "markdown",
      "metadata": {
        "id": "2A7MuPESC4ie"
      },
      "source": [
        "Before we do anything fancy, get comfortable with the data. First of all, just try printing it out to see how it looks:\n",
        "\n",
        "\n",
        "\n"
      ]
    },
    {
      "cell_type": "code",
      "metadata": {
        "id": "4LTPpmBCDyaJ"
      },
      "source": [
        "print(data)"
      ],
      "execution_count": null,
      "outputs": []
    },
    {
      "cell_type": "markdown",
      "metadata": {
        "id": "mpt-9UONDyz3"
      },
      "source": [
        "To not kill the browser with big datasets, the editor has automatically truncated the printed data with ...\n",
        "\n",
        "But already what can we observe about it?  Remember that it is a numpy array. In this case though, it is an array of arrays. That is because we have both x and y data, just as if we had two adjacent rows in a spreadsheet. You can tell from the printed out that it is two arrays from the form $[[\\dots],[\\dots]]$. \n",
        "\n",
        "We can use the numpy shape function to see exactly what the dimensions are:"
      ]
    },
    {
      "cell_type": "code",
      "metadata": {
        "colab": {
          "base_uri": "https://localhost:8080/"
        },
        "id": "n3zl5CNjDTSb",
        "outputId": "2b4cfa99-e8fb-4772-d63f-7824c4a67447"
      },
      "source": [
        "np.shape(data)"
      ],
      "execution_count": null,
      "outputs": [
        {
          "output_type": "execute_result",
          "data": {
            "text/plain": [
              "(2, 3699)"
            ]
          },
          "metadata": {
            "tags": []
          },
          "execution_count": 91
        }
      ]
    },
    {
      "cell_type": "markdown",
      "metadata": {
        "id": "SWppJGDCDnkK"
      },
      "source": [
        "From the np.shape() output, we see that it is a 2x3699 2D matrix essentially. In other words it is 2 rows, 3699 columns. Or another way to think of it is it is one array with two 3699-element-long 1D arrays. \n",
        "\n",
        "Let's print out row0 to see what it looks like:\n",
        "\n"
      ]
    },
    {
      "cell_type": "code",
      "metadata": {
        "colab": {
          "base_uri": "https://localhost:8080/"
        },
        "id": "NzdmL3pRLxtZ",
        "outputId": "c04f19db-b3a3-43d3-8d9a-eaa9215a8b04"
      },
      "source": [
        "data[0]"
      ],
      "execution_count": null,
      "outputs": [
        {
          "output_type": "execute_result",
          "data": {
            "text/plain": [
              "array([ 50.  ,  50.05,  50.1 , ..., 234.8 , 234.85, 234.9 ])"
            ]
          },
          "metadata": {
            "tags": []
          },
          "execution_count": 98
        }
      ]
    },
    {
      "cell_type": "markdown",
      "metadata": {
        "id": "9hdLh5ZhLqM1"
      },
      "source": [
        "We already learned about using indexes (the bracket [  ] notation) to fetch items stored in specific positions in arrays and lists. Now we are faced with the slightly more complex situation of an array of arrays. The intuition is straightfoward though - if we want to fetch from row 0 the item stored in position 10 we would simply do:\n",
        " "
      ]
    },
    {
      "cell_type": "code",
      "metadata": {
        "colab": {
          "base_uri": "https://localhost:8080/"
        },
        "id": "scbFzsg6Kz-4",
        "outputId": "cf51eae5-6a9b-4f50-ad67-576e0fb0cbdb"
      },
      "source": [
        "data[0][10]"
      ],
      "execution_count": null,
      "outputs": [
        {
          "output_type": "execute_result",
          "data": {
            "text/plain": [
              "50.5"
            ]
          },
          "metadata": {
            "tags": []
          },
          "execution_count": 95
        }
      ]
    },
    {
      "cell_type": "markdown",
      "metadata": {
        "id": "4Ypk-gBTK4nf"
      },
      "source": [
        "This makes sense because data[0] produces the row 0 array, and we are simply indexing from *that* array instead of the original one. For example, we could split it up a bit more:"
      ]
    },
    {
      "cell_type": "code",
      "metadata": {
        "colab": {
          "base_uri": "https://localhost:8080/"
        },
        "id": "ovgCavpPLOij",
        "outputId": "f92cef5b-5614-49d1-e3a1-dae238002960"
      },
      "source": [
        "zeroth_row = data[0]\n",
        "item_ten = zeroth_row[10]\n",
        "print(item_ten)"
      ],
      "execution_count": null,
      "outputs": [
        {
          "output_type": "stream",
          "text": [
            "50.5\n"
          ],
          "name": "stdout"
        }
      ]
    },
    {
      "cell_type": "markdown",
      "metadata": {
        "id": "8bmTDUHJLgcX"
      },
      "source": [
        "Now for a more tricky operation. We know that our data is essentially a 2x3699 matrix. And we know that we can pull out whole rows with the first set of indices as we did with data[0] or could do with data[1] to fetch the other of the two rows. But what if I asked you to fetch the column at position 581, for example. In other words I want a 2-element long stretch of both rows located at position 581 on the second axis of the matrix instead of the first - and note that the following only applies to numpy arrays/matrices and not lists. \n",
        "\n",
        "One solution is to simply transpose the matrix - basically making the columns into rows and the rows into columns. But a more efficient way is to use matrix-style indexing. In the brackets we put a : to indicate that we want all elements then a comma and the number of the axis we want to sample elements from.\n",
        "\n",
        "So to get column 581 we would write data[:, 581]"
      ]
    },
    {
      "cell_type": "code",
      "metadata": {
        "colab": {
          "base_uri": "https://localhost:8080/"
        },
        "id": "gkdu5yx76vOX",
        "outputId": "3dd808f6-ef74-48c1-9629-b1f09a3258e9"
      },
      "source": [
        "one_way_to_do_it = np.transpose(data)[581] \n",
        "simpler_way = data[:, 581]\n",
        "print(one_way_to_do_it, simpler_way)"
      ],
      "execution_count": null,
      "outputs": [
        {
          "output_type": "stream",
          "text": [
            "[ 7.905000e+01 -2.991486e-02] [ 7.905000e+01 -2.991486e-02]\n"
          ],
          "name": "stdout"
        }
      ]
    },
    {
      "cell_type": "markdown",
      "metadata": {
        "id": "eNoKuxaaN0Kq"
      },
      "source": [
        "It can sometimes be hard to remember the order though. Do we write [:, 581] or [581, :]? Try the second on and we get an error because, of course, there are only 2 rows and row 581 doesn't make sense. The convention of **R**ow, **C**olumn is standard though - it might help to know the mnemonic \"**R**oman **C**enturion\". In other words we know what to write because, in this case, we want all **R**ows (:) and **C**olumn 581 or data[:, 581]"
      ]
    },
    {
      "cell_type": "markdown",
      "metadata": {
        "id": "6eK8NxAmGdaM"
      },
      "source": [
        "We can use statistics numpy functions that we learned early on the data too. Try computing the average of row 1. What's the largest value of the last 100 items of row 2? Play around with it until you feel that you can \"wield\" the data. Often you will face situations where a bug in your code is due to improper indexing, so an extra five minutes to really get this will pay off in the long run."
      ]
    },
    {
      "cell_type": "markdown",
      "metadata": {
        "id": "Stc7jFAYRRs_"
      },
      "source": [
        "### visualizing data with matplotlib\n",
        "One of the most common scientific tasks is to plot some data. Many people would do this using a spreadsheet, but we can just as easily do this with Python. We will use another external library called \"matplotlib\" and its module \"pyplot\" that we will abbreviate as \"plt\". Matplotlib comes with many different functions for producing different types of graphs - 2D, 3D, scatter, surface, line plots, bargraphs, histograms, etc... It is highly customizable, so while you can easily produce a default style graph, by feeding the right commands you can make very elaborate and often beautiful visualizations of data. Usually this involves some intensive Googling to find the right combination of commands and examples to achieve your goal.\n",
        "\n",
        "\n",
        "Let's start with a simple line plot using the plot() function from pyplot. It takes as its inputs a list or array of x-datapoints and the array of y-datapoints. \n",
        "\n",
        "Further down, we have a couple lines which add peak detection to the plot. In this case, we are using an external library \"scipy\" to get this helpful functionality. This is not something you should \"know\" how to do, but more along the lines of the type of thing you can Google to solve. Search, for example for: \"how to identify peaks in data with Python\" and one gets directed to this function. We can then use a scatter plot (overlaid on top of our line plot of the actual data, to pinpoint the peaks where they occur).\n",
        "\n",
        "Try changing the marker style and line color of the plot. Use Google to find out how you could add a title to the plot."
      ]
    },
    {
      "cell_type": "code",
      "metadata": {
        "colab": {
          "base_uri": "https://localhost:8080/",
          "height": 296
        },
        "id": "ZiqRgONBTAqD",
        "outputId": "c1b3d56f-8d62-4e8b-a9e8-d2fa5f3a3881"
      },
      "source": [
        "import matplotlib.pyplot as plt\n",
        "from scipy.signal import find_peaks\n",
        "position  = data[0]\n",
        "intensity = data[1]\n",
        "plt.plot(position, intensity)\n",
        "plt.xlabel('time')\n",
        "plt.ylabel('intesity')\n",
        "\n",
        "peak_locations, peak_heights = find_peaks(intensity, distance=1, height=(100, 2000))\n",
        "plt.scatter(position[peak_locations], intensity[peak_locations],color='magenta',marker='x')"
      ],
      "execution_count": null,
      "outputs": [
        {
          "output_type": "execute_result",
          "data": {
            "text/plain": [
              "<matplotlib.collections.PathCollection at 0x7f3a34e1e470>"
            ]
          },
          "metadata": {
            "tags": []
          },
          "execution_count": 22
        },
        {
          "output_type": "display_data",
          "data": {
            "image/png": "[encoded data removed]",
            "text/plain": [
              "<Figure size 432x288 with 1 Axes>"
            ]
          },
          "metadata": {
            "tags": [],
            "needs_background": "light"
          }
        }
      ]
    },
    {
      "cell_type": "markdown",
      "metadata": {
        "id": "XcJspEIYTjfU"
      },
      "source": [
        "## problem 3\n",
        "\n",
        "The block of code below will allow us to fetch a DNA sequence from NCBI's Nucleotide database. Here we are using yet another external libary called Biopython. One of the features of Biopython is a set of tools for interfacing directly with NCBI database over the web. In this case, we supply the NCBI ID for the particular sequence we are interested in: the Phi29 bacteriophage polymerase DNA sequence ID=\"NC_003279.8\". To make things simple, we have gone ahead and assigned the entire sequence record to a string variable called \"main_sequence\". \n",
        "\n",
        "Your task is to compute the DNA melting temperature (defined officially as the point where half of molecules are hybridized doublestranded DNA and half are dissociated into 2 single stranded DNA). We can estimate it using a classic equation that assumes conditions of 50 mM sodium concentration and pH 7.0:\n",
        "$T_m= 64.9 +\\frac{41(yG+zC-16.4)}{(wA+xT+yG+zC)}$ where wA, xT, yG, zC are the number of A, T, G, and C bases respectively. **Write a program that uses a for loop to compute each of the base counts, and then solve the formula for the Phi29 sequence record. What is the Tm for the Phi29 sequence (rounded to 3 significant digits)**\n",
        "\n",
        "Additional guidance: Create a counter for each base type, for example a variable wA = 0 that is initially zero. Build a loop that goes through each item in the main_sequence string and which checks (using a conditional statement) whether each character in the string is an \"A\" for example. If so, then have the conditional statement modify the value of the counting variable by 1. For example we could write wA = wA + 1 to increment the counter by one (note also that the syntax wA += 1 does the same). Remember to use the proper indentation when structuring your code. Anything happening in the loop should be indented, and anything happening as a result of an if-statement should be indented again. Stuff happening in an if-statement that itself is in a for-loop should therefore have two indentations.\n"
      ]
    },
    {
      "cell_type": "code",
      "metadata": {
        "id": "MnKVGBncBYBy"
      },
      "source": [
        "pip install Biopython"
      ],
      "execution_count": null,
      "outputs": []
    },
    {
      "cell_type": "code",
      "metadata": {
        "id": "Oz4FXfmPcOh4"
      },
      "source": [
        "from Bio import Entrez\n",
        "from Bio import SeqIO\n",
        "from Bio.Seq import Seq\n",
        "\n",
        "Entrez.email = \"ithof@kth.se\"  # Always tell NCBI who you are\n",
        "handle = Entrez.efetch(db=\"nucleotide\", id=\"X53370.1\", rettype=\"gb\", retmode=\"text\")\n",
        "record = SeqIO.read(handle, \"genbank\")\n",
        "handle.close()\n",
        "main_sequence = str(record.seq)"
      ],
      "execution_count": null,
      "outputs": []
    },
    {
      "cell_type": "markdown",
      "metadata": {
        "id": "28PHfQa_NO7q"
      },
      "source": [
        "## optional challenge problem\n",
        "This is completely optional problem for those of you who wish to go further and deeper. The block of code below shows how we can upload a csv (comma separated value) file stored locally directly into a numpy array.  Take one of your own datasets (an old excel graph, an x,y dataset from a project you are working on or from another course for example) and convert it into a Python numpy array. Plot the data (e.g. a scatter plot or line plot using matplotlib.pyplot and the plt.plot() or plt.scatter() functions) - give it axis labels, a title, and change the colors of the plot. "
      ]
    },
    {
      "cell_type": "code",
      "metadata": {
        "id": "upRzOpzzOA7v",
        "colab": {
          "resources": {
            "http://localhost:8080/nbextensions/google.colab/files.js": {
              "data": "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",
              "ok": true,
              "headers": [
                [
                  "content-type",
                  "application/javascript"
                ]
              ],
              "status": 200,
              "status_text": ""
            }
          },
          "base_uri": "https://localhost:8080/",
          "height": 72
        },
        "outputId": "3cdacde5-871e-46d7-d080-5768deaf3824"
      },
      "source": [
        "from google.colab import files\n",
        "import io\n",
        "from numpy import genfromtxt\n",
        "\n",
        "uploaded = files.upload() #this will prompt you to upload your own file\n",
        "my_data = genfromtxt('example_plot.csv', delimiter=';') #this will look for the name of your file and try to convert it into a numpy array (using semicolon to separate values)\n",
        "plt.plot(my_data[:,0],my_data[:,1]) # this produces the plot - here our data file was uploaded as a matrix, so we fetch the x and y data using appropriate indexing [:, 0] and [:, 1]"
      ],
      "execution_count": null,
      "outputs": [
        {
          "output_type": "display_data",
          "data": {
            "text/html": [
              "\n",
              "     <input type=\"file\" id=\"files-cf7731e0-1f52-4de6-ae84-6b02bb16fbeb\" name=\"files[]\" multiple disabled\n",
              "        style=\"border:none\" />\n",
              "     <output id=\"result-cf7731e0-1f52-4de6-ae84-6b02bb16fbeb\">\n",
              "      Upload widget is only available when the cell has been executed in the\n",
              "      current browser session. Please rerun this cell to enable.\n",
              "      </output>\n",
              "      <script src=\"/nbextensions/google.colab/files.js\"></script> "
            ],
            "text/plain": [
              "<IPython.core.display.HTML object>"
            ]
          },
          "metadata": {
            "tags": []
          }
        },
        {
          "output_type": "stream",
          "text": [
            "Saving example_plot.csv to example_plot (2).csv\n"
          ],
          "name": "stdout"
        }
      ]
    },
    {
      "cell_type": "code",
      "metadata": {
        "colab": {
          "base_uri": "https://localhost:8080/",
          "height": 282
        },
        "id": "xU73fnWnnNHL",
        "outputId": "b5f10b85-abba-477b-d2d7-d75ce47ae504"
      },
      "source": [
        ""
      ],
      "execution_count": null,
      "outputs": [
        {
          "output_type": "execute_result",
          "data": {
            "text/plain": [
              "[<matplotlib.lines.Line2D at 0x7f3a3489fef0>]"
            ]
          },
          "metadata": {
            "tags": []
          },
          "execution_count": 42
        },
        {
          "output_type": "display_data",
          "data": {
            "image/png": "[encoded data removed]",
            "text/plain": [
              "<Figure size 432x288 with 1 Axes>"
            ]
          },
          "metadata": {
            "tags": [],
            "needs_background": "light"
          }
        }
      ]
    },
    {
      "cell_type": "code",
      "metadata": {
        "id": "S_yyN6-sn0i4"
      },
      "source": [
        ""
      ],
      "execution_count": null,
      "outputs": []
    }
  ]
}