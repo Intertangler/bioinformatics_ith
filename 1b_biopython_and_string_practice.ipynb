{
  "nbformat": 4,
  "nbformat_minor": 0,
  "metadata": {
    "kernelspec": {
      "display_name": "Python 3",
      "language": "python",
      "name": "python3"
    },
    "language_info": {
      "codemirror_mode": {
        "name": "ipython",
        "version": 3
      },
      "file_extension": ".py",
      "mimetype": "text/x-python",
      "name": "python",
      "nbconvert_exporter": "python",
      "pygments_lexer": "ipython3",
      "version": "3.7.6"
    },
    "colab": {
      "name": "1b_biopython_and_string_practice.ipynb",
      "provenance": [],
      "collapsed_sections": [],
      "toc_visible": true,
      "include_colab_link": true
    }
  },
  "cells": [
    {
      "cell_type": "markdown",
      "metadata": {
        "id": "view-in-github",
        "colab_type": "text"
      },
      "source": [
        "<a href=\"https://colab.research.google.com/github/Intertangler/bioinformatics_stockholm/blob/master/1b_biopython_and_string_practice.ipynb\" target=\"_parent\"><img src=\"https://colab.research.google.com/assets/colab-badge.svg\" alt=\"Open In Colab\"/></a>"
      ]
    },
    {
      "cell_type": "markdown",
      "metadata": {
        "id": "xrE8VRQO1RMD"
      },
      "source": [
        "## advanced string manipulation\n",
        "Python's \"random\" module can be used to generate random numbers, sample randomly from lists or strings, and generate statistical distributions. For example we can simulate a coin toss using the random.choices() function shown below. It takes as its first input a string or list of \"choices\" from which to sample. Its second input is a list of weights, probabilities of choosing the respective input choices. And its third input \"k\" is the number of choose-events it will perform. So to simulate k=5 flips, with a fair coin with 50/50 chances of either heads \"H\" or tails \"T\", we do:"
      ]
    },
    {
      "cell_type": "code",
      "metadata": {
        "id": "oinRBZ5MGmu5"
      },
      "source": [
        ""
      ],
      "execution_count": null,
      "outputs": []
    },
    {
      "cell_type": "code",
      "metadata": {
        "id": "q5TJR7Jy0az3"
      },
      "source": [
        "import random\n",
        "random.choices(\"HT\", weights=[0.5,0.5],k=5)"
      ],
      "execution_count": null,
      "outputs": []
    },
    {
      "cell_type": "markdown",
      "metadata": {
        "id": "x8EOVXQgyzzI"
      },
      "source": [
        "Below we make a function that generates a random sequence of DNA bases using strings. Again we are using the random.choices() function, and the user must then supply to the function a specified sequence length as well as the probabilities of each base occurring (that must add to 1)."
      ]
    },
    {
      "cell_type": "code",
      "metadata": {
        "id": "fqs2bnmxn1_4"
      },
      "source": [
        "import random\n",
        "import numpy as np\n",
        "\n",
        "def generate_random_sequence(sequence_length, probability_distribution):\n",
        "    sequence = \"\"\n",
        "    for i in range(0,sequence_length):\n",
        "        sequence = sequence + random.choices([\"A\",\"C\",\"G\",\"T\"], weights=probability_distribution,k=1)[0]\n",
        "    return sequence"
      ],
      "execution_count": 2,
      "outputs": []
    },
    {
      "cell_type": "markdown",
      "metadata": {
        "id": "BVWvTQ5B3zeE"
      },
      "source": [
        "Let's just try it out for a uniform distribution where each base has a 25% chance of being chosen, and let's make a sequence that is 100 bases long."
      ]
    },
    {
      "cell_type": "code",
      "metadata": {
        "id": "XakNkvtV3-6r"
      },
      "source": [
        "our_random_seq = generate_random_sequence(100, [0.25, 0.25, 0.25, 0.25])\n",
        "print(our_random_seq)\n"
      ],
      "execution_count": null,
      "outputs": []
    },
    {
      "cell_type": "markdown",
      "metadata": {
        "id": "yAAUNh9j_foo"
      },
      "source": [
        "## problem 1b.1\n",
        "**Estimate the probability that a random sequence that is 100 bases long and with equal probabilities of A,T,C, or G will be cut by the restriction enzyme Eco RI, which has the recognition sequence \"GAATTC\". Provide your answer as a probability (between 0 and 1) with 2 significant figures.**\n",
        "\n",
        "\n",
        "Additional guidance: Use the random sequence-generating function that we made above with a for-loop to repeatedly perform random sequence experiments whereby each time a new sequence is generated and then checked for the Eco RI sequence. To check if a string is contained within another string, you can use the conditional statement:\n",
        "if my_substring in main_string:\n",
        " etc...\n",
        "\n",
        "Note that your estimate will be more accurate with a larger number of experiments, but the computation time will also begin to rise if you go too high. A reasonable value is 100,000 iterations."
      ]
    },
    {
      "cell_type": "markdown",
      "metadata": {
        "id": "tc6doco0Nvcz"
      },
      "source": [
        "## python dictionaries\n",
        "Another useful type of variable in python is the dictionary. A dictionary is a bit like a list or array, it is a collection of objects. However in order to access an item in it, we do not supply the index or position. Instead, a dictionary uses \"keys\" or words to look up the \"values\" stored. The order of items is thus not important, what is important here is the pairing between key and value. The keys themselves are usually strings or numbers, and the values can be anything from strings, numbers, or even lists. Think of it like an actual dictionary, with names of words corresponding to stored descriptions.\n",
        "\n",
        "The syntax utilizes braces to create a dictionary. "
      ]
    },
    {
      "cell_type": "code",
      "metadata": {
        "id": "LroaHYlBUNTV"
      },
      "source": [
        "gene_set = {\"gene 1\":\"ATCGACGATCAGCATGA\", \"gene 2\":\"TACGAGCGAGGGGGAC\", \"gene 3\":\"ATCGAGCAT\"}\n",
        "\n",
        "# now let's fetch an individual item using a keyword:\n",
        "print(gene_set[\"gene 1\"])"
      ],
      "execution_count": null,
      "outputs": []
    },
    {
      "cell_type": "markdown",
      "metadata": {
        "id": "KB-xB_CiYAd6"
      },
      "source": [
        "We can also add new items to the dictionary:"
      ]
    },
    {
      "cell_type": "code",
      "metadata": {
        "id": "Po2808__U3db"
      },
      "source": [
        "gene_set[\"gene x\"] = \"GGGGGGCCCCCCCC\"\n",
        "print(gene_set)"
      ],
      "execution_count": null,
      "outputs": []
    },
    {
      "cell_type": "markdown",
      "metadata": {
        "id": "bcOlevu1dqWP"
      },
      "source": [
        "Finally, a convenient way to create a dictionary is by supplying a list of keys and a list of values. Make a note, as this will be useful when doing problem 1b.2 in this exercise!\n"
      ]
    },
    {
      "cell_type": "code",
      "metadata": {
        "id": "rgNSK9jJd8lO"
      },
      "source": [
        "keys = [\"sample a\", \"sample b\", \"sample c\", \"sample d\"]\n",
        "values = [2345,567,2345,678]\n",
        "my_dict = dict(zip(keys, values))\n",
        "print(my_dict[\"sample b\"])\n"
      ],
      "execution_count": null,
      "outputs": []
    },
    {
      "cell_type": "markdown",
      "metadata": {
        "id": "32iiwUdjaI4i"
      },
      "source": [
        "Why is this useful?\n",
        "Dictionaries are useful whenever we have some kind of recurring keyword data that we want to quickly look up a value for. We can often do this with lists, but in many situations the name of something, rather than its position in a list, is more convenient to search for. It also has faster lookup speed compared to lists which begins to matter when dealing with large datasets."
      ]
    },
    {
      "cell_type": "markdown",
      "metadata": {
        "id": "qkTPLXrBZIyF"
      },
      "source": [
        "## biopython\n",
        "Let's explore the biopython module. It is a collection of functions and data types for working with biological data, and it also includes several ways to connect to online databases such as NCBI.\n",
        "\n",
        "Start by running the install statement below - this is necessary because biopython does not come installed by default in colab."
      ]
    },
    {
      "cell_type": "code",
      "metadata": {
        "id": "JgrbATHNqQDR"
      },
      "source": [
        "pip install Biopython"
      ],
      "execution_count": null,
      "outputs": []
    },
    {
      "cell_type": "markdown",
      "metadata": {
        "id": "ULWlbkZ6453t"
      },
      "source": [
        "Biopython introduces a \"sequence\" object that is very similar to the basic string, but it let's us do more biology-specific things. \n",
        "\n",
        "For example, let's make a DNA sequence using the Seq() function from the Bio.Seq module. We can import it using the \"from\" syntax shown below and run the function with a simple string of dna characters as input."
      ]
    },
    {
      "cell_type": "code",
      "metadata": {
        "id": "DHS0Mal2ZIyF"
      },
      "source": [
        "from Bio.Seq import Seq\n",
        "my_dna = Seq(\"ATCGATGATAGGATA\")\n",
        "type(my_dna)  # notice here that it is not a normal string object"
      ],
      "execution_count": null,
      "outputs": []
    },
    {
      "cell_type": "markdown",
      "metadata": {
        "id": "6w5rCvzI54Ny"
      },
      "source": [
        "likewise, we can create a protein sequence using the standard IUPAC amino acid characters:"
      ]
    },
    {
      "cell_type": "code",
      "metadata": {
        "id": "h5tCu1GrZIyH"
      },
      "source": [
        "my_protein = Seq(\"KGLYQRGD\")"
      ],
      "execution_count": 9,
      "outputs": []
    },
    {
      "cell_type": "markdown",
      "metadata": {
        "id": "p2NVmOxsBHq2"
      },
      "source": [
        "If we want to fetch positions from 3 until 7, and if we want to test the length of the sequence, we use the same rules as with strings:"
      ]
    },
    {
      "cell_type": "code",
      "metadata": {
        "id": "UfUERPh0ZIyK"
      },
      "source": [
        "a_sub_sequence = my_dna[3:7]\n",
        "the_sequence_length = len(my_dna)\n",
        "print(the_sequence_length, a_sub_sequence)"
      ],
      "execution_count": null,
      "outputs": []
    },
    {
      "cell_type": "markdown",
      "metadata": {
        "id": "Zcc-yCt7Dlst"
      },
      "source": [
        "Biopython's sequence type has associated with what are called \"methods\". Methods are very similar to functions, except that they are specific to a particular type of object. For example, biopython's sequences offer methods for converting to the reverse complementary dna sequence:"
      ]
    },
    {
      "cell_type": "code",
      "metadata": {
        "id": "dQS4MVcPZIyL"
      },
      "source": [
        "the_rev_comp = my_dna.reverse_complement()\n",
        "print(the_rev_comp)"
      ],
      "execution_count": null,
      "outputs": []
    },
    {
      "cell_type": "markdown",
      "metadata": {
        "id": "H5YgKFukEFUo"
      },
      "source": [
        "We can also easily transcribe and translate sequences with the corresponding methods. Note the somewhat different syntax used with methods - we follow the form object.method() in contrast to functions that have no parent object associated with them."
      ]
    },
    {
      "cell_type": "code",
      "metadata": {
        "id": "p1M4A369ZIyL"
      },
      "source": [
        "my_dna.transcribe()"
      ],
      "execution_count": null,
      "outputs": []
    },
    {
      "cell_type": "code",
      "metadata": {
        "id": "PsQERhO0ZIyM"
      },
      "source": [
        "my_dna.translate()"
      ],
      "execution_count": null,
      "outputs": []
    },
    {
      "cell_type": "markdown",
      "metadata": {
        "id": "WlMbThoDUrlR"
      },
      "source": [
        "Entrez (https://www.ncbi.nlm.nih.gov/Web/Search/entrezfs.html) is a data retrieval system the enables us to access NCBI’s databases including PubMed, GenBank, GEO, and others. It's possible to use Entrez from a browser to manually enter queries, or we can use Biopython’s Bio.Entrez module for programmatic access to Entrez. This will enable us to fetch records from PubMed or GenBank from within a Python script! \n",
        "\n",
        "Give the code below a try - it will return the entire entry from NCBI's nucleotide database. It is the same entry (the Phi29 bacteriophage polymerase) that we fetched in the Tm problem. except now we view the full entry. \n",
        "\n"
      ]
    },
    {
      "cell_type": "code",
      "metadata": {
        "id": "1yUjTFd4WUoy"
      },
      "source": [
        "from Bio import Entrez\n",
        "Entrez.email = \"ithof@kth.se\"  # Always tell NCBI who you are\n",
        "handle = Entrez.efetch(db=\"nucleotide\", id=\"X53370.1\", rettype=\"gb\", retmode=\"text\")\n",
        "print(handle.read())\n",
        "handle.close()"
      ],
      "execution_count": null,
      "outputs": []
    },
    {
      "cell_type": "markdown",
      "metadata": {
        "id": "pYRL3MDDWqUO"
      },
      "source": [
        "# problem 1b.2\n",
        "**The code below fetches the DNA sequence of the Phi29 polymerase. Use the sequence to figure out the molecular weight of the protein. Express your answer out to 5 significant digits.** Use the monoisotopic amino acid mass table found here: https://proteomicsresource.washington.edu/protocols06/masses.php\n",
        "\n",
        "\n",
        "Additional guidance - If you are stuck, have a look through the tutorials presented earlier in this exercise. Everything you need is there!"
      ]
    },
    {
      "cell_type": "code",
      "metadata": {
        "id": "qamREtFZGPtH"
      },
      "source": [
        "from Bio import SeqIO\n",
        "handle = Entrez.efetch(db=\"nucleotide\", id=\"X53370.1\", rettype=\"gb\", retmode=\"text\")\n",
        "phi29 = SeqIO.read(handle, \"genbank\").seq\n",
        "handle.close()\n",
        "print(phi29)\n",
        "\n",
        "#a list of monoisotopic masses of amino acids corresponding to the list below:\n",
        "masses =[71.037113805,156.101111050,114.042927470,115.026943065,103.009184505,129.042593135,128.058577540,57.021463735,137.058911875,113.084064015,113.084064015,128.094963050,131.040484645,147.068413945,97.052763875,87.032028435,101.047678505,186.079312980,163.063328575,99.068413945,237.147726925,103.009184505,150.953633405]\n",
        "amino_acids=[\"A\",\"R\",\"N\",\"D\",\"C\",\"E\",\"Q\",\"G\",\"H\",\"I\",\"L\",\"K\",\"M\",\"F\",\"P\",\"S\",\"T\",\"W\",\"Y\",\"V\",\"O\",\"C\",\"U\"]"
      ],
      "execution_count": null,
      "outputs": []
    },
    {
      "cell_type": "markdown",
      "metadata": {
        "id": "wbgc_68qZIyM"
      },
      "source": [
        "# reading sequence files\n",
        "Let's practice working with sequencing data. The block of code below will download some data stored in fasta format. "
      ]
    },
    {
      "cell_type": "code",
      "metadata": {
        "id": "A2LLdFifPdty"
      },
      "source": [
        "import sys\n",
        "from os import path\n",
        "if path.exists(\"/content/bioinformatics_stockholm/\"):\n",
        "    pass\n",
        "else:\n",
        "    !git clone https://github.com/Intertangler/bioinformatics_stockholm\n",
        "sys.path.insert(0,'/content')"
      ],
      "execution_count": null,
      "outputs": []
    },
    {
      "cell_type": "markdown",
      "metadata": {
        "id": "P99Z_kkW2Cug"
      },
      "source": [
        "Biopython's SeqIO (IO for input-output) enables us to read sequences into python variables. Try the code out below and observe how we can fetch various pieces of information from the fasta entry, including its sequence:"
      ]
    },
    {
      "cell_type": "code",
      "metadata": {
        "id": "in679OVMZIyM"
      },
      "source": [
        "from Bio import SeqIO\n",
        "\n",
        "record = SeqIO.read(\"/content/bioinformatics_stockholm/single_sequence.fsa\", \"fasta\")\n",
        "print('this is the whole record ', record)\n",
        "print('this is just the sequence: ',record.seq)\n",
        "print('this is the length: ',len(record.seq))\n",
        "print('this is the ID: ',record.id)\n",
        "print('this is the description:', record.description)"
      ],
      "execution_count": null,
      "outputs": []
    },
    {
      "cell_type": "markdown",
      "metadata": {
        "id": "T424KQvN2vbJ"
      },
      "source": [
        "The code below will create an empty list called all_records, and then it will go through a fasta file containing reads from a next-gen sequencing (high throughput sequencing) experiment \"ngs_data.fsa\" and append records (individual reads from the experiment) to it. At the end, we should have a large list of fasta records.  "
      ]
    },
    {
      "cell_type": "code",
      "metadata": {
        "id": "QLyVX2-dZIyN"
      },
      "source": [
        "all_records = []\n",
        "for seq_record in SeqIO.parse(\"/content/bioinformatics_stockholm/ngs_data.fsa\", \"fasta\"): # this goes through each line of the file\n",
        "    all_records.append(seq_record) #this adds the line from the file to our growing list"
      ],
      "execution_count": 18,
      "outputs": []
    },
    {
      "cell_type": "markdown",
      "metadata": {
        "id": "amP84jKsTnFZ"
      },
      "source": [
        "# problem 1b.3\n",
        "\n",
        "**Write a program that goes through the NGS data and filters out any sequences that do not contain the short motif \"ACTG\". What percentage of reads (3 significant digits) out of the total starting reads satisfy this criterion of having \"ACTG\" in them?** "
      ]
    },
    {
      "cell_type": "markdown",
      "metadata": {
        "id": "hbYUHQto6Wkd"
      },
      "source": [
        "# optional challenge problem - \n",
        "\n",
        "Consider the T4 phage genome, fetched as a DNA sequence below. In it are several protein-coding regions. Make a program that scans the DNA and extracts and translates to amino acid sequence any open reading frames (ORFs) signaled by the presence of a start codon \"ATG\" and one of any possible stop codons \"TGA\" \"TAG\" or \"TAA\". Include an optional filter that ignores sequences less than 75 nt long."
      ]
    },
    {
      "cell_type": "code",
      "metadata": {
        "id": "BiPeNF-A-dj6"
      },
      "source": [
        "from Bio import SeqIO\n",
        "handle = Entrez.efetch(db=\"nucleotide\", id=\"AF158101.6\", rettype=\"gb\", retmode=\"text\")\n",
        "genome_T4 = SeqIO.read(handle, \"genbank\").seq\n",
        "handle.close()\n",
        "print(genome_T4)"
      ],
      "execution_count": null,
      "outputs": []
    }
  ]
}