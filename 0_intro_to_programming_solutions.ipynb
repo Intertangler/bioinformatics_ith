{
  "nbformat": 4,
  "nbformat_minor": 0,
  "metadata": {
    "colab": {
      "name": "0_intro_to_programming_solutions.ipynb",
      "provenance": [],
      "collapsed_sections": [
        "vnlKbu40hNGK",
        "ADjVHZsAmZNE",
        "cnapVuRXQ0ZR"
      ],
      "authorship_tag": "ABX9TyMQniqj3AKI7WqJyGboZtP3",
      "include_colab_link": true
    },
    "kernelspec": {
      "name": "python3",
      "display_name": "Python 3"
    }
  },
  "cells": [
    {
      "cell_type": "markdown",
      "metadata": {
        "id": "view-in-github",
        "colab_type": "text"
      },
      "source": [
        "<a href=\"https://colab.research.google.com/github/Intertangler/bioinformatics_ith/blob/master/0_intro_to_programming_solutions.ipynb\" target=\"_parent\"><img src=\"https://colab.research.google.com/assets/colab-badge.svg\" alt=\"Open In Colab\"/></a>"
      ]
    },
    {
      "cell_type": "markdown",
      "metadata": {
        "id": "GnEgSvzsoyJo"
      },
      "source": [
        "# Intro to Python programming"
      ]
    },
    {
      "cell_type": "markdown",
      "metadata": {
        "id": "vnlKbu40hNGK"
      },
      "source": [
        "\n",
        "## Defining variables and doing arithmetic on them\n",
        "You are currently viewing a live interactive programming notebook that is running on Google servers. We can run and write code in this environment, upload files, and even download additional programs or files to the remote servers that we are accessing here.\n",
        "\n",
        "Let's start by defining a few variables and utilizing the basic arithmetic capabilities of Python. You will see that it can be used at its most basic level as a handy calculator.\n",
        "\n",
        "Try typing, for example, **A = 3** and **B = 4**, follow it up with a print statement with print(A). To execute a cell, hit **ctrl-enter** or click the play button. "
      ]
    },
    {
      "cell_type": "code",
      "metadata": {
        "colab": {
          "base_uri": "https://localhost:8080/"
        },
        "id": "GB4lCwxJiTd8",
        "outputId": "8cc11689-099a-4bd9-f229-04289bcd869a"
      },
      "source": [
        "A = 3\n",
        "B= 4\n",
        "print(A,B)"
      ],
      "execution_count": 23,
      "outputs": [
        {
          "output_type": "stream",
          "text": [
            "3 4\n"
          ],
          "name": "stdout"
        }
      ]
    },
    {
      "cell_type": "markdown",
      "metadata": {
        "id": "D3QUqWJIF5S4"
      },
      "source": [
        "Get used to basic arithmetic capabilities of the python: we can add, subtract, multiply, and divide using + - * and / characters. Try computing C+D-E\\*F and note the order of operations that is followed by Python. Then try computing C+(D-E)\\*F\n",
        "Do you get a different answer?"
      ]
    },
    {
      "cell_type": "code",
      "metadata": {
        "id": "rcw47uFgid_J",
        "colab": {
          "base_uri": "https://localhost:8080/"
        },
        "outputId": "ca1f229e-ef33-4c3f-85ab-48df224832b0"
      },
      "source": [
        "C = A + B\n",
        "D = A- B\n",
        "E = A*B\n",
        "F = A/B\n",
        "print(C+D-E*F)\n",
        "print(C+(D-E)*F)"
      ],
      "execution_count": 11,
      "outputs": [
        {
          "output_type": "stream",
          "text": [
            "-3.0\n",
            "-2.75\n"
          ],
          "name": "stdout"
        }
      ]
    },
    {
      "cell_type": "markdown",
      "metadata": {
        "id": "ADjVHZsAmZNE"
      },
      "source": [
        "### importing external modules/libraries to access useful functions\n",
        "If we want to do other kinds of math operations, we can use Python's math libary. Much of Python's functionality is stored in such modules, and to use them we need to first import them. Then when we have imported the library, we can call functions from the library, for computing a square root, factorial, or cosine operation for example.\n",
        "\n",
        "Note the form of libraryname.function() and how if we just tried to run sqrt(4) we would get an error. We can use the math.factorial() function to compute **5!** or 5\\*4\\*3\\*2\\*1"
      ]
    },
    {
      "cell_type": "code",
      "metadata": {
        "colab": {
          "base_uri": "https://localhost:8080/"
        },
        "id": "ce4JygBIF2-L",
        "outputId": "22264215-593b-421d-812a-3cf3ce52cdff"
      },
      "source": [
        "import math\n",
        "my_square_root = math.sqrt(4)\n",
        "my_factorial = math.factorial(5)\n",
        "print(my_square_root, my_factorial)"
      ],
      "execution_count": 17,
      "outputs": [
        {
          "output_type": "stream",
          "text": [
            "2.0 120\n"
          ],
          "name": "stdout"
        }
      ]
    },
    {
      "cell_type": "markdown",
      "metadata": {
        "id": "b14FdDwrMEzR"
      },
      "source": [
        "**problem 1:\n",
        "Consider a 12-base long stretch of DNA that is composed of exactly 3 of each of the four bases A, T, G, and C. How many unique sequences can we create? \n",
        "Note that for a collection of $N$ objects with $t$ categories of which $n_i$ objects in each category are indistinguishable from one another but distinguishable from the objects in the other $t-1$ categories, the number of possible sequences is : $W = \\frac{N!}{n_1!n_2!...n_t!}$**\n",
        "\n",
        "---\n",
        "\n"
      ]
    },
    {
      "cell_type": "code",
      "metadata": {
        "colab": {
          "base_uri": "https://localhost:8080/"
        },
        "id": "q6JzZQ1iOgJy",
        "outputId": "3894a2c7-5384-40bc-b747-dfc8dc9d5dd0"
      },
      "source": [
        "import math\n",
        "n_A = 3\n",
        "n_T = 3\n",
        "n_C = 3\n",
        "n_G = 3\n",
        "N = 12\n",
        "sequences = math.factorial(N)/(math.factorial(n_A)*math.factorial(n_A)*math.factorial(n_A)*math.factorial(n_A))\n",
        "print(sequences)"
      ],
      "execution_count": 27,
      "outputs": [
        {
          "output_type": "stream",
          "text": [
            "369600.0\n"
          ],
          "name": "stdout"
        }
      ]
    },
    {
      "cell_type": "markdown",
      "metadata": {
        "id": "cnapVuRXQ0ZR"
      },
      "source": [
        "## Variable types - integers and floating points\n",
        "Python variables have a type. This type determines its compatibility with different functions. Two basic variable types are integers and floating point numbers. Integers are for counting a discrete number of events or objects, whereas floating point numbers can take on fractional or decimal values. \n",
        "\n",
        "Define one of each and note the difference in how Python displays them. What does this tell you about the numbers generated in the exercises above? What happens when we don't specify variable type with int() and float(). Play around with it to find out.\n"
      ]
    },
    {
      "cell_type": "code",
      "metadata": {
        "colab": {
          "base_uri": "https://localhost:8080/"
        },
        "id": "VcZ1yTuSXG2X",
        "outputId": "70f02ebd-54f6-4a27-ce2a-9e21d87b7a4e"
      },
      "source": [
        "X = int(3) \n",
        "Y = float(5)\n",
        "print(X, Y)"
      ],
      "execution_count": 30,
      "outputs": [
        {
          "output_type": "stream",
          "text": [
            "3 5.0\n"
          ],
          "name": "stdout"
        }
      ]
    },
    {
      "cell_type": "markdown",
      "metadata": {
        "id": "o38aw8I0aGmk"
      },
      "source": [
        "## strings - a useful variable type for bioinformatics\n",
        "Strings are sequences of characters, and will thus be very important for bioinformatics. One of the basic properties of strings is that each character in them has a position or \"index\". Accessing particular characters or stretches of characters is called \"indexing\" or \"slicing\". Being able to manipulate and access different parts of strings is something we will keep returning to. Get some practice now and create some strings using the \" characters or the str() function."
      ]
    },
    {
      "cell_type": "code",
      "metadata": {
        "colab": {
          "base_uri": "https://localhost:8080/"
        },
        "id": "VKl_9uW1amSa",
        "outputId": "b3431a36-3fd1-4b48-8c94-9900c06186c0"
      },
      "source": [
        "my_string = \"this is a string!\"\n",
        "my_string_2 = str(33457567)\n",
        "print(my_string)\n",
        "print(my_string_2)\n"
      ],
      "execution_count": 31,
      "outputs": [
        {
          "output_type": "stream",
          "text": [
            "this is a string!\n",
            "33457567\n"
          ],
          "name": "stdout"
        }
      ]
    },
    {
      "cell_type": "markdown",
      "metadata": {
        "id": "17xu3XbYavcl"
      },
      "source": [
        "Note how even though my_string_2 is a number, we will get an error if we try to perform arithmetic on it. That's because Python is treating it like a piece of text."
      ]
    },
    {
      "cell_type": "code",
      "metadata": {
        "id": "KK-HtRmkapYu"
      },
      "source": [
        "my_string_2 + 3"
      ],
      "execution_count": null,
      "outputs": []
    },
    {
      "cell_type": "markdown",
      "metadata": {
        "id": "RGhw3ldRa-GL"
      },
      "source": [
        "Use brackets to locate a character in a string based on its \"index\" i.e. if we counted each character starting with the number 0. Try retrieving the characters stored in indexes 4 and 3 from our two strings respectively."
      ]
    },
    {
      "cell_type": "code",
      "metadata": {
        "colab": {
          "base_uri": "https://localhost:8080/"
        },
        "id": "Wgd3FpaAa68_",
        "outputId": "2a56085a-b448-4066-d657-2a1783065750"
      },
      "source": [
        "print(my_string[5])\n",
        "print(my_string_2[3])\n"
      ],
      "execution_count": 33,
      "outputs": [
        {
          "output_type": "stream",
          "text": [
            "i\n",
            "5\n"
          ],
          "name": "stdout"
        }
      ]
    },
    {
      "cell_type": "markdown",
      "metadata": {
        "id": "qgJpitpwecdz"
      },
      "source": [
        "To access the last character, use the index -1 in the brackets. "
      ]
    },
    {
      "cell_type": "code",
      "metadata": {
        "colab": {
          "base_uri": "https://localhost:8080/",
          "height": 35
        },
        "id": "1S5G4GGpebrR",
        "outputId": "34a9f642-3b02-4b90-8d54-3bedd742f669"
      },
      "source": [
        "my_string[-1]\n"
      ],
      "execution_count": 35,
      "outputs": [
        {
          "output_type": "execute_result",
          "data": {
            "application/vnd.google.colaboratory.intrinsic+json": {
              "type": "string"
            },
            "text/plain": [
              "'!'"
            ]
          },
          "metadata": {
            "tags": []
          },
          "execution_count": 35
        }
      ]
    },
    {
      "cell_type": "markdown",
      "metadata": {
        "id": "3ir-EBCNevoK"
      },
      "source": [
        "Try slicing a string using the colon character. What is the output of my_string[:] We can select part of a string by creating a range with the colon. What is the output of my_string[0:4] What is the output of my_string[::-1].\n",
        "\n"
      ]
    },
    {
      "cell_type": "code",
      "metadata": {
        "colab": {
          "base_uri": "https://localhost:8080/"
        },
        "id": "yOoYHihAensg",
        "outputId": "943d0fc6-919b-4298-c8b8-48bee55eeee3"
      },
      "source": [
        "print(my_string[:])\n",
        "print(my_string[0:6])\n",
        "print(my_string[::-1])\n"
      ],
      "execution_count": 36,
      "outputs": [
        {
          "output_type": "stream",
          "text": [
            "this is a string!\n",
            "this i\n",
            "!gnirts a si siht\n"
          ],
          "name": "stdout"
        }
      ]
    },
    {
      "cell_type": "markdown",
      "metadata": {
        "id": "Z87xSIYze1Oy"
      },
      "source": [
        "Play around with this a bit more until you feel comfortable with it. We will need to know how to access different parts of strings in the future."
      ]
    },
    {
      "cell_type": "markdown",
      "metadata": {
        "id": "_ZvXg41jr45m"
      },
      "source": [
        "## lists - "
      ]
    }
  ]
}