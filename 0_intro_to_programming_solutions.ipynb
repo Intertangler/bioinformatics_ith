{
  "nbformat": 4,
  "nbformat_minor": 0,
  "metadata": {
    "colab": {
      "name": "0_intro_to_programming_solutions.ipynb",
      "provenance": [],
      "collapsed_sections": [
        "vnlKbu40hNGK",
        "b14FdDwrMEzR",
        "cnapVuRXQ0ZR",
        "o38aw8I0aGmk",
        "G75Dba4Ve3MH",
        "vlyhpFcIrwAp",
        "7DkqLuNs4IYN"
      ],
      "toc_visible": true,
      "authorship_tag": "ABX9TyO54GvM2Fvn5icL48z5mzon",
      "include_colab_link": true
    },
    "kernelspec": {
      "name": "python3",
      "display_name": "Python 3"
    }
  },
  "cells": [
    {
      "cell_type": "markdown",
      "metadata": {
        "id": "view-in-github",
        "colab_type": "text"
      },
      "source": [
        "<a href=\"https://colab.research.google.com/github/Intertangler/bioinformatics_stockholm/blob/master/0_intro_to_programming_solutions.ipynb\" target=\"_parent\"><img src=\"https://colab.research.google.com/assets/colab-badge.svg\" alt=\"Open In Colab\"/></a>"
      ]
    },
    {
      "cell_type": "markdown",
      "metadata": {
        "id": "GnEgSvzsoyJo"
      },
      "source": [
        "# Intro to Python programming"
      ]
    },
    {
      "cell_type": "markdown",
      "metadata": {
        "id": "u-76wCeXh1lL"
      },
      "source": [
        "tip - Most of the examples are not \"problems\" per say that you need to solve, but rather just demonstrations. The blocks of code can be changed and edited however you like. For your own learning, it is important to play with each piece of code a bit. Don't be afraid to \"break\" the code or mess things up. Sometimes when you try to run a block of code after making a change, an error will pop up. Try to read and understand the error, fix it, and run it again. Remember that you can add new cells or append your own code to existing cells. This is a sandbox for you to play freely in, and you will want to grow as comfortable as possible in it as you will very soon be relying on your skills to solve problems!"
      ]
    },
    {
      "cell_type": "markdown",
      "metadata": {
        "id": "vnlKbu40hNGK"
      },
      "source": [
        "\n",
        "## Defining variables and doing arithmetic on them\n",
        "You are currently viewing a live interactive programming notebook that is running on Google servers. We can run and write code in this environment, upload files, and even download additional programs or files to the remote servers that we are accessing here.\n",
        "\n",
        "Let's start by defining a few variables and utilizing the basic arithmetic capabilities of Python. You will see that it can be used at its most basic level as a handy calculator.\n",
        "\n",
        "Try typing, for example, **A = 3** and **B = 4**, follow it up with a print statement with print(A). To execute a cell, hit **ctrl-enter** or click the play button. "
      ]
    },
    {
      "cell_type": "code",
      "metadata": {
        "colab": {
          "base_uri": "https://localhost:8080/"
        },
        "id": "GB4lCwxJiTd8",
        "outputId": "8cc11689-099a-4bd9-f229-04289bcd869a"
      },
      "source": [
        "A = 3\n",
        "B= 4\n",
        "print(A,B)"
      ],
      "execution_count": null,
      "outputs": [
        {
          "output_type": "stream",
          "text": [
            "3 4\n"
          ],
          "name": "stdout"
        }
      ]
    },
    {
      "cell_type": "markdown",
      "metadata": {
        "id": "D3QUqWJIF5S4"
      },
      "source": [
        "Get used to basic arithmetic capabilities of the python: we can add, subtract, multiply, and divide using + - * and / characters. Try computing C+D-E\\*F and note the order of operations that is followed by Python. Then try computing C+(D-E)\\*F\n",
        "Do you get a different answer?"
      ]
    },
    {
      "cell_type": "code",
      "metadata": {
        "id": "rcw47uFgid_J",
        "colab": {
          "base_uri": "https://localhost:8080/"
        },
        "outputId": "ca1f229e-ef33-4c3f-85ab-48df224832b0"
      },
      "source": [
        "C = A + B\n",
        "D = A- B\n",
        "E = A*B\n",
        "F = A/B\n",
        "print(C+D-E*F)\n",
        "print(C+(D-E)*F)"
      ],
      "execution_count": null,
      "outputs": [
        {
          "output_type": "stream",
          "text": [
            "-3.0\n",
            "-2.75\n"
          ],
          "name": "stdout"
        }
      ]
    },
    {
      "cell_type": "markdown",
      "metadata": {
        "id": "ADjVHZsAmZNE"
      },
      "source": [
        "### importing external modules/libraries to access useful functions\n",
        "If we want to do other kinds of math operations, we can use Python's math libary. Much of Python's functionality is stored in such modules, and to use them we need to first import them. Then when we have imported the library, we can call functions from the library, for computing a square root, factorial, or cosine operation for example.\n",
        "\n",
        "Note the form of libraryname.function() and how if we just tried to run sqrt(4) we would get an error. We can use the math.factorial() function to compute **5!** or 5\\*4\\*3\\*2\\*1"
      ]
    },
    {
      "cell_type": "code",
      "metadata": {
        "colab": {
          "base_uri": "https://localhost:8080/"
        },
        "id": "ce4JygBIF2-L",
        "outputId": "22264215-593b-421d-812a-3cf3ce52cdff"
      },
      "source": [
        "import math\n",
        "my_square_root = math.sqrt(4)\n",
        "my_factorial = math.factorial(5)\n",
        "print(my_square_root, my_factorial)"
      ],
      "execution_count": null,
      "outputs": [
        {
          "output_type": "stream",
          "text": [
            "2.0 120\n"
          ],
          "name": "stdout"
        }
      ]
    },
    {
      "cell_type": "markdown",
      "metadata": {
        "id": "b14FdDwrMEzR"
      },
      "source": [
        "## problem 1:\n",
        "**Consider a 12-base long stretch of DNA that is composed of exactly 2 A's, 4 T's, 3 G's and 3 C's. How many unique sequences can we create? \n",
        "Note that for a collection of $N$ objects with $t$ categories of which $n_i$ objects in each category are indistinguishable from one another but distinguishable from the objects in the other $t-1$ categories, the number of possible sequences is : $W = \\frac{N!}{n_1!n_2!...n_t!}$**\n",
        "\n",
        "---\n",
        "\n"
      ]
    },
    {
      "cell_type": "code",
      "metadata": {
        "colab": {
          "base_uri": "https://localhost:8080/"
        },
        "id": "q6JzZQ1iOgJy",
        "outputId": "087d374f-4223-49dc-f5fe-638cad919b56"
      },
      "source": [
        "import math\n",
        "n_A = 2\n",
        "n_T = 4\n",
        "n_C = 3\n",
        "n_G = 3\n",
        "N = 12\n",
        "sequences = math.factorial(N)/(math.factorial(n_A)*math.factorial(n_A)*math.factorial(n_A)*math.factorial(n_A))\n",
        "print(sequences)"
      ],
      "execution_count": 15,
      "outputs": [
        {
          "output_type": "stream",
          "text": [
            "29937600.0\n"
          ],
          "name": "stdout"
        }
      ]
    },
    {
      "cell_type": "markdown",
      "metadata": {
        "id": "cnapVuRXQ0ZR"
      },
      "source": [
        "## Variable types - integers and floating points\n",
        "Python variables have a type. This type determines its compatibility with different functions. Two basic variable types are integers and floating point numbers. Integers are for counting a discrete number of events or objects, whereas floating point numbers can take on fractional or decimal values. \n",
        "\n",
        "Define one of each and note the difference in how Python displays them. What does this tell you about the numbers generated in the exercises above? What happens when we don't specify variable type with int() and float(). Play around with it to find out.\n"
      ]
    },
    {
      "cell_type": "code",
      "metadata": {
        "colab": {
          "base_uri": "https://localhost:8080/"
        },
        "id": "VcZ1yTuSXG2X",
        "outputId": "70f02ebd-54f6-4a27-ce2a-9e21d87b7a4e"
      },
      "source": [
        "X = int(3) \n",
        "Y = float(5)\n",
        "print(X, Y)"
      ],
      "execution_count": null,
      "outputs": [
        {
          "output_type": "stream",
          "text": [
            "3 5.0\n"
          ],
          "name": "stdout"
        }
      ]
    },
    {
      "cell_type": "markdown",
      "metadata": {
        "id": "8grsXLjdgAbU"
      },
      "source": [
        "### redefining variables\n",
        "In programming, the equals-sign is a bit different from how we know it from math. In programming, an equals sign is used to \"assign\" a value to a variable name. This means that we can also re-assign a value to a variable name. So we are not making a truth statement when we write x = 3 + 4 in programming, we are simply defining x to be 3 + 4. "
      ]
    },
    {
      "cell_type": "code",
      "metadata": {
        "colab": {
          "base_uri": "https://localhost:8080/"
        },
        "id": "7OopgmXkhk5p",
        "outputId": "48fc002e-5dd0-417d-fd6c-7385d2c25c21"
      },
      "source": [
        "x = 3 + 4\n",
        "print(x)\n",
        "x = 90298374\n",
        "print(x)"
      ],
      "execution_count": 14,
      "outputs": [
        {
          "output_type": "stream",
          "text": [
            "7\n",
            "90298374\n"
          ],
          "name": "stdout"
        }
      ]
    },
    {
      "cell_type": "markdown",
      "metadata": {
        "id": "6vG55lV0hkON"
      },
      "source": [
        "This may or may not seem obvious to you, but it becomes even more important later when we begin iterating code, and a variable can start to take on different values depending on what stage the code is at as it is executing. \n"
      ]
    },
    {
      "cell_type": "markdown",
      "metadata": {
        "id": "o38aw8I0aGmk"
      },
      "source": [
        "## strings - a useful variable type for bioinformatics\n",
        "Strings are sequences of characters, and will thus be very important for bioinformatics. One of the basic properties of strings is that each character in them has a position or \"index\". Accessing particular characters or stretches of characters is called \"indexing\" or \"slicing\". Being able to manipulate and access different parts of strings is something we will keep returning to. Get some practice now and create some strings using the \" characters or the str() function."
      ]
    },
    {
      "cell_type": "code",
      "metadata": {
        "colab": {
          "base_uri": "https://localhost:8080/"
        },
        "id": "VKl_9uW1amSa",
        "outputId": "f2148fe7-9625-482a-f684-10293aca10f9"
      },
      "source": [
        "my_string = \"this is a string!\"\n",
        "my_string_2 = str(33457567)\n",
        "print(my_string)\n",
        "print(my_string_2)\n"
      ],
      "execution_count": 4,
      "outputs": [
        {
          "output_type": "stream",
          "text": [
            "this is a string!\n",
            "33457567\n"
          ],
          "name": "stdout"
        }
      ]
    },
    {
      "cell_type": "markdown",
      "metadata": {
        "id": "17xu3XbYavcl"
      },
      "source": [
        "Note how even though my_string_2 is a number, we will get an error if we try to perform arithmetic on it. That's because Python is treating it like a piece of text."
      ]
    },
    {
      "cell_type": "code",
      "metadata": {
        "id": "KK-HtRmkapYu"
      },
      "source": [
        "my_string_2 + 3"
      ],
      "execution_count": null,
      "outputs": []
    },
    {
      "cell_type": "markdown",
      "metadata": {
        "id": "RGhw3ldRa-GL"
      },
      "source": [
        "Use brackets to locate a character in a string based on its \"index\" i.e. if we counted each character starting with the number 0. Try retrieving the characters stored in indexes 4 and 3 from our two strings respectively."
      ]
    },
    {
      "cell_type": "code",
      "metadata": {
        "colab": {
          "base_uri": "https://localhost:8080/"
        },
        "id": "Wgd3FpaAa68_",
        "outputId": "024826bf-1b9e-4b1c-bb96-0002d87dc3a2"
      },
      "source": [
        "print(my_string[5])\n",
        "print(my_string_2[3])\n"
      ],
      "execution_count": 5,
      "outputs": [
        {
          "output_type": "stream",
          "text": [
            "i\n",
            "5\n"
          ],
          "name": "stdout"
        }
      ]
    },
    {
      "cell_type": "markdown",
      "metadata": {
        "id": "qgJpitpwecdz"
      },
      "source": [
        "To access characters from the end of the sequence instead of the beginning, use the negative numbers (-1 for the last character) in the brackets. "
      ]
    },
    {
      "cell_type": "code",
      "metadata": {
        "colab": {
          "base_uri": "https://localhost:8080/",
          "height": 35
        },
        "id": "1S5G4GGpebrR",
        "outputId": "34a9f642-3b02-4b90-8d54-3bedd742f669"
      },
      "source": [
        "my_string[-1]\n"
      ],
      "execution_count": null,
      "outputs": [
        {
          "output_type": "execute_result",
          "data": {
            "application/vnd.google.colaboratory.intrinsic+json": {
              "type": "string"
            },
            "text/plain": [
              "'!'"
            ]
          },
          "metadata": {
            "tags": []
          },
          "execution_count": 35
        }
      ]
    },
    {
      "cell_type": "markdown",
      "metadata": {
        "id": "3ir-EBCNevoK"
      },
      "source": [
        "Try slicing a string using the colon character. What is the output of my_string[:] We can select part of a string by creating a range with the colon. What is the output of my_string[0:4] What is the output of my_string[::-1].\n",
        "\n"
      ]
    },
    {
      "cell_type": "code",
      "metadata": {
        "colab": {
          "base_uri": "https://localhost:8080/"
        },
        "id": "yOoYHihAensg",
        "outputId": "a9f31681-0668-489f-ee87-0d12cfcf3057"
      },
      "source": [
        "print(my_string[:])\n",
        "print(my_string[0:6])\n",
        "print(my_string[::-1])\n"
      ],
      "execution_count": 6,
      "outputs": [
        {
          "output_type": "stream",
          "text": [
            "this is a string!\n",
            "this i\n",
            "!gnirts a si siht\n"
          ],
          "name": "stdout"
        }
      ]
    },
    {
      "cell_type": "markdown",
      "metadata": {
        "id": "Z87xSIYze1Oy"
      },
      "source": [
        "Play around with this a bit more until you feel comfortable with it. We will need to know how to access different parts of strings in the future. How would we reference, for example, the last 4 items, in reverse?"
      ]
    },
    {
      "cell_type": "code",
      "metadata": {
        "colab": {
          "base_uri": "https://localhost:8080/",
          "height": 35
        },
        "id": "7iTO4dhNbSdc",
        "outputId": "a2e5593f-70c2-4202-8f6e-bcf6a482bacc"
      },
      "source": [
        "my_string[-4:][::-1]"
      ],
      "execution_count": 10,
      "outputs": [
        {
          "output_type": "execute_result",
          "data": {
            "application/vnd.google.colaboratory.intrinsic+json": {
              "type": "string"
            },
            "text/plain": [
              "'!gni'"
            ]
          },
          "metadata": {
            "tags": []
          },
          "execution_count": 10
        }
      ]
    },
    {
      "cell_type": "markdown",
      "metadata": {
        "id": "_ZvXg41jr45m"
      },
      "source": [
        "## lists and numpy arrays - AKA non-visual spreadsheets\n",
        "Lists are another important variable type, and one of the most important data structures for scientific programming especially. A list is exactly what it sounds like - it is a list of python objects (e.g. a list of numbers or strings). Lists can even store other lists. So why so important? List are the variable that we will often use to store data, and processing that data therefore will involve operations performed on lists.\n",
        "\n",
        "for example:\n"
      ]
    },
    {
      "cell_type": "code",
      "metadata": {
        "id": "TgAVLcZ0KR2k",
        "colab": {
          "base_uri": "https://localhost:8080/"
        },
        "outputId": "117821c4-7fd4-407c-9883-7ea867b8d39f"
      },
      "source": [
        "example_a = [1, 3, 6, 329, 5]\n",
        "\n",
        "example_b = ['itema' , 'itemb' , 'blablabla']\n",
        "\n",
        "print(example_a, example_b)"
      ],
      "execution_count": 12,
      "outputs": [
        {
          "output_type": "stream",
          "text": [
            "[1, 3, 6, 329, 5] ['itema', 'itemb', 'blablabla']\n"
          ],
          "name": "stdout"
        }
      ]
    },
    {
      "cell_type": "markdown",
      "metadata": {
        "id": "q5xjiwvFdNaB"
      },
      "source": [
        "We use the same indexing rules as strings to access different parts of a list. For example to get items 0 through 3, we would use bracket notation again:"
      ]
    },
    {
      "cell_type": "code",
      "metadata": {
        "colab": {
          "base_uri": "https://localhost:8080/"
        },
        "id": "-_7t2gfedJyQ",
        "outputId": "fd3cf415-a5bf-47ea-de18-93d05e404922"
      },
      "source": [
        "example_a[0:3]"
      ],
      "execution_count": 13,
      "outputs": [
        {
          "output_type": "execute_result",
          "data": {
            "text/plain": [
              "[1, 3, 6]"
            ]
          },
          "metadata": {
            "tags": []
          },
          "execution_count": 13
        }
      ]
    },
    {
      "cell_type": "markdown",
      "metadata": {
        "id": "dRoG-HE1eEgx"
      },
      "source": [
        "Note above how item 3 is omitted (items 0, 1, and 2 were returned), and the first item is actually numbered as item 0 and not 1. To not get confused, try to refer to things by their item or element number (e.g. item 0 or item 25) instead of the more ambiguous term \"first item\". It's not a hard rule, and you will see it written ambigously often, but for your own mental clarity it can be good to have a convention!"
      ]
    },
    {
      "cell_type": "markdown",
      "metadata": {
        "id": "6XVlh3KR-qSP"
      },
      "source": [
        "### numpy - a powerful library for dealing with array-like structures\n",
        "In addition to lists, scientific programming in Python increasingly relies on an external library called \"numpy\". Numpy, like the math library, is imported with an import statement \"import numpy\" and for brevity we will use the convention of renaming it to \"np\". That way when we use functions, we will type np.functionname() instead of numpy.functionname(). This is not strictly required, but it is a common convention among scientific programmers and saves a bit of typing."
      ]
    },
    {
      "cell_type": "code",
      "metadata": {
        "id": "rcz4aOKj-7Jw"
      },
      "source": [
        "import numpy as np"
      ],
      "execution_count": 70,
      "outputs": []
    },
    {
      "cell_type": "markdown",
      "metadata": {
        "id": "OklRQjnI_Vwp"
      },
      "source": [
        "Now numpy lets us make a list-like data structure called an \"array\". It is almost identical - a sequential structure of numbers or other objects. Let's make one using the array() function, which takes a list format as its input, for example:"
      ]
    },
    {
      "cell_type": "code",
      "metadata": {
        "colab": {
          "base_uri": "https://localhost:8080/"
        },
        "id": "jq-slSUV_2Mh",
        "outputId": "78350c4c-5a6d-4471-f75a-c44bd39a591c"
      },
      "source": [
        "my_array1 = np.array([1,4,6,7,45,7,2,4,667,45,23,47,245])\n",
        "my_array2 = np.array([\"DNA\", \"protein\", \"RNA\"])\n",
        "my_array3 = np.array([my_array1, my_array1, my_array1])\n",
        "print(my_array1[:5])\n",
        "print(my_array3)"
      ],
      "execution_count": 83,
      "outputs": [
        {
          "output_type": "stream",
          "text": [
            "[ 1  4  6  7 45]\n",
            "[[  1   4   6   7  45   7   2   4 667  45  23  47 245]\n",
            " [  1   4   6   7  45   7   2   4 667  45  23  47 245]\n",
            " [  1   4   6   7  45   7   2   4 667  45  23  47 245]]\n"
          ],
          "name": "stdout"
        }
      ]
    },
    {
      "cell_type": "markdown",
      "metadata": {
        "id": "xz83IvvsAaoP"
      },
      "source": [
        "So what's the difference between this and lists you ask? Mainly it comes down to performance and scientific functionality. Numpy functions are implemented in lower-level code and thus get processed faster and occupy less memory than lists - this becomes important when dealing with large data and longer programs. Numpy also comes with a host of additional scientific computing functions that are indispensible when dealing with data. Let's try a few of them now:"
      ]
    },
    {
      "cell_type": "code",
      "metadata": {
        "colab": {
          "base_uri": "https://localhost:8080/"
        },
        "id": "BTmOmfqDAp_a",
        "outputId": "241667fa-303e-4cc0-c894-cd072a211833"
      },
      "source": [
        "my_standard_deviation = np.std(my_array1)\n",
        "my_mean = np.average(my_array1)\n",
        "my_count = np.size(my_array1)\n",
        "my_max = np.max(my_array1)\n",
        "my_min = np.min(my_array1)\n",
        "print([my_standard_deviation, my_mean, my_count,my_max,my_min])\n"
      ],
      "execution_count": 94,
      "outputs": [
        {
          "output_type": "stream",
          "text": [
            "[179.37663262354144, 84.84615384615384, 13, 667, 1]\n"
          ],
          "name": "stdout"
        }
      ]
    },
    {
      "cell_type": "markdown",
      "metadata": {
        "id": "G75Dba4Ve3MH"
      },
      "source": [
        "## loops - the most important concept concept in all of programming\n",
        "\n",
        "A loop is a programming operation that repeats a block of code with inputs that change upon each iteration. The most commonly used type of loop is the \"for loop\" which requires that we specify how many times a code block is repeated. Try playing with the values of the inputs on the example below and observing what happens to the output."
      ]
    },
    {
      "cell_type": "code",
      "metadata": {
        "id": "9Guao6eZeA0B"
      },
      "source": [
        "A = 10\n",
        "number_of_repeats = 5\n",
        "\n",
        "for i in [1,2,0,0,4]:\n",
        "    A = A + i\n",
        "    print(A)\n",
        "print(\"the final value of A is\", A)"
      ],
      "execution_count": null,
      "outputs": []
    },
    {
      "cell_type": "markdown",
      "metadata": {
        "id": "e7EGv8POeECQ"
      },
      "source": [
        "Here \"i\" is the iterator, the variable that changes with each run of the loop. We supplied the loop with a list [1,2,0,0,4] and on each iteration, the variable i will take on a value from the list. On the first iteration i is 1, then on the second it is 2, then 0, and so on. \n",
        "\n",
        "Each time A gets redefined as whatever it was at the beginning of the latest iteration plus the changing value of i. \n",
        "\n",
        "Note also the syntax: the word \"for\" followed by a space, the name of the iterator (\"i\" in this case, but we could call it anything we want), the word \"in\", the list supplied, and the colon at the end. Everything happening \"inside\" the loop is indented with 4 spaces. Anything indented gets executed during the multiple times the loop is repeated. The indentation is, unlike some languages, part of the syntax and you will get errors if you ignore indentation or do it carelessly (e.g. adding the wrong number of spaces). The last print statement at the end of the code, which is not indented, only gets executed once since it is \"outside\" the loop. Note how the color of the text changes automatically indicating that the editor has recognized the loop syntax."
      ]
    },
    {
      "cell_type": "markdown",
      "metadata": {
        "id": "l12dOdkJmKJb"
      },
      "source": [
        "Since this is so important, let's do another one. The loop below will help us calculate a factorial. $N! = N(N-1)(N-2)...(1)$ We will introduce another helpful tool here which is the range() function. This simply makes a list of integers from a starting point $n_0,  n_0 + 1, n_0 + 2...$ to an endpoint $n_{final}$. Instead of manually supplying a list as we did in the loop above, this time we will simply generate a list of integers with range()."
      ]
    },
    {
      "cell_type": "code",
      "metadata": {
        "id": "4rHIhfCcmJhm"
      },
      "source": [
        "base = 7\n",
        "factorial = base\n",
        "multiplier = base\n",
        "for i in range(0,base-1):\n",
        "  multiplier = multiplier - 1\n",
        "  factorial = factorial*multiplier\n",
        "  print(factorial)\n",
        "\n",
        "print(\"the final computed factorial of \", base, \" is \", factorial)"
      ],
      "execution_count": null,
      "outputs": []
    },
    {
      "cell_type": "markdown",
      "metadata": {
        "id": "thELm7V_pfcT"
      },
      "source": [
        "Let's unpack this a bit. First of all, what exactly is the range(0,base-1) line that we mentioned above? Try running it in isolation on your own to see. It's just a list, so like the earlier example, we are specifying what values the iterator variable will take on as it repeats the loop each time.\n",
        "\n",
        "Then let's look at what happens to the variable that we called \"multiplier\". At the beginning of the program its value is 7. But then as we go through the loop, it gets redefined as itself minus 1. Since it happens multiple times, what do you think the value of \"multiplier\" is after the whole program is done? You can check for yourself. What part of the original mathematical formula $N! = N(N-1)(N-2)...(1)$ does the \"multiplier\" variable correspond to?\n",
        "\n",
        "Finally, what about the variable called \"factorial\". We see that in the beginning, we just set it equal to the same value as that of \"base\". But its value, like \"multiplier\", changes as the loop is repeated. In the end, it ends up taking on the value of the answer - i.e. the factorial value that we wanted to compute in the first place. What part of the equation $N! = N(N-1)(N-2)...(1)$ does this factorial variable correpond to during the execution? \n"
      ]
    },
    {
      "cell_type": "markdown",
      "metadata": {
        "id": "vlyhpFcIrwAp"
      },
      "source": [
        "## problem 2 - choose your own adventure - do either 1. or 2. \n",
        "**1. Write a program that uses a loop to compute the $nth$ triangle number (as in Pascal's triangle) $\\sum_{n=1}^{k} n = 1 +2+3+\\ldots+k$. For example, the 5th triangle number would be computed by 5 + 4 + 3 + 2 + 1 = 15.**  \n",
        "**2. Write a program that uses a loop to compute the $nth$ Fibonnaci number: $F_n = F_{n-1} + F_{n-2}$. For example, $F_6$ would be computed by: 5 + 3 = 8, since $F_5$ = 5 and was computed by 3 + 2 = 5, and so on...**"
      ]
    },
    {
      "cell_type": "code",
      "metadata": {
        "id": "tfGSMOLVzeaH"
      },
      "source": [
        "base = 6\n",
        "triangle = base\n",
        "adder = base\n",
        "for i in range(0,base-1):\n",
        "  adder = adder - 1\n",
        "  triangle = triangle + adder\n",
        "  print(triangle)\n",
        "print(\"the final computed triangle number of \", base, \" is \", triangle)  "
      ],
      "execution_count": null,
      "outputs": []
    },
    {
      "cell_type": "code",
      "metadata": {
        "id": "AQW0OoUT0vOL"
      },
      "source": [
        "base = 10\n",
        "F_n = 0\n",
        "F_nm1 = 1\n",
        "F_nm2 = 1\n",
        "for i in range(2, base):\n",
        "  F_n = F_nm1 + F_nm2\n",
        "  F_nm2 = F_nm1\n",
        "  F_nm1 = F_n  \n",
        "  print(F_n)\n",
        "\n",
        "print(\"the \", base, \"th Fibonacci number is \", F_n)"
      ],
      "execution_count": null,
      "outputs": []
    },
    {
      "cell_type": "markdown",
      "metadata": {
        "id": "IH27zjrPrOA2"
      },
      "source": [
        "## dealing with data\n",
        "Now we're finally able to start doing some scientific programming. You now know how to make strings and lists and you hopefully have an idea of what a loop is and how it works. Now we will try to put these ideas together to do some basic data processing. Let's start with a classic excel-spreadsheet-kind-of-problem, except instead of using a spreadsheet, we will do everything with lists. This can be a bit of an adjustment, but once you master this, your powers will go beyond what spreadsheets allow. \n"
      ]
    },
    {
      "cell_type": "markdown",
      "metadata": {
        "id": "7DkqLuNs4IYN"
      },
      "source": [
        "### fetching our data and assigning it to a variable\n",
        "Let's start by fetching some experimental data. The following block of code is a bit complicated due to our online situation, so feel free to simply run it with ctrl-enter and then ignore the details of the code itself as in most practical scenarios you will be working with local files on your own computer. The main point is that we are creating a variable with our data in it. The data comes from a capillary electrophoresis run - essentially the detected signal of fluorescently-labeled DNA forced to separate by size as its transits through a porous gel.\n",
        "\n",
        "For those interested though: The following block will first download our course content to Google's server (checking first if it has already been downloaded and skipping that step if it has). Then we use the sys library to add the downloaded folder to Python's list of directories that it checks automatically for content (the so-called \"PATH\"). Then we will use a handy numpy function to load a text file in that folder and store it automatically as a numpy array."
      ]
    },
    {
      "cell_type": "code",
      "metadata": {
        "id": "y84BzM1Jnm8c"
      },
      "source": [
        "import os.path\n",
        "import sys\n",
        "from os import path\n",
        "import numpy as np\n",
        "\n",
        "if path.exists(\"/content/bioinformatics_stockholm/\"):\n",
        "    pass\n",
        "else:\n",
        "    !git clone https://github.com/Intertangler/bioinformatics_stockholm\n",
        "sys.path.insert(0,'/content')\n",
        "data = np.loadtxt('/content/bioinformatics_stockholm/bioanalyzer_simple_data.txt')"
      ],
      "execution_count": 108,
      "outputs": []
    },
    {
      "cell_type": "markdown",
      "metadata": {
        "id": "2A7MuPESC4ie"
      },
      "source": [
        "Before we do anything fancy, get comfortable with the data. First of all, just try printing it out to see how it looks:\n",
        "\n",
        "\n",
        "\n"
      ]
    },
    {
      "cell_type": "code",
      "metadata": {
        "id": "4LTPpmBCDyaJ"
      },
      "source": [
        "print(data)"
      ],
      "execution_count": null,
      "outputs": []
    },
    {
      "cell_type": "markdown",
      "metadata": {
        "id": "mpt-9UONDyz3"
      },
      "source": [
        "To not kill the browser with big datasets, the editor has automatically truncated the printed data with ...\n",
        "\n",
        "But already what can we observe about it?  Remember that it is a numpy array. In this case though, it is an array of arrays. That is because we have both x and y data, just as if we had two adjacent rows in a spreadsheet. You can tell from the printed out that it is two arrays from the form $[[\\dots],[\\dots]]$. \n",
        "\n",
        "We can use the numpy shape function to see exactly what the dimensions are:"
      ]
    },
    {
      "cell_type": "code",
      "metadata": {
        "colab": {
          "base_uri": "https://localhost:8080/"
        },
        "id": "n3zl5CNjDTSb",
        "outputId": "2b4cfa99-e8fb-4772-d63f-7824c4a67447"
      },
      "source": [
        "np.shape(data)"
      ],
      "execution_count": 91,
      "outputs": [
        {
          "output_type": "execute_result",
          "data": {
            "text/plain": [
              "(2, 3699)"
            ]
          },
          "metadata": {
            "tags": []
          },
          "execution_count": 91
        }
      ]
    },
    {
      "cell_type": "markdown",
      "metadata": {
        "id": "SWppJGDCDnkK"
      },
      "source": [
        "From the np.shape() output, we see that it is a 2x3699 2D matrix essentially. In other words it is 2 rows, 3699 columns. Or another way to think of it is it is one array with two 3699-element-long 1D arrays. \n",
        "\n",
        "Let's print out row0 to see what it looks like:\n",
        "\n"
      ]
    },
    {
      "cell_type": "code",
      "metadata": {
        "colab": {
          "base_uri": "https://localhost:8080/"
        },
        "id": "NzdmL3pRLxtZ",
        "outputId": "c04f19db-b3a3-43d3-8d9a-eaa9215a8b04"
      },
      "source": [
        "data[0]"
      ],
      "execution_count": 98,
      "outputs": [
        {
          "output_type": "execute_result",
          "data": {
            "text/plain": [
              "array([ 50.  ,  50.05,  50.1 , ..., 234.8 , 234.85, 234.9 ])"
            ]
          },
          "metadata": {
            "tags": []
          },
          "execution_count": 98
        }
      ]
    },
    {
      "cell_type": "markdown",
      "metadata": {
        "id": "9hdLh5ZhLqM1"
      },
      "source": [
        "We already learned about using indexes (the bracket [  ] notation) to fetch items stored in specific positions in arrays and lists. Now we are faced with the slightly more complex situation of an array of arrays. The intuition is straightfoward though - if we want to fetch from row 0 the item stored in position 10 we would simply do:\n",
        " "
      ]
    },
    {
      "cell_type": "code",
      "metadata": {
        "colab": {
          "base_uri": "https://localhost:8080/"
        },
        "id": "scbFzsg6Kz-4",
        "outputId": "cf51eae5-6a9b-4f50-ad67-576e0fb0cbdb"
      },
      "source": [
        "data[0][10]"
      ],
      "execution_count": 95,
      "outputs": [
        {
          "output_type": "execute_result",
          "data": {
            "text/plain": [
              "50.5"
            ]
          },
          "metadata": {
            "tags": []
          },
          "execution_count": 95
        }
      ]
    },
    {
      "cell_type": "markdown",
      "metadata": {
        "id": "4Ypk-gBTK4nf"
      },
      "source": [
        "This makes sense because data[0] produces the row 0 array, and we are simply indexing from *that* array instead of the original one. For example, we could split it up a bit more:"
      ]
    },
    {
      "cell_type": "code",
      "metadata": {
        "colab": {
          "base_uri": "https://localhost:8080/"
        },
        "id": "ovgCavpPLOij",
        "outputId": "f92cef5b-5614-49d1-e3a1-dae238002960"
      },
      "source": [
        "zeroth_row = data[0]\n",
        "item_ten = zeroth_row[10]\n",
        "print(item_ten)"
      ],
      "execution_count": 96,
      "outputs": [
        {
          "output_type": "stream",
          "text": [
            "50.5\n"
          ],
          "name": "stdout"
        }
      ]
    },
    {
      "cell_type": "markdown",
      "metadata": {
        "id": "8bmTDUHJLgcX"
      },
      "source": [
        "Now for a more tricky operation. We know that our data is essentially a 2x3699 matrix. And we know that we can pull out whole rows with the first set of indices as we did with data[0] or could do with data[1] to fetch the other of the two rows. But what if I asked you to fetch the column at position 581, for example. In other words I want a 2-element long stretch of both rows located at position 581 on the second axis of the matrix instead of the first. \n",
        "\n",
        "One solution is to simply transpose the matrix - basically making the columns into rows and the rows into columns. But a more efficient way is to use matrix-style indexing. In the brackets we put a : to indicate that we want all elements then a comma and the number of the axis we want to sample elements from.\n",
        "\n",
        "So to get column 581 we would write data[:, 581]"
      ]
    },
    {
      "cell_type": "code",
      "metadata": {
        "colab": {
          "base_uri": "https://localhost:8080/"
        },
        "id": "gkdu5yx76vOX",
        "outputId": "3dd808f6-ef74-48c1-9629-b1f09a3258e9"
      },
      "source": [
        "one_way_to_do_it = np.transpose(data)[581] \n",
        "simpler_way = data[:, 581]\n",
        "print(one_way_to_do_it, simpler_way)"
      ],
      "execution_count": 109,
      "outputs": [
        {
          "output_type": "stream",
          "text": [
            "[ 7.905000e+01 -2.991486e-02] [ 7.905000e+01 -2.991486e-02]\n"
          ],
          "name": "stdout"
        }
      ]
    },
    {
      "cell_type": "markdown",
      "metadata": {
        "id": "eNoKuxaaN0Kq"
      },
      "source": [
        "It can sometimes be hard to remember the order though. Do we write [:, 581] or [581, :]? Try the second on and we get an error because, of course, there are only 2 rows and row 581 doesn't make sense. The convention of **R**ow, **C**olumn is standard though - it might help to know the mnemonic \"**R**oman **C**enturion\". In other words we know what to write because, in this case, we want all **R**ows (:) and **C**olumn 581 or data[:, 581]"
      ]
    },
    {
      "cell_type": "markdown",
      "metadata": {
        "id": "6eK8NxAmGdaM"
      },
      "source": [
        "We can use statistics numpy functions that we learned early on the data too. Try computing the average of row 1. What's the largest value of the last 100 items of row 2? Play around with it until you feel that you can \"wield\" the data. Often you will face situations where a bug in your code is due to improper indexing, so an extra five minutes to really get this will pay off in the long run."
      ]
    },
    {
      "cell_type": "markdown",
      "metadata": {
        "id": "Stc7jFAYRRs_"
      },
      "source": [
        "### visualizing data with matplotlib\n",
        "One of the most common scientific tasks is to plot some data. Many people would do this using a spreadsheet, but we can just as easily do this with Python. We will use another external library called \"matplotlib\" and its module \"pyplot\" that we will abbreviate as \"plt\". Matplotlib comes with many different functions for producing different types of graphs - 2D, 3D, scatter, surface, line plots, bargraphs, histograms, etc... It is highly customizable, so while you can easily produce a default style graph, by feeding the right commands you can make very elaborate and often beautiful visualizations of data. Usually this involves some intensive Googling to find the right combination of commands and examples to achieve your goal.\n",
        "\n",
        "\n",
        "Let's start with a simple line plot using the plot() function from pyplot. It takes as its inputs a list or array of x-datapoints and the array of y-datapoints. Further down, we have a couple lines which add peak detection to the plot. In this case, we are using an external library \"scipy\" to get this helpful functionality. This is not something you should \"know\" how to do, but more along the lines of the type of thing you can Google to solve. Search, for example for: \"how to identify peaks in data with Python\" and one gets directed to this function. We can then use a scatter plot (overlaid on top of our line plot of the actual data, to pinpoint the peaks where they occur)."
      ]
    },
    {
      "cell_type": "code",
      "metadata": {
        "colab": {
          "base_uri": "https://localhost:8080/",
          "height": 296
        },
        "id": "ZiqRgONBTAqD",
        "outputId": "2b51861e-29c1-4e92-df3d-a1264d37b0a3"
      },
      "source": [
        "import matplotlib.pyplot as plt\n",
        "\n",
        "position  = data[0]\n",
        "intensity = data[1]\n",
        "plt.plot(position, intensity)\n",
        "plt.xlabel('time')\n",
        "plt.ylabel('intesity')\n",
        "\n",
        "peak_locations, peak_heights = find_peaks(intensity, distance=1, height=(100, 2000))\n",
        "plt.scatter(position[peaks], intensity[peaks],color='magenta',marker='x')"
      ],
      "execution_count": 130,
      "outputs": [
        {
          "output_type": "execute_result",
          "data": {
            "text/plain": [
              "<matplotlib.collections.PathCollection at 0x7f081492e860>"
            ]
          },
          "metadata": {
            "tags": []
          },
          "execution_count": 130
        },
        {
          "output_type": "display_data",
          "data": {
            "image/png": "[encoded data removed]",
            "text/plain": [
              "<Figure size 432x288 with 1 Axes>"
            ]
          },
          "metadata": {
            "tags": [],
            "needs_background": "light"
          }
        }
      ]
    },
    {
      "cell_type": "markdown",
      "metadata": {
        "id": "XcJspEIYTjfU"
      },
      "source": [
        "## problem 3\n",
        "\n"
      ]
    },
    {
      "cell_type": "code",
      "metadata": {
        "colab": {
          "base_uri": "https://localhost:8080/"
        },
        "id": "zSxwiMDo7VWy",
        "outputId": "18bd1975-f615-49a4-d010-4b7af7bf7c44"
      },
      "source": [
        "asdf"
      ],
      "execution_count": 128,
      "outputs": [
        {
          "output_type": "execute_result",
          "data": {
            "text/plain": [
              "{'peak_heights': array([429.6837, 280.5497, 337.1772, 352.0167, 354.2703, 360.3514,\n",
              "        353.275 , 342.8007, 286.3918, 418.1601])}"
            ]
          },
          "metadata": {
            "tags": []
          },
          "execution_count": 128
        }
      ]
    },
    {
      "cell_type": "code",
      "metadata": {
        "colab": {
          "base_uri": "https://localhost:8080/"
        },
        "id": "NZ6cDsDInUHW",
        "outputId": "48346e18-e557-4d74-fce1-da0d155438f8"
      },
      "source": [
        "peaks"
      ],
      "execution_count": 120,
      "outputs": [
        {
          "output_type": "execute_result",
          "data": {
            "text/plain": [
              "array([ 722, 1090, 1525, 1890, 2299, 2690, 2859, 2969, 3077, 3171])"
            ]
          },
          "metadata": {
            "tags": []
          },
          "execution_count": 120
        }
      ]
    },
    {
      "cell_type": "markdown",
      "metadata": {
        "id": "1z4GA3oKCvhx"
      },
      "source": [
        ""
      ]
    }
  ]
}